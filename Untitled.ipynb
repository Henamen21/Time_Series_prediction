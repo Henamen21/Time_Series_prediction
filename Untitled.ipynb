{
 "cells": [
  {
   "cell_type": "code",
   "execution_count": 1,
   "id": "482c047f",
   "metadata": {},
   "outputs": [],
   "source": [
    "# For loading data and related works\n",
    "import numpy as np\n",
    "import pandas as pd\n",
    "\n",
    "# For controlling warnings\n",
    "import warnings\n",
    "\n",
    "# For data visualizatioon\n",
    "import matplotlib.pyplot as plt\n",
    "import seaborn as sns\n",
    "import plotly.express as px\n",
    "\n",
    "# For connecting to the database\n",
    "import pyodbc\n",
    "\n",
    "# For stating hypothesis\n",
    "import scipy.stats as stats\n",
    "from statsmodels.tsa.stattools import adfuller\n",
    "\n",
    "# For feature encoding\n",
    "from sklearn.compose import make_column_selector as selector\n",
    "from sklearn.preprocessing import StandardScaler, OrdinalEncoder\n",
    "from sklearn.compose import ColumnTransformer\n",
    "\n",
    "# For data balancing\n",
    "from imblearn.over_sampling import SMOTE\n",
    "\n",
    "# For data spliting\n",
    "from sklearn.model_selection import train_test_split\n",
    "\n",
    "# For operating system\n",
    "import os\n",
    "import pickle\n",
    "\n",
    "# For hidding sensitive datas\n",
    "from dotenv import load_dotenv, dotenv_values\n",
    "\n",
    "warnings.filterwarnings('ignore')"
   ]
  },
  {
   "cell_type": "code",
   "execution_count": 2,
   "id": "213829c4",
   "metadata": {},
   "outputs": [],
   "source": [
    "data = pd.read_csv(\"data_train2.csv\")"
   ]
  },
  {
   "cell_type": "code",
   "execution_count": 3,
   "id": "995a823d",
   "metadata": {},
   "outputs": [
    {
     "data": {
      "text/html": [
       "<div>\n",
       "<style scoped>\n",
       "    .dataframe tbody tr th:only-of-type {\n",
       "        vertical-align: middle;\n",
       "    }\n",
       "\n",
       "    .dataframe tbody tr th {\n",
       "        vertical-align: top;\n",
       "    }\n",
       "\n",
       "    .dataframe thead th {\n",
       "        text-align: right;\n",
       "    }\n",
       "</style>\n",
       "<table border=\"1\" class=\"dataframe\">\n",
       "  <thead>\n",
       "    <tr style=\"text-align: right;\">\n",
       "      <th></th>\n",
       "      <th>date</th>\n",
       "      <th>store_nbr</th>\n",
       "      <th>city</th>\n",
       "      <th>state</th>\n",
       "      <th>type</th>\n",
       "      <th>cluster</th>\n",
       "      <th>id</th>\n",
       "      <th>family</th>\n",
       "      <th>sales</th>\n",
       "      <th>onpromotion</th>\n",
       "      <th>holiday_type</th>\n",
       "      <th>locale</th>\n",
       "      <th>locale_name</th>\n",
       "      <th>description</th>\n",
       "      <th>transferred</th>\n",
       "      <th>dcoilwtico</th>\n",
       "    </tr>\n",
       "  </thead>\n",
       "  <tbody>\n",
       "    <tr>\n",
       "      <th>0</th>\n",
       "      <td>2013-01-01</td>\n",
       "      <td>1</td>\n",
       "      <td>Quito</td>\n",
       "      <td>Pichincha</td>\n",
       "      <td>D</td>\n",
       "      <td>13</td>\n",
       "      <td>0</td>\n",
       "      <td>AUTOMOTIVE</td>\n",
       "      <td>0.0</td>\n",
       "      <td>0</td>\n",
       "      <td>Holiday</td>\n",
       "      <td>National</td>\n",
       "      <td>Ecuador</td>\n",
       "      <td>Primer dia del ano</td>\n",
       "      <td>False</td>\n",
       "      <td>NaN</td>\n",
       "    </tr>\n",
       "    <tr>\n",
       "      <th>1</th>\n",
       "      <td>2013-01-01</td>\n",
       "      <td>1</td>\n",
       "      <td>Quito</td>\n",
       "      <td>Pichincha</td>\n",
       "      <td>D</td>\n",
       "      <td>13</td>\n",
       "      <td>1</td>\n",
       "      <td>BABY CARE</td>\n",
       "      <td>0.0</td>\n",
       "      <td>0</td>\n",
       "      <td>Holiday</td>\n",
       "      <td>National</td>\n",
       "      <td>Ecuador</td>\n",
       "      <td>Primer dia del ano</td>\n",
       "      <td>False</td>\n",
       "      <td>NaN</td>\n",
       "    </tr>\n",
       "    <tr>\n",
       "      <th>2</th>\n",
       "      <td>2013-01-01</td>\n",
       "      <td>1</td>\n",
       "      <td>Quito</td>\n",
       "      <td>Pichincha</td>\n",
       "      <td>D</td>\n",
       "      <td>13</td>\n",
       "      <td>2</td>\n",
       "      <td>BEAUTY</td>\n",
       "      <td>0.0</td>\n",
       "      <td>0</td>\n",
       "      <td>Holiday</td>\n",
       "      <td>National</td>\n",
       "      <td>Ecuador</td>\n",
       "      <td>Primer dia del ano</td>\n",
       "      <td>False</td>\n",
       "      <td>NaN</td>\n",
       "    </tr>\n",
       "    <tr>\n",
       "      <th>3</th>\n",
       "      <td>2013-01-01</td>\n",
       "      <td>1</td>\n",
       "      <td>Quito</td>\n",
       "      <td>Pichincha</td>\n",
       "      <td>D</td>\n",
       "      <td>13</td>\n",
       "      <td>3</td>\n",
       "      <td>BEVERAGES</td>\n",
       "      <td>0.0</td>\n",
       "      <td>0</td>\n",
       "      <td>Holiday</td>\n",
       "      <td>National</td>\n",
       "      <td>Ecuador</td>\n",
       "      <td>Primer dia del ano</td>\n",
       "      <td>False</td>\n",
       "      <td>NaN</td>\n",
       "    </tr>\n",
       "    <tr>\n",
       "      <th>4</th>\n",
       "      <td>2013-01-01</td>\n",
       "      <td>1</td>\n",
       "      <td>Quito</td>\n",
       "      <td>Pichincha</td>\n",
       "      <td>D</td>\n",
       "      <td>13</td>\n",
       "      <td>4</td>\n",
       "      <td>BOOKS</td>\n",
       "      <td>0.0</td>\n",
       "      <td>0</td>\n",
       "      <td>Holiday</td>\n",
       "      <td>National</td>\n",
       "      <td>Ecuador</td>\n",
       "      <td>Primer dia del ano</td>\n",
       "      <td>False</td>\n",
       "      <td>NaN</td>\n",
       "    </tr>\n",
       "  </tbody>\n",
       "</table>\n",
       "</div>"
      ],
      "text/plain": [
       "         date  store_nbr   city      state type  cluster  id      family  \\\n",
       "0  2013-01-01          1  Quito  Pichincha    D       13   0  AUTOMOTIVE   \n",
       "1  2013-01-01          1  Quito  Pichincha    D       13   1   BABY CARE   \n",
       "2  2013-01-01          1  Quito  Pichincha    D       13   2      BEAUTY   \n",
       "3  2013-01-01          1  Quito  Pichincha    D       13   3   BEVERAGES   \n",
       "4  2013-01-01          1  Quito  Pichincha    D       13   4       BOOKS   \n",
       "\n",
       "   sales  onpromotion holiday_type    locale locale_name         description  \\\n",
       "0    0.0            0      Holiday  National     Ecuador  Primer dia del ano   \n",
       "1    0.0            0      Holiday  National     Ecuador  Primer dia del ano   \n",
       "2    0.0            0      Holiday  National     Ecuador  Primer dia del ano   \n",
       "3    0.0            0      Holiday  National     Ecuador  Primer dia del ano   \n",
       "4    0.0            0      Holiday  National     Ecuador  Primer dia del ano   \n",
       "\n",
       "   transferred  dcoilwtico  \n",
       "0        False         NaN  \n",
       "1        False         NaN  \n",
       "2        False         NaN  \n",
       "3        False         NaN  \n",
       "4        False         NaN  "
      ]
     },
     "execution_count": 3,
     "metadata": {},
     "output_type": "execute_result"
    }
   ],
   "source": [
    "data.head()"
   ]
  },
  {
   "cell_type": "code",
   "execution_count": 4,
   "id": "a20fb5b4",
   "metadata": {},
   "outputs": [
    {
     "data": {
      "text/plain": [
       "<AxesSubplot:xlabel='date'>"
      ]
     },
     "execution_count": 4,
     "metadata": {},
     "output_type": "execute_result"
    },
    {
     "data": {
      "image/png": "[encoded data removed]",
      "text/plain": [
       "<Figure size 640x480 with 1 Axes>"
      ]
     },
     "metadata": {},
     "output_type": "display_data"
    }
   ],
   "source": [
    "d = data.set_index(\"date\")\n",
    "d[\"2013\" : \"2014\"].sales.plot()"
   ]
  },
  {
   "cell_type": "code",
   "execution_count": 5,
   "id": "405dcd9b",
   "metadata": {},
   "outputs": [],
   "source": [
    "basic_columns = [\"store_nbr\" , \"family\" , \"sales\" , \"onpromotion\" , \"date\" ]"
   ]
  },
  {
   "cell_type": "code",
   "execution_count": 6,
   "id": "b62af146",
   "metadata": {},
   "outputs": [
    {
     "data": {
      "text/html": [
       "<div>\n",
       "<style scoped>\n",
       "    .dataframe tbody tr th:only-of-type {\n",
       "        vertical-align: middle;\n",
       "    }\n",
       "\n",
       "    .dataframe tbody tr th {\n",
       "        vertical-align: top;\n",
       "    }\n",
       "\n",
       "    .dataframe thead th {\n",
       "        text-align: right;\n",
       "    }\n",
       "</style>\n",
       "<table border=\"1\" class=\"dataframe\">\n",
       "  <thead>\n",
       "    <tr style=\"text-align: right;\">\n",
       "      <th></th>\n",
       "      <th>store_nbr</th>\n",
       "      <th>family</th>\n",
       "      <th>sales</th>\n",
       "      <th>onpromotion</th>\n",
       "    </tr>\n",
       "    <tr>\n",
       "      <th>date</th>\n",
       "      <th></th>\n",
       "      <th></th>\n",
       "      <th></th>\n",
       "      <th></th>\n",
       "    </tr>\n",
       "  </thead>\n",
       "  <tbody>\n",
       "    <tr>\n",
       "      <th>2013-01-01</th>\n",
       "      <td>1</td>\n",
       "      <td>AUTOMOTIVE</td>\n",
       "      <td>0.0</td>\n",
       "      <td>0</td>\n",
       "    </tr>\n",
       "    <tr>\n",
       "      <th>2013-01-01</th>\n",
       "      <td>1</td>\n",
       "      <td>BABY CARE</td>\n",
       "      <td>0.0</td>\n",
       "      <td>0</td>\n",
       "    </tr>\n",
       "    <tr>\n",
       "      <th>2013-01-01</th>\n",
       "      <td>1</td>\n",
       "      <td>BEAUTY</td>\n",
       "      <td>0.0</td>\n",
       "      <td>0</td>\n",
       "    </tr>\n",
       "    <tr>\n",
       "      <th>2013-01-01</th>\n",
       "      <td>1</td>\n",
       "      <td>BEVERAGES</td>\n",
       "      <td>0.0</td>\n",
       "      <td>0</td>\n",
       "    </tr>\n",
       "    <tr>\n",
       "      <th>2013-01-01</th>\n",
       "      <td>1</td>\n",
       "      <td>BOOKS</td>\n",
       "      <td>0.0</td>\n",
       "      <td>0</td>\n",
       "    </tr>\n",
       "  </tbody>\n",
       "</table>\n",
       "</div>"
      ],
      "text/plain": [
       "            store_nbr      family  sales  onpromotion\n",
       "date                                                 \n",
       "2013-01-01          1  AUTOMOTIVE    0.0            0\n",
       "2013-01-01          1   BABY CARE    0.0            0\n",
       "2013-01-01          1      BEAUTY    0.0            0\n",
       "2013-01-01          1   BEVERAGES    0.0            0\n",
       "2013-01-01          1       BOOKS    0.0            0"
      ]
     },
     "execution_count": 6,
     "metadata": {},
     "output_type": "execute_result"
    }
   ],
   "source": [
    "data = data.reset_index()\n",
    "main_data = data[basic_columns]\n",
    "main_data = main_data.set_index(\"date\")\n",
    "main_data.head()"
   ]
  },
  {
   "cell_type": "markdown",
   "id": "cc8aa9a5",
   "metadata": {},
   "source": [
    "# completing missed dates"
   ]
  },
  {
   "cell_type": "code",
   "execution_count": 7,
   "id": "7eb43b6b",
   "metadata": {},
   "outputs": [
    {
     "data": {
      "text/html": [
       "<div>\n",
       "<style scoped>\n",
       "    .dataframe tbody tr th:only-of-type {\n",
       "        vertical-align: middle;\n",
       "    }\n",
       "\n",
       "    .dataframe tbody tr th {\n",
       "        vertical-align: top;\n",
       "    }\n",
       "\n",
       "    .dataframe thead th {\n",
       "        text-align: right;\n",
       "    }\n",
       "</style>\n",
       "<table border=\"1\" class=\"dataframe\">\n",
       "  <thead>\n",
       "    <tr style=\"text-align: right;\">\n",
       "      <th></th>\n",
       "      <th>store_nbr</th>\n",
       "      <th>family</th>\n",
       "      <th>sales</th>\n",
       "      <th>onpromotion</th>\n",
       "    </tr>\n",
       "    <tr>\n",
       "      <th>date</th>\n",
       "      <th></th>\n",
       "      <th></th>\n",
       "      <th></th>\n",
       "      <th></th>\n",
       "    </tr>\n",
       "  </thead>\n",
       "  <tbody>\n",
       "    <tr>\n",
       "      <th>2013-01-01</th>\n",
       "      <td>1</td>\n",
       "      <td>AUTOMOTIVE</td>\n",
       "      <td>0.0</td>\n",
       "      <td>0</td>\n",
       "    </tr>\n",
       "    <tr>\n",
       "      <th>2013-01-01</th>\n",
       "      <td>1</td>\n",
       "      <td>BABY CARE</td>\n",
       "      <td>0.0</td>\n",
       "      <td>0</td>\n",
       "    </tr>\n",
       "    <tr>\n",
       "      <th>2013-01-01</th>\n",
       "      <td>1</td>\n",
       "      <td>BEAUTY</td>\n",
       "      <td>0.0</td>\n",
       "      <td>0</td>\n",
       "    </tr>\n",
       "    <tr>\n",
       "      <th>2013-01-01</th>\n",
       "      <td>1</td>\n",
       "      <td>BEVERAGES</td>\n",
       "      <td>0.0</td>\n",
       "      <td>0</td>\n",
       "    </tr>\n",
       "    <tr>\n",
       "      <th>2013-01-01</th>\n",
       "      <td>1</td>\n",
       "      <td>BOOKS</td>\n",
       "      <td>0.0</td>\n",
       "      <td>0</td>\n",
       "    </tr>\n",
       "  </tbody>\n",
       "</table>\n",
       "</div>"
      ],
      "text/plain": [
       "            store_nbr      family  sales  onpromotion\n",
       "date                                                 \n",
       "2013-01-01          1  AUTOMOTIVE    0.0            0\n",
       "2013-01-01          1   BABY CARE    0.0            0\n",
       "2013-01-01          1      BEAUTY    0.0            0\n",
       "2013-01-01          1   BEVERAGES    0.0            0\n",
       "2013-01-01          1       BOOKS    0.0            0"
      ]
     },
     "execution_count": 7,
     "metadata": {},
     "output_type": "execute_result"
    }
   ],
   "source": [
    "main_data.head()"
   ]
  },
  {
   "cell_type": "code",
   "execution_count": 281,
   "id": "6dbb724a",
   "metadata": {},
   "outputs": [],
   "source": [
    "data = main_data.reset_index()"
   ]
  },
  {
   "cell_type": "code",
   "execution_count": 282,
   "id": "87b1175d",
   "metadata": {},
   "outputs": [
    {
     "data": {
      "text/html": [
       "<div>\n",
       "<style scoped>\n",
       "    .dataframe tbody tr th:only-of-type {\n",
       "        vertical-align: middle;\n",
       "    }\n",
       "\n",
       "    .dataframe tbody tr th {\n",
       "        vertical-align: top;\n",
       "    }\n",
       "\n",
       "    .dataframe thead th {\n",
       "        text-align: right;\n",
       "    }\n",
       "</style>\n",
       "<table border=\"1\" class=\"dataframe\">\n",
       "  <thead>\n",
       "    <tr style=\"text-align: right;\">\n",
       "      <th></th>\n",
       "      <th>date</th>\n",
       "      <th>store_nbr</th>\n",
       "      <th>family</th>\n",
       "      <th>sales</th>\n",
       "      <th>onpromotion</th>\n",
       "    </tr>\n",
       "  </thead>\n",
       "  <tbody>\n",
       "    <tr>\n",
       "      <th>0</th>\n",
       "      <td>2013-01-01</td>\n",
       "      <td>1</td>\n",
       "      <td>AUTOMOTIVE</td>\n",
       "      <td>0.0</td>\n",
       "      <td>0</td>\n",
       "    </tr>\n",
       "    <tr>\n",
       "      <th>1</th>\n",
       "      <td>2013-01-01</td>\n",
       "      <td>1</td>\n",
       "      <td>BABY CARE</td>\n",
       "      <td>0.0</td>\n",
       "      <td>0</td>\n",
       "    </tr>\n",
       "    <tr>\n",
       "      <th>2</th>\n",
       "      <td>2013-01-01</td>\n",
       "      <td>1</td>\n",
       "      <td>BEAUTY</td>\n",
       "      <td>0.0</td>\n",
       "      <td>0</td>\n",
       "    </tr>\n",
       "    <tr>\n",
       "      <th>3</th>\n",
       "      <td>2013-01-01</td>\n",
       "      <td>1</td>\n",
       "      <td>BEVERAGES</td>\n",
       "      <td>0.0</td>\n",
       "      <td>0</td>\n",
       "    </tr>\n",
       "    <tr>\n",
       "      <th>4</th>\n",
       "      <td>2013-01-01</td>\n",
       "      <td>1</td>\n",
       "      <td>BOOKS</td>\n",
       "      <td>0.0</td>\n",
       "      <td>0</td>\n",
       "    </tr>\n",
       "  </tbody>\n",
       "</table>\n",
       "</div>"
      ],
      "text/plain": [
       "        date  store_nbr      family  sales  onpromotion\n",
       "0 2013-01-01          1  AUTOMOTIVE    0.0            0\n",
       "1 2013-01-01          1   BABY CARE    0.0            0\n",
       "2 2013-01-01          1      BEAUTY    0.0            0\n",
       "3 2013-01-01          1   BEVERAGES    0.0            0\n",
       "4 2013-01-01          1       BOOKS    0.0            0"
      ]
     },
     "execution_count": 282,
     "metadata": {},
     "output_type": "execute_result"
    }
   ],
   "source": [
    "# convert the date column to datetime format\n",
    "data['date'] = pd.to_datetime(data['date'])\n",
    "\n",
    "# create a date range from the minimum to the maximum date in the dataframe\n",
    "idx = pd.date_range(data['date'].min(), data['date'].max())\n",
    "\n",
    "# reindex the dataframe with the date range and fill missing values with 0\n",
    "df = data.reindex(idx, fill_value=0).reset_index()\n",
    "\n",
    "# rename the index column to date\n",
    "#df = data.rename(columns={'index': 'date'})\n",
    "\n",
    "# print the result\n",
    "data.head()"
   ]
  },
  {
   "cell_type": "code",
   "execution_count": 283,
   "id": "542695f5",
   "metadata": {},
   "outputs": [],
   "source": [
    "# create a date range from the minimum to the maximum date in the dataframe\n",
    "idx = pd.date_range(data['date'].min(), data['date'].max())"
   ]
  },
  {
   "cell_type": "code",
   "execution_count": 284,
   "id": "6aa67a14",
   "metadata": {},
   "outputs": [
    {
     "data": {
      "text/plain": [
       "DatetimeIndex(['2013-01-01', '2013-01-02', '2013-01-03', '2013-01-04',\n",
       "               '2013-01-05', '2013-01-06', '2013-01-07', '2013-01-08',\n",
       "               '2013-01-09', '2013-01-10',\n",
       "               ...\n",
       "               '2017-08-06', '2017-08-07', '2017-08-08', '2017-08-09',\n",
       "               '2017-08-10', '2017-08-11', '2017-08-12', '2017-08-13',\n",
       "               '2017-08-14', '2017-08-15'],\n",
       "              dtype='datetime64[ns]', length=1688, freq='D')"
      ]
     },
     "execution_count": 284,
     "metadata": {},
     "output_type": "execute_result"
    }
   ],
   "source": [
    "idx"
   ]
  },
  {
   "cell_type": "code",
   "execution_count": 285,
   "id": "01d100b4",
   "metadata": {},
   "outputs": [],
   "source": [
    "# define a function to fill the missing dates\n",
    "def fill_missing_dates(df, idx):\n",
    "    # create an empty list to store the new rows\n",
    "    new_rows = []\n",
    "    # loop through the date range\n",
    "    for date in idx:\n",
    "        # check if the date is in the dataframe\n",
    "        if date in df['date'].values:\n",
    "            # get the rows that match the date\n",
    "            rows = df[df['date'] == date]\n",
    "            # append them to the new rows list\n",
    "            new_rows.extend(rows.values.tolist())\n",
    "        else:\n",
    "            # create a new row with the date and 0 value\n",
    "            new_row = [date, 0]\n",
    "            # append it to the new rows list\n",
    "            new_rows.append(new_row)\n",
    "    # create a new dataframe from the new rows list\n",
    "    new_df = pd.DataFrame(new_rows, columns=df.columns)\n",
    "    # return the new dataframe\n",
    "    return new_df\n"
   ]
  },
  {
   "cell_type": "code",
   "execution_count": 286,
   "id": "5052f30a",
   "metadata": {},
   "outputs": [
    {
     "data": {
      "text/html": [
       "<div>\n",
       "<style scoped>\n",
       "    .dataframe tbody tr th:only-of-type {\n",
       "        vertical-align: middle;\n",
       "    }\n",
       "\n",
       "    .dataframe tbody tr th {\n",
       "        vertical-align: top;\n",
       "    }\n",
       "\n",
       "    .dataframe thead th {\n",
       "        text-align: right;\n",
       "    }\n",
       "</style>\n",
       "<table border=\"1\" class=\"dataframe\">\n",
       "  <thead>\n",
       "    <tr style=\"text-align: right;\">\n",
       "      <th></th>\n",
       "      <th>date</th>\n",
       "      <th>store_nbr</th>\n",
       "      <th>family</th>\n",
       "      <th>sales</th>\n",
       "      <th>onpromotion</th>\n",
       "    </tr>\n",
       "  </thead>\n",
       "  <tbody>\n",
       "    <tr>\n",
       "      <th>0</th>\n",
       "      <td>2013-01-01</td>\n",
       "      <td>1</td>\n",
       "      <td>AUTOMOTIVE</td>\n",
       "      <td>0.0</td>\n",
       "      <td>0.0</td>\n",
       "    </tr>\n",
       "    <tr>\n",
       "      <th>1</th>\n",
       "      <td>2013-01-01</td>\n",
       "      <td>1</td>\n",
       "      <td>BABY CARE</td>\n",
       "      <td>0.0</td>\n",
       "      <td>0.0</td>\n",
       "    </tr>\n",
       "    <tr>\n",
       "      <th>2</th>\n",
       "      <td>2013-01-01</td>\n",
       "      <td>1</td>\n",
       "      <td>BEAUTY</td>\n",
       "      <td>0.0</td>\n",
       "      <td>0.0</td>\n",
       "    </tr>\n",
       "    <tr>\n",
       "      <th>3</th>\n",
       "      <td>2013-01-01</td>\n",
       "      <td>1</td>\n",
       "      <td>BEVERAGES</td>\n",
       "      <td>0.0</td>\n",
       "      <td>0.0</td>\n",
       "    </tr>\n",
       "    <tr>\n",
       "      <th>4</th>\n",
       "      <td>2013-01-01</td>\n",
       "      <td>1</td>\n",
       "      <td>BOOKS</td>\n",
       "      <td>0.0</td>\n",
       "      <td>0.0</td>\n",
       "    </tr>\n",
       "  </tbody>\n",
       "</table>\n",
       "</div>"
      ],
      "text/plain": [
       "        date  store_nbr      family  sales  onpromotion\n",
       "0 2013-01-01          1  AUTOMOTIVE    0.0          0.0\n",
       "1 2013-01-01          1   BABY CARE    0.0          0.0\n",
       "2 2013-01-01          1      BEAUTY    0.0          0.0\n",
       "3 2013-01-01          1   BEVERAGES    0.0          0.0\n",
       "4 2013-01-01          1       BOOKS    0.0          0.0"
      ]
     },
     "execution_count": 286,
     "metadata": {},
     "output_type": "execute_result"
    }
   ],
   "source": [
    "# apply the function to the dataframe and the date range\n",
    "new_df = fill_missing_dates(data, idx)\n",
    "\n",
    "# print the result\n",
    "new_df.head()"
   ]
  },
  {
   "cell_type": "code",
   "execution_count": 288,
   "id": "e39db20f",
   "metadata": {},
   "outputs": [],
   "source": [
    "new_df = new_df.set_index(\"date\")"
   ]
  },
  {
   "cell_type": "code",
   "execution_count": 289,
   "id": "47feaf6e",
   "metadata": {},
   "outputs": [
    {
     "data": {
      "text/html": [
       "<div>\n",
       "<style scoped>\n",
       "    .dataframe tbody tr th:only-of-type {\n",
       "        vertical-align: middle;\n",
       "    }\n",
       "\n",
       "    .dataframe tbody tr th {\n",
       "        vertical-align: top;\n",
       "    }\n",
       "\n",
       "    .dataframe thead th {\n",
       "        text-align: right;\n",
       "    }\n",
       "</style>\n",
       "<table border=\"1\" class=\"dataframe\">\n",
       "  <thead>\n",
       "    <tr style=\"text-align: right;\">\n",
       "      <th></th>\n",
       "      <th>store_nbr</th>\n",
       "      <th>family</th>\n",
       "      <th>sales</th>\n",
       "      <th>onpromotion</th>\n",
       "      <th>year</th>\n",
       "      <th>month</th>\n",
       "      <th>day</th>\n",
       "    </tr>\n",
       "    <tr>\n",
       "      <th>date</th>\n",
       "      <th></th>\n",
       "      <th></th>\n",
       "      <th></th>\n",
       "      <th></th>\n",
       "      <th></th>\n",
       "      <th></th>\n",
       "      <th></th>\n",
       "    </tr>\n",
       "  </thead>\n",
       "  <tbody>\n",
       "    <tr>\n",
       "      <th>2013-01-01</th>\n",
       "      <td>1</td>\n",
       "      <td>AUTOMOTIVE</td>\n",
       "      <td>0.0</td>\n",
       "      <td>0.0</td>\n",
       "      <td>2013</td>\n",
       "      <td>1</td>\n",
       "      <td>1</td>\n",
       "    </tr>\n",
       "    <tr>\n",
       "      <th>2013-01-01</th>\n",
       "      <td>1</td>\n",
       "      <td>BABY CARE</td>\n",
       "      <td>0.0</td>\n",
       "      <td>0.0</td>\n",
       "      <td>2013</td>\n",
       "      <td>1</td>\n",
       "      <td>1</td>\n",
       "    </tr>\n",
       "    <tr>\n",
       "      <th>2013-01-01</th>\n",
       "      <td>1</td>\n",
       "      <td>BEAUTY</td>\n",
       "      <td>0.0</td>\n",
       "      <td>0.0</td>\n",
       "      <td>2013</td>\n",
       "      <td>1</td>\n",
       "      <td>1</td>\n",
       "    </tr>\n",
       "    <tr>\n",
       "      <th>2013-01-01</th>\n",
       "      <td>1</td>\n",
       "      <td>BEVERAGES</td>\n",
       "      <td>0.0</td>\n",
       "      <td>0.0</td>\n",
       "      <td>2013</td>\n",
       "      <td>1</td>\n",
       "      <td>1</td>\n",
       "    </tr>\n",
       "    <tr>\n",
       "      <th>2013-01-01</th>\n",
       "      <td>1</td>\n",
       "      <td>BOOKS</td>\n",
       "      <td>0.0</td>\n",
       "      <td>0.0</td>\n",
       "      <td>2013</td>\n",
       "      <td>1</td>\n",
       "      <td>1</td>\n",
       "    </tr>\n",
       "  </tbody>\n",
       "</table>\n",
       "</div>"
      ],
      "text/plain": [
       "            store_nbr      family  sales  onpromotion  year  month  day\n",
       "date                                                                   \n",
       "2013-01-01          1  AUTOMOTIVE    0.0          0.0  2013      1    1\n",
       "2013-01-01          1   BABY CARE    0.0          0.0  2013      1    1\n",
       "2013-01-01          1      BEAUTY    0.0          0.0  2013      1    1\n",
       "2013-01-01          1   BEVERAGES    0.0          0.0  2013      1    1\n",
       "2013-01-01          1       BOOKS    0.0          0.0  2013      1    1"
      ]
     },
     "execution_count": 289,
     "metadata": {},
     "output_type": "execute_result"
    }
   ],
   "source": [
    "new_df[\"year\"] = new_df.index.year\n",
    "new_df[\"month\"] = new_df.index.month\n",
    "new_df[\"day\"] = new_df.index.day\n",
    "new_df.head()"
   ]
  },
  {
   "cell_type": "markdown",
   "id": "618fcc08",
   "metadata": {},
   "source": [
    "#  correcting seasonality"
   ]
  },
  {
   "cell_type": "code",
   "execution_count": 257,
   "id": "1439f815",
   "metadata": {
    "collapsed": true
   },
   "outputs": [
    {
     "name": "stdout",
     "output_type": "stream",
     "text": [
      "Defaulting to user installation because normal site-packages is not writeableNote: you may need to restart the kernel to use updated packages.\n",
      "\n",
      "Collecting seasonal\n",
      "  Downloading seasonal-0.3.1-py2.py3-none-any.whl (18 kB)\n",
      "Requirement already satisfied: numpy in c:\\programdata\\anaconda3\\lib\\site-packages (from seasonal) (1.21.5)\n",
      "Requirement already satisfied: scipy in c:\\programdata\\anaconda3\\lib\\site-packages (from seasonal) (1.9.1)\n",
      "Installing collected packages: seasonal\n",
      "Successfully installed seasonal-0.3.1\n"
     ]
    },
    {
     "name": "stderr",
     "output_type": "stream",
     "text": [
      "  WARNING: The scripts seasonal.exe, seasonal.periodogram.exe and seasonal.trend.exe are installed in 'C:\\Users\\hp\\AppData\\Roaming\\Python\\Python39\\Scripts' which is not on PATH.\n",
      "  Consider adding this directory to PATH or, if you prefer to suppress this warning, use --no-warn-script-location.\n"
     ]
    }
   ],
   "source": [
    "#%pip install seasonal"
   ]
  },
  {
   "cell_type": "code",
   "execution_count": 258,
   "id": "599e76a7",
   "metadata": {},
   "outputs": [],
   "source": [
    "# Import libraries\n",
    "import pandas as pd\n",
    "import numpy as np\n",
    "import statsmodels.api as sm\n",
    "from seasonal import fit_seasons"
   ]
  },
  {
   "cell_type": "code",
   "execution_count": 454,
   "id": "0382b18e",
   "metadata": {},
   "outputs": [
    {
     "data": {
      "text/html": [
       "<div>\n",
       "<style scoped>\n",
       "    .dataframe tbody tr th:only-of-type {\n",
       "        vertical-align: middle;\n",
       "    }\n",
       "\n",
       "    .dataframe tbody tr th {\n",
       "        vertical-align: top;\n",
       "    }\n",
       "\n",
       "    .dataframe thead th {\n",
       "        text-align: right;\n",
       "    }\n",
       "</style>\n",
       "<table border=\"1\" class=\"dataframe\">\n",
       "  <thead>\n",
       "    <tr style=\"text-align: right;\">\n",
       "      <th></th>\n",
       "      <th>store_nbr</th>\n",
       "      <th>family</th>\n",
       "      <th>sales</th>\n",
       "      <th>onpromotion</th>\n",
       "      <th>year</th>\n",
       "      <th>month</th>\n",
       "      <th>day</th>\n",
       "    </tr>\n",
       "    <tr>\n",
       "      <th>date</th>\n",
       "      <th></th>\n",
       "      <th></th>\n",
       "      <th></th>\n",
       "      <th></th>\n",
       "      <th></th>\n",
       "      <th></th>\n",
       "      <th></th>\n",
       "    </tr>\n",
       "  </thead>\n",
       "  <tbody>\n",
       "    <tr>\n",
       "      <th>2013-01-01</th>\n",
       "      <td>1</td>\n",
       "      <td>AUTOMOTIVE</td>\n",
       "      <td>0.0</td>\n",
       "      <td>0.0</td>\n",
       "      <td>2013</td>\n",
       "      <td>1</td>\n",
       "      <td>1</td>\n",
       "    </tr>\n",
       "    <tr>\n",
       "      <th>2013-01-01</th>\n",
       "      <td>1</td>\n",
       "      <td>BABY CARE</td>\n",
       "      <td>0.0</td>\n",
       "      <td>0.0</td>\n",
       "      <td>2013</td>\n",
       "      <td>1</td>\n",
       "      <td>1</td>\n",
       "    </tr>\n",
       "    <tr>\n",
       "      <th>2013-01-01</th>\n",
       "      <td>1</td>\n",
       "      <td>BEAUTY</td>\n",
       "      <td>0.0</td>\n",
       "      <td>0.0</td>\n",
       "      <td>2013</td>\n",
       "      <td>1</td>\n",
       "      <td>1</td>\n",
       "    </tr>\n",
       "    <tr>\n",
       "      <th>2013-01-01</th>\n",
       "      <td>1</td>\n",
       "      <td>BEVERAGES</td>\n",
       "      <td>0.0</td>\n",
       "      <td>0.0</td>\n",
       "      <td>2013</td>\n",
       "      <td>1</td>\n",
       "      <td>1</td>\n",
       "    </tr>\n",
       "    <tr>\n",
       "      <th>2013-01-01</th>\n",
       "      <td>1</td>\n",
       "      <td>BOOKS</td>\n",
       "      <td>0.0</td>\n",
       "      <td>0.0</td>\n",
       "      <td>2013</td>\n",
       "      <td>1</td>\n",
       "      <td>1</td>\n",
       "    </tr>\n",
       "  </tbody>\n",
       "</table>\n",
       "</div>"
      ],
      "text/plain": [
       "            store_nbr      family  sales  onpromotion  year  month  day\n",
       "date                                                                   \n",
       "2013-01-01          1  AUTOMOTIVE    0.0          0.0  2013      1    1\n",
       "2013-01-01          1   BABY CARE    0.0          0.0  2013      1    1\n",
       "2013-01-01          1      BEAUTY    0.0          0.0  2013      1    1\n",
       "2013-01-01          1   BEVERAGES    0.0          0.0  2013      1    1\n",
       "2013-01-01          1       BOOKS    0.0          0.0  2013      1    1"
      ]
     },
     "execution_count": 454,
     "metadata": {},
     "output_type": "execute_result"
    }
   ],
   "source": [
    "n_2 = new_df[new_df.year == 2013]\n",
    "n_2.head()"
   ]
  },
  {
   "cell_type": "code",
   "execution_count": 455,
   "id": "48383a5c",
   "metadata": {},
   "outputs": [],
   "source": [
    "# Fill missing values using backward fill\n",
    "n_2 = n_2.fillna(method='bfill')"
   ]
  },
  {
   "cell_type": "code",
   "execution_count": 456,
   "id": "af911d1a",
   "metadata": {},
   "outputs": [
    {
     "data": {
      "text/plain": [
       "store_nbr      0\n",
       "family         0\n",
       "sales          0\n",
       "onpromotion    0\n",
       "year           0\n",
       "month          0\n",
       "day            0\n",
       "dtype: int64"
      ]
     },
     "execution_count": 456,
     "metadata": {},
     "output_type": "execute_result"
    }
   ],
   "source": [
    "n_2.isnull().sum()"
   ]
  },
  {
   "cell_type": "markdown",
   "id": "882676bc",
   "metadata": {},
   "source": [
    "# correcting seaonality"
   ]
  },
  {
   "cell_type": "code",
   "execution_count": 601,
   "id": "8fb7b323",
   "metadata": {},
   "outputs": [],
   "source": [
    "# Decompose the data into trend, seasonal, and residual components\n",
    "decomposition = sm.tsa.seasonal_decompose(n_2.sales, period=24) # period is the number of observations per cycle, in this case 24 hours\n",
    "trend = decomposition.trend\n",
    "seasonal = decomposition.seasonal\n",
    "residual = decomposition.resid"
   ]
  },
  {
   "cell_type": "code",
   "execution_count": null,
   "id": "1bc8189c",
   "metadata": {},
   "outputs": [
    {
     "data": {
      "image/png": "[encoded data removed]",
      "text/plain": [
       "<Figure size 640x480 with 4 Axes>"
      ]
     },
     "metadata": {},
     "output_type": "display_data"
    }
   ],
   "source": [
    "# Plot the components\n",
    "decomposition.plot()\n",
    "plt.show()\n",
    "\n",
    "# Subtract the seasonal component from the original data\n",
    "data_adj = y_train - seasonal\n",
    "\n",
    "# Plot the adjusted data\n",
    "data_adj.plot()\n",
    "plt.show()\n"
   ]
  },
  {
   "cell_type": "markdown",
   "id": "a28878fc",
   "metadata": {},
   "source": [
    "# Data splitting"
   ]
  },
  {
   "cell_type": "code",
   "execution_count": 418,
   "id": "d307d955",
   "metadata": {},
   "outputs": [],
   "source": [
    "n_2 = n_2.reset_index()"
   ]
  },
  {
   "cell_type": "code",
   "execution_count": 419,
   "id": "fd6c4d15",
   "metadata": {},
   "outputs": [],
   "source": [
    "n_2 = n_2.drop(columns = \"date\")"
   ]
  },
  {
   "cell_type": "code",
   "execution_count": 459,
   "id": "ae782c8b",
   "metadata": {},
   "outputs": [
    {
     "data": {
      "text/plain": [
       "(19774, 7)"
      ]
     },
     "execution_count": 459,
     "metadata": {},
     "output_type": "execute_result"
    }
   ],
   "source": [
    "n_2.loc[\"2013-01\" : \"2013-06\"].shape"
   ]
  },
  {
   "cell_type": "code",
   "execution_count": 461,
   "id": "7ec0a7d2",
   "metadata": {},
   "outputs": [],
   "source": [
    "# Fit and evaluate the AR model\n",
    "# Split the data into train and test sets\n",
    "\n",
    "#train_size = int(n_2.shape[0]*0.8)\n",
    "train_size = 19774\n",
    "\n",
    "train = n_2[:train_size]\n",
    "\n",
    "test = n_2[train_size:]"
   ]
  },
  {
   "cell_type": "code",
   "execution_count": 462,
   "id": "8f95076f",
   "metadata": {},
   "outputs": [],
   "source": [
    "x_train = train.drop(\"sales\" , axis = 1)\n",
    "x_test = test.drop(\"sales\" , axis = 1)\n",
    "\n",
    "y_train = train.sales\n",
    "y_test = test.sales"
   ]
  },
  {
   "cell_type": "markdown",
   "id": "25602bb6",
   "metadata": {},
   "source": [
    "# Feature Scaling"
   ]
  },
  {
   "cell_type": "code",
   "execution_count": 463,
   "id": "e867179d",
   "metadata": {},
   "outputs": [
    {
     "data": {
      "text/plain": [
       "Index(['store_nbr', 'family', 'sales', 'onpromotion', 'year', 'month', 'day'], dtype='object')"
      ]
     },
     "execution_count": 463,
     "metadata": {},
     "output_type": "execute_result"
    }
   ],
   "source": [
    "train.columns"
   ]
  },
  {
   "cell_type": "code",
   "execution_count": 464,
   "id": "4492ee75",
   "metadata": {},
   "outputs": [],
   "source": [
    "# Separate target and features\n",
    "y = n_2[\"sales\"]\n",
    "x = n_2.drop(\"sales\", axis=1)"
   ]
  },
  {
   "cell_type": "code",
   "execution_count": 465,
   "id": "c4aaaeea",
   "metadata": {},
   "outputs": [],
   "source": [
    "from sklearn.preprocessing import StandardScaler, OneHotEncoder ,  MinMaxScaler"
   ]
  },
  {
   "cell_type": "code",
   "execution_count": 541,
   "id": "34b64c78",
   "metadata": {},
   "outputs": [
    {
     "data": {
      "text/plain": [
       "['onpromotion']"
      ]
     },
     "execution_count": 541,
     "metadata": {},
     "output_type": "execute_result"
    }
   ],
   "source": [
    "col_names = [ \"onpromotion\"]\n",
    "col_names"
   ]
  },
  {
   "cell_type": "code",
   "execution_count": 544,
   "id": "a6261ab6",
   "metadata": {},
   "outputs": [],
   "source": [
    "# Create an encoder and a scaler object\n",
    "encoder = OneHotEncoder(sparse=False)\n",
    "scaler = StandardScaler()\n",
    "\n",
    "# Fit the encoder and scaler on the train data\n",
    "#encoder.fit(x_train[[\"family\"]])\n",
    "scaler.fit(x_train[[\"onpromotion\"]])\n",
    "\n",
    "# Transform the train and test data using the fitted encoder and scaler\n",
    "#x_train_ohe = encoder.transform(x_train[[\"family\"]])\n",
    "#x_test_ohe = encoder.transform(x_test[[\"family\"]])\n",
    "x_train_scaled = scaler.transform(x_train[[ \"onpromotion\"]])\n",
    "x_test_scaled = scaler.transform(x_test[[ \"onpromotion\"]])\n",
    "\n",
    "                   "
   ]
  },
  {
   "cell_type": "code",
   "execution_count": 480,
   "id": "9535bba3",
   "metadata": {},
   "outputs": [],
   "source": [
    "#encoded_cols = encoder.get_feature_names([\"family\"])"
   ]
  },
  {
   "cell_type": "code",
   "execution_count": 482,
   "id": "a328d1d7",
   "metadata": {},
   "outputs": [],
   "source": [
    "#x_train_encoded = pd.DataFrame(x_train_ohe, columns = encoded_cols)\n",
    "#x_test_encoded  = pd.DataFrame(x_test_ohe,  columns = encoded_cols)"
   ]
  },
  {
   "cell_type": "code",
   "execution_count": 545,
   "id": "469fc189",
   "metadata": {},
   "outputs": [],
   "source": [
    "x_train_scaled = pd.DataFrame(x_train_scaled, columns = col_names)\n",
    "x_test_scaled  = pd.DataFrame(x_test_scaled,  columns = col_names)"
   ]
  },
  {
   "cell_type": "code",
   "execution_count": 547,
   "id": "cd3c8fd0",
   "metadata": {
    "collapsed": true
   },
   "outputs": [
    {
     "data": {
      "text/html": [
       "<div>\n",
       "<style scoped>\n",
       "    .dataframe tbody tr th:only-of-type {\n",
       "        vertical-align: middle;\n",
       "    }\n",
       "\n",
       "    .dataframe tbody tr th {\n",
       "        vertical-align: top;\n",
       "    }\n",
       "\n",
       "    .dataframe thead th {\n",
       "        text-align: right;\n",
       "    }\n",
       "</style>\n",
       "<table border=\"1\" class=\"dataframe\">\n",
       "  <thead>\n",
       "    <tr style=\"text-align: right;\">\n",
       "      <th></th>\n",
       "      <th>onpromotion</th>\n",
       "    </tr>\n",
       "  </thead>\n",
       "  <tbody>\n",
       "    <tr>\n",
       "      <th>0</th>\n",
       "      <td>0.0</td>\n",
       "    </tr>\n",
       "    <tr>\n",
       "      <th>1</th>\n",
       "      <td>0.0</td>\n",
       "    </tr>\n",
       "    <tr>\n",
       "      <th>2</th>\n",
       "      <td>0.0</td>\n",
       "    </tr>\n",
       "    <tr>\n",
       "      <th>3</th>\n",
       "      <td>0.0</td>\n",
       "    </tr>\n",
       "    <tr>\n",
       "      <th>4</th>\n",
       "      <td>0.0</td>\n",
       "    </tr>\n",
       "    <tr>\n",
       "      <th>...</th>\n",
       "      <td>...</td>\n",
       "    </tr>\n",
       "    <tr>\n",
       "      <th>19769</th>\n",
       "      <td>0.0</td>\n",
       "    </tr>\n",
       "    <tr>\n",
       "      <th>19770</th>\n",
       "      <td>0.0</td>\n",
       "    </tr>\n",
       "    <tr>\n",
       "      <th>19771</th>\n",
       "      <td>0.0</td>\n",
       "    </tr>\n",
       "    <tr>\n",
       "      <th>19772</th>\n",
       "      <td>0.0</td>\n",
       "    </tr>\n",
       "    <tr>\n",
       "      <th>19773</th>\n",
       "      <td>0.0</td>\n",
       "    </tr>\n",
       "  </tbody>\n",
       "</table>\n",
       "<p>19774 rows × 1 columns</p>\n",
       "</div>"
      ],
      "text/plain": [
       "       onpromotion\n",
       "0              0.0\n",
       "1              0.0\n",
       "2              0.0\n",
       "3              0.0\n",
       "4              0.0\n",
       "...            ...\n",
       "19769          0.0\n",
       "19770          0.0\n",
       "19771          0.0\n",
       "19772          0.0\n",
       "19773          0.0\n",
       "\n",
       "[19774 rows x 1 columns]"
      ]
     },
     "execution_count": 547,
     "metadata": {},
     "output_type": "execute_result"
    }
   ],
   "source": [
    "x_train_scaled"
   ]
  },
  {
   "cell_type": "code",
   "execution_count": 489,
   "id": "3a62b947",
   "metadata": {},
   "outputs": [],
   "source": [
    "# Concatenate the encoded and scaled features\n",
    "#x_train_final = pd.concat([ x_train_scaled , x_train_encoded ], axis=1)\n",
    "#x_test_final = pd.concat([  x_test_scaled , x_test_encoded  ], axis=1)"
   ]
  },
  {
   "cell_type": "code",
   "execution_count": 550,
   "id": "c4c1b8a1",
   "metadata": {},
   "outputs": [
    {
     "data": {
      "text/plain": [
       "((35805, 1), (35805, 6))"
      ]
     },
     "execution_count": 550,
     "metadata": {},
     "output_type": "execute_result"
    }
   ],
   "source": [
    "x_test_scaled.shape , x_test.shape"
   ]
  },
  {
   "cell_type": "code",
   "execution_count": 552,
   "id": "07098358",
   "metadata": {},
   "outputs": [
    {
     "data": {
      "text/html": [
       "<div>\n",
       "<style scoped>\n",
       "    .dataframe tbody tr th:only-of-type {\n",
       "        vertical-align: middle;\n",
       "    }\n",
       "\n",
       "    .dataframe tbody tr th {\n",
       "        vertical-align: top;\n",
       "    }\n",
       "\n",
       "    .dataframe thead th {\n",
       "        text-align: right;\n",
       "    }\n",
       "</style>\n",
       "<table border=\"1\" class=\"dataframe\">\n",
       "  <thead>\n",
       "    <tr style=\"text-align: right;\">\n",
       "      <th></th>\n",
       "      <th>onpromotion</th>\n",
       "    </tr>\n",
       "    <tr>\n",
       "      <th>date</th>\n",
       "      <th></th>\n",
       "    </tr>\n",
       "  </thead>\n",
       "  <tbody>\n",
       "    <tr>\n",
       "      <th>2013-01-01</th>\n",
       "      <td>0.0</td>\n",
       "    </tr>\n",
       "    <tr>\n",
       "      <th>2013-01-01</th>\n",
       "      <td>0.0</td>\n",
       "    </tr>\n",
       "    <tr>\n",
       "      <th>2013-01-01</th>\n",
       "      <td>0.0</td>\n",
       "    </tr>\n",
       "    <tr>\n",
       "      <th>2013-01-01</th>\n",
       "      <td>0.0</td>\n",
       "    </tr>\n",
       "    <tr>\n",
       "      <th>2013-01-01</th>\n",
       "      <td>0.0</td>\n",
       "    </tr>\n",
       "  </tbody>\n",
       "</table>\n",
       "</div>"
      ],
      "text/plain": [
       "            onpromotion\n",
       "date                   \n",
       "2013-01-01          0.0\n",
       "2013-01-01          0.0\n",
       "2013-01-01          0.0\n",
       "2013-01-01          0.0\n",
       "2013-01-01          0.0"
      ]
     },
     "execution_count": 552,
     "metadata": {},
     "output_type": "execute_result"
    }
   ],
   "source": [
    "x_train_scaled.index = x_train.index\n",
    "x_train_scaled.head()"
   ]
  },
  {
   "cell_type": "code",
   "execution_count": 553,
   "id": "8c232dde",
   "metadata": {},
   "outputs": [
    {
     "data": {
      "text/html": [
       "<div>\n",
       "<style scoped>\n",
       "    .dataframe tbody tr th:only-of-type {\n",
       "        vertical-align: middle;\n",
       "    }\n",
       "\n",
       "    .dataframe tbody tr th {\n",
       "        vertical-align: top;\n",
       "    }\n",
       "\n",
       "    .dataframe thead th {\n",
       "        text-align: right;\n",
       "    }\n",
       "</style>\n",
       "<table border=\"1\" class=\"dataframe\">\n",
       "  <thead>\n",
       "    <tr style=\"text-align: right;\">\n",
       "      <th></th>\n",
       "      <th>onpromotion</th>\n",
       "    </tr>\n",
       "    <tr>\n",
       "      <th>date</th>\n",
       "      <th></th>\n",
       "    </tr>\n",
       "  </thead>\n",
       "  <tbody>\n",
       "    <tr>\n",
       "      <th>2013-07-01</th>\n",
       "      <td>0.0</td>\n",
       "    </tr>\n",
       "    <tr>\n",
       "      <th>2013-07-02</th>\n",
       "      <td>0.0</td>\n",
       "    </tr>\n",
       "    <tr>\n",
       "      <th>2013-07-03</th>\n",
       "      <td>0.0</td>\n",
       "    </tr>\n",
       "    <tr>\n",
       "      <th>2013-07-03</th>\n",
       "      <td>0.0</td>\n",
       "    </tr>\n",
       "    <tr>\n",
       "      <th>2013-07-03</th>\n",
       "      <td>0.0</td>\n",
       "    </tr>\n",
       "  </tbody>\n",
       "</table>\n",
       "</div>"
      ],
      "text/plain": [
       "            onpromotion\n",
       "date                   \n",
       "2013-07-01          0.0\n",
       "2013-07-02          0.0\n",
       "2013-07-03          0.0\n",
       "2013-07-03          0.0\n",
       "2013-07-03          0.0"
      ]
     },
     "execution_count": 553,
     "metadata": {},
     "output_type": "execute_result"
    }
   ],
   "source": [
    "x_test_scaled.index = x_test.index\n",
    "x_test_scaled.head()"
   ]
  },
  {
   "cell_type": "code",
   "execution_count": 554,
   "id": "2f8142d2",
   "metadata": {},
   "outputs": [
    {
     "data": {
      "text/plain": [
       "DatetimeIndex(['2013-01-01', '2013-01-01', '2013-01-01', '2013-01-01',\n",
       "               '2013-01-01', '2013-01-01', '2013-01-01', '2013-01-01',\n",
       "               '2013-01-01', '2013-01-01',\n",
       "               ...\n",
       "               '2013-06-25', '2013-06-25', '2013-06-25', '2013-06-25',\n",
       "               '2013-06-25', '2013-06-26', '2013-06-27', '2013-06-28',\n",
       "               '2013-06-29', '2013-06-30'],\n",
       "              dtype='datetime64[ns]', name='date', length=19774, freq=None)"
      ]
     },
     "execution_count": 554,
     "metadata": {},
     "output_type": "execute_result"
    }
   ],
   "source": [
    "x_train_scaled.index"
   ]
  },
  {
   "cell_type": "code",
   "execution_count": null,
   "id": "937e13af",
   "metadata": {},
   "outputs": [],
   "source": []
  },
  {
   "cell_type": "code",
   "execution_count": null,
   "id": "c29c1511",
   "metadata": {},
   "outputs": [],
   "source": []
  },
  {
   "cell_type": "code",
   "execution_count": 587,
   "id": "39719b0c",
   "metadata": {},
   "outputs": [],
   "source": [
    "# Decompose the data into trend, seasonal, and residual components\n",
    "decomposition = sm.tsa.seasonal_decompose(y_train, period=24) # period is the number of observations per cycle, in this case 24 hours\n",
    "trend = decomposition.trend\n",
    "seasonal = decomposition.seasonal\n",
    "residual = decomposition.resid"
   ]
  },
  {
   "cell_type": "code",
   "execution_count": 589,
   "id": "f7a8286c",
   "metadata": {},
   "outputs": [
    {
     "data": {
      "image/png": "[encoded data removed]",
      "text/plain": [
       "<Figure size 640x480 with 4 Axes>"
      ]
     },
     "metadata": {},
     "output_type": "display_data"
    },
    {
     "data": {
      "image/png": "[encoded data removed]",
      "text/plain": [
       "<Figure size 640x480 with 1 Axes>"
      ]
     },
     "metadata": {},
     "output_type": "display_data"
    }
   ],
   "source": [
    "# Plot the components\n",
    "decomposition.plot()\n",
    "plt.show()\n",
    "\n",
    "# Subtract the seasonal component from the original data\n",
    "data_adj = y_train - seasonal\n",
    "\n",
    "# Plot the adjusted data\n",
    "data_adj.plot()\n",
    "plt.show()\n"
   ]
  },
  {
   "cell_type": "code",
   "execution_count": 591,
   "id": "9977de8c",
   "metadata": {},
   "outputs": [
    {
     "data": {
      "text/plain": [
       "date\n",
       "2013-01-01    10.620688\n",
       "2013-01-01   -22.268890\n",
       "2013-01-01    36.489880\n",
       "2013-01-01    -8.493317\n",
       "2013-01-01   -34.333301\n",
       "                ...    \n",
       "2013-06-26    17.699975\n",
       "2013-06-27    -0.309476\n",
       "2013-06-28   -44.472532\n",
       "2013-06-29    35.484909\n",
       "2013-06-30    11.170011\n",
       "Length: 19774, dtype: float64"
      ]
     },
     "execution_count": 591,
     "metadata": {},
     "output_type": "execute_result"
    }
   ],
   "source": [
    "data_adj"
   ]
  },
  {
   "cell_type": "code",
   "execution_count": 555,
   "id": "143165d5",
   "metadata": {},
   "outputs": [
    {
     "data": {
      "text/plain": [
       "DatetimeIndex(['2013-01-01', '2013-01-01', '2013-01-01', '2013-01-01',\n",
       "               '2013-01-01', '2013-01-01', '2013-01-01', '2013-01-01',\n",
       "               '2013-01-01', '2013-01-01',\n",
       "               ...\n",
       "               '2013-06-25', '2013-06-25', '2013-06-25', '2013-06-25',\n",
       "               '2013-06-25', '2013-06-26', '2013-06-27', '2013-06-28',\n",
       "               '2013-06-29', '2013-06-30'],\n",
       "              dtype='datetime64[ns]', name='date', length=19774, freq=None)"
      ]
     },
     "execution_count": 555,
     "metadata": {},
     "output_type": "execute_result"
    }
   ],
   "source": [
    "y_train.index"
   ]
  },
  {
   "cell_type": "code",
   "execution_count": 556,
   "id": "386d092e",
   "metadata": {},
   "outputs": [
    {
     "data": {
      "text/plain": [
       "DatetimeIndex(['2013-07-01', '2013-07-02', '2013-07-03', '2013-07-03',\n",
       "               '2013-07-03', '2013-07-03', '2013-07-03', '2013-07-03',\n",
       "               '2013-07-03', '2013-07-03',\n",
       "               ...\n",
       "               '2013-12-31', '2013-12-31', '2013-12-31', '2013-12-31',\n",
       "               '2013-12-31', '2013-12-31', '2013-12-31', '2013-12-31',\n",
       "               '2013-12-31', '2013-12-31'],\n",
       "              dtype='datetime64[ns]', name='date', length=35805, freq=None)"
      ]
     },
     "execution_count": 556,
     "metadata": {},
     "output_type": "execute_result"
    }
   ],
   "source": [
    "y_test.index"
   ]
  },
  {
   "cell_type": "code",
   "execution_count": 558,
   "id": "012ba406",
   "metadata": {},
   "outputs": [
    {
     "data": {
      "text/plain": [
       "DatetimeIndex(['2013-07-01', '2013-07-02', '2013-07-03', '2013-07-03',\n",
       "               '2013-07-03', '2013-07-03', '2013-07-03', '2013-07-03',\n",
       "               '2013-07-03', '2013-07-03',\n",
       "               ...\n",
       "               '2013-12-31', '2013-12-31', '2013-12-31', '2013-12-31',\n",
       "               '2013-12-31', '2013-12-31', '2013-12-31', '2013-12-31',\n",
       "               '2013-12-31', '2013-12-31'],\n",
       "              dtype='datetime64[ns]', name='date', length=35805, freq=None)"
      ]
     },
     "execution_count": 558,
     "metadata": {},
     "output_type": "execute_result"
    }
   ],
   "source": [
    "x_test_scaled.index"
   ]
  },
  {
   "cell_type": "code",
   "execution_count": 582,
   "id": "b9f66c77",
   "metadata": {},
   "outputs": [
    {
     "data": {
      "text/plain": [
       "<AxesSubplot:xlabel='date'>"
      ]
     },
     "execution_count": 582,
     "metadata": {},
     "output_type": "execute_result"
    },
    {
     "data": {
      "image/png": "[encoded data removed]",
      "text/plain": [
       "<Figure size 640x480 with 1 Axes>"
      ]
     },
     "metadata": {},
     "output_type": "display_data"
    }
   ],
   "source": [
    "y_test.plot()"
   ]
  },
  {
   "cell_type": "markdown",
   "id": "f8bd0839",
   "metadata": {},
   "source": [
    "# modeling"
   ]
  },
  {
   "cell_type": "code",
   "execution_count": 592,
   "id": "1f8f25bd",
   "metadata": {},
   "outputs": [
    {
     "data": {
      "text/html": [
       "<div>\n",
       "<style scoped>\n",
       "    .dataframe tbody tr th:only-of-type {\n",
       "        vertical-align: middle;\n",
       "    }\n",
       "\n",
       "    .dataframe tbody tr th {\n",
       "        vertical-align: top;\n",
       "    }\n",
       "\n",
       "    .dataframe thead th {\n",
       "        text-align: right;\n",
       "    }\n",
       "</style>\n",
       "<table border=\"1\" class=\"dataframe\">\n",
       "  <thead>\n",
       "    <tr style=\"text-align: right;\">\n",
       "      <th></th>\n",
       "      <th>onpromotion</th>\n",
       "    </tr>\n",
       "    <tr>\n",
       "      <th>date</th>\n",
       "      <th></th>\n",
       "    </tr>\n",
       "  </thead>\n",
       "  <tbody>\n",
       "    <tr>\n",
       "      <th>2013-01-01</th>\n",
       "      <td>0.0</td>\n",
       "    </tr>\n",
       "    <tr>\n",
       "      <th>2013-01-01</th>\n",
       "      <td>0.0</td>\n",
       "    </tr>\n",
       "    <tr>\n",
       "      <th>2013-01-01</th>\n",
       "      <td>0.0</td>\n",
       "    </tr>\n",
       "    <tr>\n",
       "      <th>2013-01-01</th>\n",
       "      <td>0.0</td>\n",
       "    </tr>\n",
       "    <tr>\n",
       "      <th>2013-01-01</th>\n",
       "      <td>0.0</td>\n",
       "    </tr>\n",
       "  </tbody>\n",
       "</table>\n",
       "</div>"
      ],
      "text/plain": [
       "            onpromotion\n",
       "date                   \n",
       "2013-01-01          0.0\n",
       "2013-01-01          0.0\n",
       "2013-01-01          0.0\n",
       "2013-01-01          0.0\n",
       "2013-01-01          0.0"
      ]
     },
     "execution_count": 592,
     "metadata": {},
     "output_type": "execute_result"
    }
   ],
   "source": [
    "endog = data_adj\n",
    "exog_train = x_train[[  \"onpromotion\"]]\n",
    "exog_train.head()"
   ]
  },
  {
   "cell_type": "markdown",
   "id": "28f99d27",
   "metadata": {},
   "source": [
    "# SARIMAX"
   ]
  },
  {
   "cell_type": "code",
   "execution_count": 594,
   "id": "0abcc7cb",
   "metadata": {},
   "outputs": [],
   "source": [
    "# Import the module\n",
    "import statsmodels.api as sm\n",
    "\n",
    "# Load some data\n",
    "endog = data_adj\n",
    "#exog = x_train[['day', 'month' , \"year\"]]\n",
    "exog = exog_train\n",
    "\n",
    "# Define the model parameters\n",
    "order = (1, 1, 1)\n",
    "seasonal_order = (1, 1, 1, 4)\n",
    "trend = 'c'"
   ]
  },
  {
   "cell_type": "code",
   "execution_count": 561,
   "id": "966f3870",
   "metadata": {},
   "outputs": [
    {
     "data": {
      "text/plain": [
       "((19774, 1), (19774,))"
      ]
     },
     "execution_count": 561,
     "metadata": {},
     "output_type": "execute_result"
    }
   ],
   "source": [
    "exog.shape , y_train.shape"
   ]
  },
  {
   "cell_type": "code",
   "execution_count": 595,
   "id": "ad299af6",
   "metadata": {},
   "outputs": [
    {
     "data": {
      "text/html": [
       "<table class=\"simpletable\">\n",
       "<caption>SARIMAX Results</caption>\n",
       "<tr>\n",
       "  <th>Dep. Variable:</th>           <td>y</td>        <th>  No. Observations:  </th>    <td>19774</td>   \n",
       "</tr>\n",
       "<tr>\n",
       "  <th>Model:</th>           <td>SARIMAX(1, 0, 0)</td> <th>  Log Likelihood     </th> <td>-155109.848</td>\n",
       "</tr>\n",
       "<tr>\n",
       "  <th>Date:</th>            <td>Sat, 22 Jul 2023</td> <th>  AIC                </th> <td>310227.696</td> \n",
       "</tr>\n",
       "<tr>\n",
       "  <th>Time:</th>                <td>15:28:20</td>     <th>  BIC                </th> <td>310259.264</td> \n",
       "</tr>\n",
       "<tr>\n",
       "  <th>Sample:</th>                  <td>0</td>        <th>  HQIC               </th> <td>310238.029</td> \n",
       "</tr>\n",
       "<tr>\n",
       "  <th></th>                     <td> - 19774</td>     <th>                     </th>      <td> </td>     \n",
       "</tr>\n",
       "<tr>\n",
       "  <th>Covariance Type:</th>        <td>opg</td>       <th>                     </th>      <td> </td>     \n",
       "</tr>\n",
       "</table>\n",
       "<table class=\"simpletable\">\n",
       "<tr>\n",
       "       <td></td>          <th>coef</th>     <th>std err</th>      <th>z</th>      <th>P>|z|</th>  <th>[0.025</th>    <th>0.975]</th>  \n",
       "</tr>\n",
       "<tr>\n",
       "  <th>intercept</th>   <td>  151.2415</td> <td>    7.879</td> <td>   19.195</td> <td> 0.000</td> <td>  135.798</td> <td>  166.685</td>\n",
       "</tr>\n",
       "<tr>\n",
       "  <th>onpromotion</th> <td>         0</td> <td> 8.99e-10</td> <td>        0</td> <td> 1.000</td> <td>-1.76e-09</td> <td> 1.76e-09</td>\n",
       "</tr>\n",
       "<tr>\n",
       "  <th>ar.L1</th>       <td>    0.1416</td> <td>    0.003</td> <td>   43.686</td> <td> 0.000</td> <td>    0.135</td> <td>    0.148</td>\n",
       "</tr>\n",
       "<tr>\n",
       "  <th>sigma2</th>      <td>  3.81e+05</td> <td>  960.238</td> <td>  396.728</td> <td> 0.000</td> <td> 3.79e+05</td> <td> 3.83e+05</td>\n",
       "</tr>\n",
       "</table>\n",
       "<table class=\"simpletable\">\n",
       "<tr>\n",
       "  <th>Ljung-Box (L1) (Q):</th>     <td>3.51</td> <th>  Jarque-Bera (JB):  </th> <td>6749798.13</td>\n",
       "</tr>\n",
       "<tr>\n",
       "  <th>Prob(Q):</th>                <td>0.06</td> <th>  Prob(JB):          </th>    <td>0.00</td>   \n",
       "</tr>\n",
       "<tr>\n",
       "  <th>Heteroskedasticity (H):</th> <td>1.17</td> <th>  Skew:              </th>    <td>7.66</td>   \n",
       "</tr>\n",
       "<tr>\n",
       "  <th>Prob(H) (two-sided):</th>    <td>0.00</td> <th>  Kurtosis:          </th>    <td>92.21</td>  \n",
       "</tr>\n",
       "</table><br/><br/>Warnings:<br/>[1] Covariance matrix calculated using the outer product of gradients (complex-step).<br/>[2] Covariance matrix is singular or near-singular, with condition number 4.39e+28. Standard errors may be unstable."
      ],
      "text/latex": [
       "\\begin{center}\n",
       "\\begin{tabular}{lclc}\n",
       "\\toprule\n",
       "\\textbf{Dep. Variable:}          &        y         & \\textbf{  No. Observations:  } &    19774     \\\\\n",
       "\\textbf{Model:}                  & SARIMAX(1, 0, 0) & \\textbf{  Log Likelihood     } & -155109.848  \\\\\n",
       "\\textbf{Date:}                   & Sat, 22 Jul 2023 & \\textbf{  AIC                } &  310227.696  \\\\\n",
       "\\textbf{Time:}                   &     15:28:20     & \\textbf{  BIC                } &  310259.264  \\\\\n",
       "\\textbf{Sample:}                 &        0         & \\textbf{  HQIC               } &  310238.029  \\\\\n",
       "\\textbf{}                        &      - 19774     & \\textbf{                     } &              \\\\\n",
       "\\textbf{Covariance Type:}        &       opg        & \\textbf{                     } &              \\\\\n",
       "\\bottomrule\n",
       "\\end{tabular}\n",
       "\\begin{tabular}{lcccccc}\n",
       "                     & \\textbf{coef} & \\textbf{std err} & \\textbf{z} & \\textbf{P$> |$z$|$} & \\textbf{[0.025} & \\textbf{0.975]}  \\\\\n",
       "\\midrule\n",
       "\\textbf{intercept}   &     151.2415  &        7.879     &    19.195  &         0.000        &      135.798    &      166.685     \\\\\n",
       "\\textbf{onpromotion} &            0  &     8.99e-10     &         0  &         1.000        &    -1.76e-09    &     1.76e-09     \\\\\n",
       "\\textbf{ar.L1}       &       0.1416  &        0.003     &    43.686  &         0.000        &        0.135    &        0.148     \\\\\n",
       "\\textbf{sigma2}      &     3.81e+05  &      960.238     &   396.728  &         0.000        &     3.79e+05    &     3.83e+05     \\\\\n",
       "\\bottomrule\n",
       "\\end{tabular}\n",
       "\\begin{tabular}{lclc}\n",
       "\\textbf{Ljung-Box (L1) (Q):}     & 3.51 & \\textbf{  Jarque-Bera (JB):  } & 6749798.13  \\\\\n",
       "\\textbf{Prob(Q):}                & 0.06 & \\textbf{  Prob(JB):          } &    0.00     \\\\\n",
       "\\textbf{Heteroskedasticity (H):} & 1.17 & \\textbf{  Skew:              } &    7.66     \\\\\n",
       "\\textbf{Prob(H) (two-sided):}    & 0.00 & \\textbf{  Kurtosis:          } &   92.21     \\\\\n",
       "\\bottomrule\n",
       "\\end{tabular}\n",
       "%\\caption{SARIMAX Results}\n",
       "\\end{center}\n",
       "\n",
       "Warnings: \\newline\n",
       " [1] Covariance matrix calculated using the outer product of gradients (complex-step). \\newline\n",
       " [2] Covariance matrix is singular or near-singular, with condition number 4.39e+28. Standard errors may be unstable."
      ],
      "text/plain": [
       "<class 'statsmodels.iolib.summary.Summary'>\n",
       "\"\"\"\n",
       "                               SARIMAX Results                                \n",
       "==============================================================================\n",
       "Dep. Variable:                      y   No. Observations:                19774\n",
       "Model:               SARIMAX(1, 0, 0)   Log Likelihood             -155109.848\n",
       "Date:                Sat, 22 Jul 2023   AIC                         310227.696\n",
       "Time:                        15:28:20   BIC                         310259.264\n",
       "Sample:                             0   HQIC                        310238.029\n",
       "                              - 19774                                         \n",
       "Covariance Type:                  opg                                         \n",
       "===============================================================================\n",
       "                  coef    std err          z      P>|z|      [0.025      0.975]\n",
       "-------------------------------------------------------------------------------\n",
       "intercept     151.2415      7.879     19.195      0.000     135.798     166.685\n",
       "onpromotion          0   8.99e-10          0      1.000   -1.76e-09    1.76e-09\n",
       "ar.L1           0.1416      0.003     43.686      0.000       0.135       0.148\n",
       "sigma2        3.81e+05    960.238    396.728      0.000    3.79e+05    3.83e+05\n",
       "===================================================================================\n",
       "Ljung-Box (L1) (Q):                   3.51   Jarque-Bera (JB):           6749798.13\n",
       "Prob(Q):                              0.06   Prob(JB):                         0.00\n",
       "Heteroskedasticity (H):               1.17   Skew:                             7.66\n",
       "Prob(H) (two-sided):                  0.00   Kurtosis:                        92.21\n",
       "===================================================================================\n",
       "\n",
       "Warnings:\n",
       "[1] Covariance matrix calculated using the outer product of gradients (complex-step).\n",
       "[2] Covariance matrix is singular or near-singular, with condition number 4.39e+28. Standard errors may be unstable.\n",
       "\"\"\""
      ]
     },
     "execution_count": 595,
     "metadata": {},
     "output_type": "execute_result"
    }
   ],
   "source": [
    "# Create the SARIMAX object\n",
    "mod = sm.tsa.statespace.SARIMAX(endog, \n",
    "                                exog=exog,\n",
    "                                #order=order,\n",
    "                                #seasonal_order=seasonal_order,\n",
    "                                trend=trend)\n",
    "\n",
    "# Fit the model using maximum likelihood\n",
    "res = mod.fit()\n",
    "\n",
    "# Print some results\n",
    "res.summary() # Summary table of estimation results"
   ]
  },
  {
   "cell_type": "code",
   "execution_count": 596,
   "id": "e579d8dc",
   "metadata": {},
   "outputs": [
    {
     "data": {
      "text/html": [
       "<div>\n",
       "<style scoped>\n",
       "    .dataframe tbody tr th:only-of-type {\n",
       "        vertical-align: middle;\n",
       "    }\n",
       "\n",
       "    .dataframe tbody tr th {\n",
       "        vertical-align: top;\n",
       "    }\n",
       "\n",
       "    .dataframe thead th {\n",
       "        text-align: right;\n",
       "    }\n",
       "</style>\n",
       "<table border=\"1\" class=\"dataframe\">\n",
       "  <thead>\n",
       "    <tr style=\"text-align: right;\">\n",
       "      <th></th>\n",
       "      <th>onpromotion</th>\n",
       "    </tr>\n",
       "    <tr>\n",
       "      <th>date</th>\n",
       "      <th></th>\n",
       "    </tr>\n",
       "  </thead>\n",
       "  <tbody>\n",
       "    <tr>\n",
       "      <th>2013-07-01</th>\n",
       "      <td>0.0</td>\n",
       "    </tr>\n",
       "    <tr>\n",
       "      <th>2013-07-02</th>\n",
       "      <td>0.0</td>\n",
       "    </tr>\n",
       "    <tr>\n",
       "      <th>2013-07-03</th>\n",
       "      <td>0.0</td>\n",
       "    </tr>\n",
       "    <tr>\n",
       "      <th>2013-07-03</th>\n",
       "      <td>0.0</td>\n",
       "    </tr>\n",
       "    <tr>\n",
       "      <th>2013-07-03</th>\n",
       "      <td>0.0</td>\n",
       "    </tr>\n",
       "  </tbody>\n",
       "</table>\n",
       "</div>"
      ],
      "text/plain": [
       "            onpromotion\n",
       "date                   \n",
       "2013-07-01          0.0\n",
       "2013-07-02          0.0\n",
       "2013-07-03          0.0\n",
       "2013-07-03          0.0\n",
       "2013-07-03          0.0"
      ]
     },
     "execution_count": 596,
     "metadata": {},
     "output_type": "execute_result"
    }
   ],
   "source": [
    "exog_test = x_test_scaled[[  \"onpromotion\"]]\n",
    "exog_test.head()"
   ]
  },
  {
   "cell_type": "code",
   "execution_count": 597,
   "id": "0b2dc1bf",
   "metadata": {},
   "outputs": [
    {
     "data": {
      "text/plain": [
       "19774    152.823105\n",
       "19775    172.880397\n",
       "19776    175.720398\n",
       "19777    176.122526\n",
       "19778    176.179465\n",
       "            ...    \n",
       "55574    176.188858\n",
       "55575    176.188858\n",
       "55576    176.188858\n",
       "55577    176.188858\n",
       "55578    176.188858\n",
       "Name: predicted_mean, Length: 35805, dtype: float64"
      ]
     },
     "execution_count": 597,
     "metadata": {},
     "output_type": "execute_result"
    }
   ],
   "source": [
    "# Predict the next 10 values of realgdp\n",
    "pred = res.predict(start=len(y_train), end=len(y_train) + len(x_test_scaled) - 1 , exog = exog_test )\n",
    "pred"
   ]
  },
  {
   "cell_type": "code",
   "execution_count": 443,
   "id": "4fd3219c",
   "metadata": {},
   "outputs": [],
   "source": [
    "from sklearn.metrics import mean_squared_error , mean_squared_log_error"
   ]
  },
  {
   "cell_type": "code",
   "execution_count": 598,
   "id": "d1dd6a91",
   "metadata": {},
   "outputs": [
    {
     "data": {
      "text/plain": [
       "{'MSE': 641469.4985322511,\n",
       " 'MSLE': 15.948240512324483,\n",
       " 'RMSE': 800.918,\n",
       " 'RMSLE': 3.994}"
      ]
     },
     "execution_count": 598,
     "metadata": {},
     "output_type": "execute_result"
    }
   ],
   "source": [
    "test_calculator(y_test , pred)"
   ]
  },
  {
   "cell_type": "markdown",
   "id": "c5a4cc47",
   "metadata": {},
   "source": [
    "# 1. Autoregressive (AR) model"
   ]
  },
  {
   "cell_type": "code",
   "execution_count": 568,
   "id": "97ea5123",
   "metadata": {},
   "outputs": [],
   "source": [
    "#import the library\n",
    "import statsmodels.api as sm\n",
    "\n",
    "#load a sample dataset\n",
    "data = sm.datasets.sunspots.load_pandas().data['SUNACTIVITY']\n",
    "\n",
    "#define the lag order\n",
    "lags = 10\n",
    "\n",
    "#fit the AR model\n",
    "#model = sm.tsa.AutoReg(x_train lags , trend = \"c\" )\n",
    "\n",
    "autoreg_model = sm.tsa.AutoReg(y_train , lags ,  trend = \"c\" , exog = exog)"
   ]
  },
  {
   "cell_type": "code",
   "execution_count": 569,
   "id": "83876f15",
   "metadata": {
    "scrolled": true
   },
   "outputs": [
    {
     "data": {
      "text/html": [
       "<table class=\"simpletable\">\n",
       "<caption>AutoReg Model Results</caption>\n",
       "<tr>\n",
       "  <th>Dep. Variable:</th>       <td>sales</td>      <th>  No. Observations:  </th>    <td>19774</td>   \n",
       "</tr>\n",
       "<tr>\n",
       "  <th>Model:</th>           <td>AutoReg-X(10)</td>  <th>  Log Likelihood     </th> <td>-154152.139</td>\n",
       "</tr>\n",
       "<tr>\n",
       "  <th>Method:</th>         <td>Conditional MLE</td> <th>  S.D. of innovations</th>   <td>590.343</td>  \n",
       "</tr>\n",
       "<tr>\n",
       "  <th>Date:</th>          <td>Sat, 22 Jul 2023</td> <th>  AIC                </th> <td>308330.277</td> \n",
       "</tr>\n",
       "<tr>\n",
       "  <th>Time:</th>              <td>15:10:06</td>     <th>  BIC                </th> <td>308432.868</td> \n",
       "</tr>\n",
       "<tr>\n",
       "  <th>Sample:</th>               <td>10</td>        <th>  HQIC               </th> <td>308363.861</td> \n",
       "</tr>\n",
       "<tr>\n",
       "  <th></th>                     <td>19774</td>      <th>                     </th>      <td> </td>     \n",
       "</tr>\n",
       "</table>\n",
       "<table class=\"simpletable\">\n",
       "<tr>\n",
       "       <td></td>          <th>coef</th>     <th>std err</th>      <th>z</th>      <th>P>|z|</th>  <th>[0.025</th>    <th>0.975]</th>  \n",
       "</tr>\n",
       "<tr>\n",
       "  <th>const</th>       <td>  104.9635</td> <td>    5.048</td> <td>   20.795</td> <td> 0.000</td> <td>   95.070</td> <td>  114.857</td>\n",
       "</tr>\n",
       "<tr>\n",
       "  <th>sales.L1</th>    <td>    0.1502</td> <td>    0.007</td> <td>   21.197</td> <td> 0.000</td> <td>    0.136</td> <td>    0.164</td>\n",
       "</tr>\n",
       "<tr>\n",
       "  <th>sales.L2</th>    <td>    0.0809</td> <td>    0.007</td> <td>   11.452</td> <td> 0.000</td> <td>    0.067</td> <td>    0.095</td>\n",
       "</tr>\n",
       "<tr>\n",
       "  <th>sales.L3</th>    <td>   -0.0282</td> <td>    0.007</td> <td>   -3.979</td> <td> 0.000</td> <td>   -0.042</td> <td>   -0.014</td>\n",
       "</tr>\n",
       "<tr>\n",
       "  <th>sales.L4</th>    <td>    0.0709</td> <td>    0.007</td> <td>   10.005</td> <td> 0.000</td> <td>    0.057</td> <td>    0.085</td>\n",
       "</tr>\n",
       "<tr>\n",
       "  <th>sales.L5</th>    <td>    0.1641</td> <td>    0.007</td> <td>   23.195</td> <td> 0.000</td> <td>    0.150</td> <td>    0.178</td>\n",
       "</tr>\n",
       "<tr>\n",
       "  <th>sales.L6</th>    <td>   -0.0845</td> <td>    0.007</td> <td>  -11.943</td> <td> 0.000</td> <td>   -0.098</td> <td>   -0.071</td>\n",
       "</tr>\n",
       "<tr>\n",
       "  <th>sales.L7</th>    <td>    0.0143</td> <td>    0.007</td> <td>    2.015</td> <td> 0.044</td> <td>    0.000</td> <td>    0.028</td>\n",
       "</tr>\n",
       "<tr>\n",
       "  <th>sales.L8</th>    <td>   -0.0448</td> <td>    0.007</td> <td>   -6.333</td> <td> 0.000</td> <td>   -0.059</td> <td>   -0.031</td>\n",
       "</tr>\n",
       "<tr>\n",
       "  <th>sales.L9</th>    <td>    0.1692</td> <td>    0.007</td> <td>   23.951</td> <td> 0.000</td> <td>    0.155</td> <td>    0.183</td>\n",
       "</tr>\n",
       "<tr>\n",
       "  <th>sales.L10</th>   <td>   -0.0875</td> <td>    0.007</td> <td>  -12.346</td> <td> 0.000</td> <td>   -0.101</td> <td>   -0.074</td>\n",
       "</tr>\n",
       "<tr>\n",
       "  <th>onpromotion</th> <td>         0</td> <td>        0</td> <td>      nan</td> <td>   nan</td> <td>        0</td> <td>        0</td>\n",
       "</tr>\n",
       "</table>\n",
       "<table class=\"simpletable\">\n",
       "<caption>Roots</caption>\n",
       "<tr>\n",
       "    <td></td>    <th>            Real</th>  <th>         Imaginary</th> <th>         Modulus</th>  <th>        Frequency</th>\n",
       "</tr>\n",
       "<tr>\n",
       "  <th>AR.1</th>  <td>          -1.0476</td> <td>          -0.4142j</td> <td>           1.1265</td> <td>          -0.4401</td>\n",
       "</tr>\n",
       "<tr>\n",
       "  <th>AR.2</th>  <td>          -1.0476</td> <td>          +0.4142j</td> <td>           1.1265</td> <td>           0.4401</td>\n",
       "</tr>\n",
       "<tr>\n",
       "  <th>AR.3</th>  <td>          -0.6746</td> <td>          -1.0473j</td> <td>           1.2457</td> <td>          -0.3411</td>\n",
       "</tr>\n",
       "<tr>\n",
       "  <th>AR.4</th>  <td>          -0.6746</td> <td>          +1.0473j</td> <td>           1.2457</td> <td>           0.3411</td>\n",
       "</tr>\n",
       "<tr>\n",
       "  <th>AR.5</th>  <td>           0.1934</td> <td>          -1.1521j</td> <td>           1.1682</td> <td>          -0.2235</td>\n",
       "</tr>\n",
       "<tr>\n",
       "  <th>AR.6</th>  <td>           0.1934</td> <td>          +1.1521j</td> <td>           1.1682</td> <td>           0.2235</td>\n",
       "</tr>\n",
       "<tr>\n",
       "  <th>AR.7</th>  <td>           0.9868</td> <td>          -0.9638j</td> <td>           1.3793</td> <td>          -0.1231</td>\n",
       "</tr>\n",
       "<tr>\n",
       "  <th>AR.8</th>  <td>           0.9868</td> <td>          +0.9638j</td> <td>           1.3793</td> <td>           0.1231</td>\n",
       "</tr>\n",
       "<tr>\n",
       "  <th>AR.9</th>  <td>           1.3052</td> <td>          -0.0000j</td> <td>           1.3052</td> <td>          -0.0000</td>\n",
       "</tr>\n",
       "<tr>\n",
       "  <th>AR.10</th> <td>           1.7128</td> <td>          -0.0000j</td> <td>           1.7128</td> <td>          -0.0000</td>\n",
       "</tr>\n",
       "</table>"
      ],
      "text/latex": [
       "\\begin{center}\n",
       "\\begin{tabular}{lclc}\n",
       "\\toprule\n",
       "\\textbf{Dep. Variable:} &           sales           & \\textbf{  No. Observations:  } &           19774            \\\\\n",
       "\\textbf{Model:}         &       AutoReg-X(10)       & \\textbf{  Log Likelihood     } &        -154152.139         \\\\\n",
       "\\textbf{Method:}        &      Conditional MLE      & \\textbf{  S.D. of innovations} &          590.343           \\\\\n",
       "\\textbf{Date:}          &      Sat, 22 Jul 2023     & \\textbf{  AIC                } &         308330.277         \\\\\n",
       "\\textbf{Time:}          &          15:10:06         & \\textbf{  BIC                } &         308432.868         \\\\\n",
       "\\textbf{Sample:}        &             10            & \\textbf{  HQIC               } &         308363.861         \\\\\n",
       "\\textbf{}               &           19774           & \\textbf{                     } &                            \\\\\n",
       "\\bottomrule\n",
       "\\end{tabular}\n",
       "\\begin{tabular}{lcccccc}\n",
       "                     & \\textbf{coef} & \\textbf{std err} & \\textbf{z} & \\textbf{P$> |$z$|$} & \\textbf{[0.025} & \\textbf{0.975]}  \\\\\n",
       "\\midrule\n",
       "\\textbf{const}       &     104.9635  &        5.048     &    20.795  &         0.000        &       95.070    &      114.857     \\\\\n",
       "\\textbf{sales.L1}    &       0.1502  &        0.007     &    21.197  &         0.000        &        0.136    &        0.164     \\\\\n",
       "\\textbf{sales.L2}    &       0.0809  &        0.007     &    11.452  &         0.000        &        0.067    &        0.095     \\\\\n",
       "\\textbf{sales.L3}    &      -0.0282  &        0.007     &    -3.979  &         0.000        &       -0.042    &       -0.014     \\\\\n",
       "\\textbf{sales.L4}    &       0.0709  &        0.007     &    10.005  &         0.000        &        0.057    &        0.085     \\\\\n",
       "\\textbf{sales.L5}    &       0.1641  &        0.007     &    23.195  &         0.000        &        0.150    &        0.178     \\\\\n",
       "\\textbf{sales.L6}    &      -0.0845  &        0.007     &   -11.943  &         0.000        &       -0.098    &       -0.071     \\\\\n",
       "\\textbf{sales.L7}    &       0.0143  &        0.007     &     2.015  &         0.044        &        0.000    &        0.028     \\\\\n",
       "\\textbf{sales.L8}    &      -0.0448  &        0.007     &    -6.333  &         0.000        &       -0.059    &       -0.031     \\\\\n",
       "\\textbf{sales.L9}    &       0.1692  &        0.007     &    23.951  &         0.000        &        0.155    &        0.183     \\\\\n",
       "\\textbf{sales.L10}   &      -0.0875  &        0.007     &   -12.346  &         0.000        &       -0.101    &       -0.074     \\\\\n",
       "\\textbf{onpromotion} &            0  &            0     &       nan  &           nan        &            0    &            0     \\\\\n",
       "\\bottomrule\n",
       "\\end{tabular}\n",
       "\\begin{tabular}{lcccc}\n",
       "               & \\textbf{            Real} & \\textbf{         Imaginary} & \\textbf{         Modulus} & \\textbf{        Frequency}  \\\\\n",
       "\\midrule\n",
       "\\textbf{AR.1}  &               -1.0476     &                -0.4142j     &                1.1265     &               -0.4401       \\\\\n",
       "\\textbf{AR.2}  &               -1.0476     &                +0.4142j     &                1.1265     &                0.4401       \\\\\n",
       "\\textbf{AR.3}  &               -0.6746     &                -1.0473j     &                1.2457     &               -0.3411       \\\\\n",
       "\\textbf{AR.4}  &               -0.6746     &                +1.0473j     &                1.2457     &                0.3411       \\\\\n",
       "\\textbf{AR.5}  &                0.1934     &                -1.1521j     &                1.1682     &               -0.2235       \\\\\n",
       "\\textbf{AR.6}  &                0.1934     &                +1.1521j     &                1.1682     &                0.2235       \\\\\n",
       "\\textbf{AR.7}  &                0.9868     &                -0.9638j     &                1.3793     &               -0.1231       \\\\\n",
       "\\textbf{AR.8}  &                0.9868     &                +0.9638j     &                1.3793     &                0.1231       \\\\\n",
       "\\textbf{AR.9}  &                1.3052     &                -0.0000j     &                1.3052     &               -0.0000       \\\\\n",
       "\\textbf{AR.10} &                1.7128     &                -0.0000j     &                1.7128     &               -0.0000       \\\\\n",
       "\\bottomrule\n",
       "\\end{tabular}\n",
       "%\\caption{AutoReg Model Results}\n",
       "\\end{center}"
      ],
      "text/plain": [
       "<class 'statsmodels.iolib.summary.Summary'>\n",
       "\"\"\"\n",
       "                            AutoReg Model Results                             \n",
       "==============================================================================\n",
       "Dep. Variable:                  sales   No. Observations:                19774\n",
       "Model:                  AutoReg-X(10)   Log Likelihood             -154152.139\n",
       "Method:               Conditional MLE   S.D. of innovations            590.343\n",
       "Date:                Sat, 22 Jul 2023   AIC                         308330.277\n",
       "Time:                        15:10:06   BIC                         308432.868\n",
       "Sample:                            10   HQIC                        308363.861\n",
       "                                19774                                         \n",
       "===============================================================================\n",
       "                  coef    std err          z      P>|z|      [0.025      0.975]\n",
       "-------------------------------------------------------------------------------\n",
       "const         104.9635      5.048     20.795      0.000      95.070     114.857\n",
       "sales.L1        0.1502      0.007     21.197      0.000       0.136       0.164\n",
       "sales.L2        0.0809      0.007     11.452      0.000       0.067       0.095\n",
       "sales.L3       -0.0282      0.007     -3.979      0.000      -0.042      -0.014\n",
       "sales.L4        0.0709      0.007     10.005      0.000       0.057       0.085\n",
       "sales.L5        0.1641      0.007     23.195      0.000       0.150       0.178\n",
       "sales.L6       -0.0845      0.007    -11.943      0.000      -0.098      -0.071\n",
       "sales.L7        0.0143      0.007      2.015      0.044       0.000       0.028\n",
       "sales.L8       -0.0448      0.007     -6.333      0.000      -0.059      -0.031\n",
       "sales.L9        0.1692      0.007     23.951      0.000       0.155       0.183\n",
       "sales.L10      -0.0875      0.007    -12.346      0.000      -0.101      -0.074\n",
       "onpromotion          0          0        nan        nan           0           0\n",
       "                                    Roots                                     \n",
       "==============================================================================\n",
       "                   Real          Imaginary           Modulus         Frequency\n",
       "------------------------------------------------------------------------------\n",
       "AR.1            -1.0476           -0.4142j            1.1265           -0.4401\n",
       "AR.2            -1.0476           +0.4142j            1.1265            0.4401\n",
       "AR.3            -0.6746           -1.0473j            1.2457           -0.3411\n",
       "AR.4            -0.6746           +1.0473j            1.2457            0.3411\n",
       "AR.5             0.1934           -1.1521j            1.1682           -0.2235\n",
       "AR.6             0.1934           +1.1521j            1.1682            0.2235\n",
       "AR.7             0.9868           -0.9638j            1.3793           -0.1231\n",
       "AR.8             0.9868           +0.9638j            1.3793            0.1231\n",
       "AR.9             1.3052           -0.0000j            1.3052           -0.0000\n",
       "AR.10            1.7128           -0.0000j            1.7128           -0.0000\n",
       "------------------------------------------------------------------------------\n",
       "\"\"\""
      ]
     },
     "execution_count": 569,
     "metadata": {},
     "output_type": "execute_result"
    }
   ],
   "source": [
    "autoreg_results = autoreg_model.fit()\n",
    "\n",
    "#display the model summary\n",
    "autoreg_results.summary()"
   ]
  },
  {
   "cell_type": "code",
   "execution_count": 570,
   "id": "db844113",
   "metadata": {
    "scrolled": true
   },
   "outputs": [
    {
     "data": {
      "text/plain": [
       "19774    151.614818\n",
       "19775    172.742886\n",
       "19776    175.706706\n",
       "19777    176.122467\n",
       "19778    176.180790\n",
       "            ...    \n",
       "55574    176.190306\n",
       "55575    176.190306\n",
       "55576    176.190306\n",
       "55577    176.190306\n",
       "55578    176.190306\n",
       "Name: predicted_mean, Length: 35805, dtype: float64"
      ]
     },
     "execution_count": 570,
     "metadata": {},
     "output_type": "execute_result"
    }
   ],
   "source": [
    "# Predict the next 10 values of realgdp\n",
    "pred = res.predict(start=len(y_train), end=len(y_train) + len(x_test) - 1 , exog = exog_test )\n",
    "pred"
   ]
  },
  {
   "cell_type": "code",
   "execution_count": 571,
   "id": "556acc78",
   "metadata": {},
   "outputs": [
    {
     "data": {
      "text/plain": [
       "{'MSE': 641469.3353632735,\n",
       " 'MSLE': 15.94828700584216,\n",
       " 'RMSE': 800.918,\n",
       " 'RMSLE': 3.994}"
      ]
     },
     "execution_count": 571,
     "metadata": {},
     "output_type": "execute_result"
    }
   ],
   "source": [
    "test_calculator(y_test , pred)"
   ]
  },
  {
   "cell_type": "markdown",
   "id": "6508c7a4",
   "metadata": {},
   "source": [
    "# ARIMA"
   ]
  },
  {
   "cell_type": "code",
   "execution_count": 572,
   "id": "6ded2cce",
   "metadata": {},
   "outputs": [],
   "source": [
    "# Import statsmodels library\n",
    "from statsmodels.tsa.arima.model import ARIMA\n",
    "\n",
    "# Fit ARIMA model with chosen parameters\n",
    "arima_model = ARIMA(y_train, order=(1, 1, 2) , exog = exog)"
   ]
  },
  {
   "cell_type": "code",
   "execution_count": 573,
   "id": "7ba8bd0b",
   "metadata": {},
   "outputs": [
    {
     "name": "stdout",
     "output_type": "stream",
     "text": [
      "                               SARIMAX Results                                \n",
      "==============================================================================\n",
      "Dep. Variable:                  sales   No. Observations:                19774\n",
      "Model:                 ARIMA(1, 1, 2)   Log Likelihood             -154753.613\n",
      "Date:                Sat, 22 Jul 2023   AIC                         309517.226\n",
      "Time:                        15:10:44   BIC                         309556.687\n",
      "Sample:                             0   HQIC                        309530.144\n",
      "                              - 19774                                         \n",
      "Covariance Type:                  opg                                         \n",
      "===============================================================================\n",
      "                  coef    std err          z      P>|z|      [0.025      0.975]\n",
      "-------------------------------------------------------------------------------\n",
      "onpromotion          0         -0        nan        nan           0           0\n",
      "ar.L1          -0.9244      0.003   -365.346      0.000      -0.929      -0.919\n",
      "ma.L1           0.0119      0.002      7.511      0.000       0.009       0.015\n",
      "ma.L2          -0.9665      0.002   -575.361      0.000      -0.970      -0.963\n",
      "sigma2       3.677e+05   1114.081    330.031      0.000    3.65e+05     3.7e+05\n",
      "===================================================================================\n",
      "Ljung-Box (L1) (Q):                  59.47   Jarque-Bera (JB):           4225757.64\n",
      "Prob(Q):                              0.00   Prob(JB):                         0.00\n",
      "Heteroskedasticity (H):               1.35   Skew:                             6.62\n",
      "Prob(H) (two-sided):                  0.00   Kurtosis:                        73.38\n",
      "===================================================================================\n",
      "\n",
      "Warnings:\n",
      "[1] Covariance matrix calculated using the outer product of gradients (complex-step).\n",
      "[2] Covariance matrix is singular or near-singular, with condition number    inf. Standard errors may be unstable.\n"
     ]
    }
   ],
   "source": [
    "fitted = arima_model.fit()\n",
    "\n",
    "# Print model summary\n",
    "print(fitted.summary())"
   ]
  },
  {
   "cell_type": "code",
   "execution_count": 574,
   "id": "24332264",
   "metadata": {},
   "outputs": [
    {
     "data": {
      "text/plain": [
       "19774    24.925393\n",
       "19775    63.436117\n",
       "19776    27.837781\n",
       "19777    60.743980\n",
       "19778    30.326325\n",
       "           ...    \n",
       "55574    44.937465\n",
       "55575    44.937465\n",
       "55576    44.937465\n",
       "55577    44.937465\n",
       "55578    44.937465\n",
       "Name: predicted_mean, Length: 35805, dtype: float64"
      ]
     },
     "execution_count": 574,
     "metadata": {},
     "output_type": "execute_result"
    }
   ],
   "source": [
    "# Predict the next 10 values of realgdp\n",
    "pred = fitted.predict(start=len(y_train), end=len(y_train) + len(x_test) - 1 , exog = exog_test )\n",
    "pred"
   ]
  },
  {
   "cell_type": "code",
   "execution_count": 575,
   "id": "d1afde94",
   "metadata": {},
   "outputs": [
    {
     "data": {
      "text/plain": [
       "{'MSE': 672421.8242131436,\n",
       " 'MSLE': 9.739283166679893,\n",
       " 'RMSE': 820.013,\n",
       " 'RMSLE': 3.121}"
      ]
     },
     "execution_count": 575,
     "metadata": {},
     "output_type": "execute_result"
    }
   ],
   "source": [
    "test_calculator(y_test , pred)"
   ]
  },
  {
   "cell_type": "code",
   "execution_count": 576,
   "id": "e9b639c7",
   "metadata": {},
   "outputs": [
    {
     "data": {
      "text/plain": [
       "date\n",
       "2013-01-01    0.0\n",
       "2013-01-01    0.0\n",
       "2013-01-01    0.0\n",
       "2013-01-01    0.0\n",
       "2013-01-01    0.0\n",
       "             ... \n",
       "2013-06-26    1.0\n",
       "2013-06-27    1.0\n",
       "2013-06-28    1.0\n",
       "2013-06-29    1.0\n",
       "2013-06-30    1.0\n",
       "Name: sales, Length: 19774, dtype: float64"
      ]
     },
     "execution_count": 576,
     "metadata": {},
     "output_type": "execute_result"
    }
   ],
   "source": [
    "y_train"
   ]
  },
  {
   "cell_type": "code",
   "execution_count": 515,
   "id": "54a0af8b",
   "metadata": {},
   "outputs": [
    {
     "data": {
      "text/html": [
       "<div>\n",
       "<style scoped>\n",
       "    .dataframe tbody tr th:only-of-type {\n",
       "        vertical-align: middle;\n",
       "    }\n",
       "\n",
       "    .dataframe tbody tr th {\n",
       "        vertical-align: top;\n",
       "    }\n",
       "\n",
       "    .dataframe thead th {\n",
       "        text-align: right;\n",
       "    }\n",
       "</style>\n",
       "<table border=\"1\" class=\"dataframe\">\n",
       "  <thead>\n",
       "    <tr style=\"text-align: right;\">\n",
       "      <th></th>\n",
       "      <th>Unnamed: 0</th>\n",
       "      <th>id</th>\n",
       "      <th>date</th>\n",
       "      <th>store_nbr</th>\n",
       "      <th>family</th>\n",
       "      <th>onpromotion</th>\n",
       "    </tr>\n",
       "  </thead>\n",
       "  <tbody>\n",
       "    <tr>\n",
       "      <th>0</th>\n",
       "      <td>0</td>\n",
       "      <td>3000888</td>\n",
       "      <td>2017-08-16</td>\n",
       "      <td>1</td>\n",
       "      <td>AUTOMOTIVE</td>\n",
       "      <td>0</td>\n",
       "    </tr>\n",
       "    <tr>\n",
       "      <th>1</th>\n",
       "      <td>1</td>\n",
       "      <td>3000889</td>\n",
       "      <td>2017-08-16</td>\n",
       "      <td>1</td>\n",
       "      <td>BABY CARE</td>\n",
       "      <td>0</td>\n",
       "    </tr>\n",
       "    <tr>\n",
       "      <th>2</th>\n",
       "      <td>2</td>\n",
       "      <td>3000890</td>\n",
       "      <td>2017-08-16</td>\n",
       "      <td>1</td>\n",
       "      <td>BEAUTY</td>\n",
       "      <td>2</td>\n",
       "    </tr>\n",
       "    <tr>\n",
       "      <th>3</th>\n",
       "      <td>3</td>\n",
       "      <td>3000891</td>\n",
       "      <td>2017-08-16</td>\n",
       "      <td>1</td>\n",
       "      <td>BEVERAGES</td>\n",
       "      <td>20</td>\n",
       "    </tr>\n",
       "    <tr>\n",
       "      <th>4</th>\n",
       "      <td>4</td>\n",
       "      <td>3000892</td>\n",
       "      <td>2017-08-16</td>\n",
       "      <td>1</td>\n",
       "      <td>BOOKS</td>\n",
       "      <td>0</td>\n",
       "    </tr>\n",
       "  </tbody>\n",
       "</table>\n",
       "</div>"
      ],
      "text/plain": [
       "   Unnamed: 0       id        date  store_nbr      family  onpromotion\n",
       "0           0  3000888  2017-08-16          1  AUTOMOTIVE            0\n",
       "1           1  3000889  2017-08-16          1   BABY CARE            0\n",
       "2           2  3000890  2017-08-16          1      BEAUTY            2\n",
       "3           3  3000891  2017-08-16          1   BEVERAGES           20\n",
       "4           4  3000892  2017-08-16          1       BOOKS            0"
      ]
     },
     "execution_count": 515,
     "metadata": {},
     "output_type": "execute_result"
    }
   ],
   "source": [
    "data_test = pd.read_csv(\"data_test.csv\")\n",
    "data_test.head()"
   ]
  },
  {
   "cell_type": "code",
   "execution_count": 540,
   "id": "cedf91ec",
   "metadata": {},
   "outputs": [
    {
     "data": {
      "text/plain": [
       "0.0     1772\n",
       "1.0        3\n",
       "11.0       1\n",
       "47.0       1\n",
       "24.0       1\n",
       "4.0        1\n",
       "41.0       1\n",
       "27.0       1\n",
       "2.0        1\n",
       "Name: onpromotion, dtype: int64"
      ]
     },
     "execution_count": 540,
     "metadata": {},
     "output_type": "execute_result"
    }
   ],
   "source": [
    "new = new_df.reset_index()\n",
    "new[new[\"date\"] == \"2016-01-01\"].onpromotion.value_counts()"
   ]
  },
  {
   "cell_type": "code",
   "execution_count": 539,
   "id": "bc42fddf",
   "metadata": {},
   "outputs": [
    {
     "data": {
      "text/plain": [
       "0      777\n",
       "1      132\n",
       "2      111\n",
       "18      68\n",
       "16      61\n",
       "      ... \n",
       "170      1\n",
       "122      1\n",
       "70       1\n",
       "44       1\n",
       "158      1\n",
       "Name: onpromotion, Length: 127, dtype: int64"
      ]
     },
     "execution_count": 539,
     "metadata": {},
     "output_type": "execute_result"
    }
   ],
   "source": [
    "data_test[data_test[\"date\"] == \"2017-08-16\"].onpromotion.value_counts()"
   ]
  },
  {
   "cell_type": "code",
   "execution_count": null,
   "id": "9ec2f9d9",
   "metadata": {},
   "outputs": [],
   "source": []
  }
 ],
 "metadata": {
  "kernelspec": {
   "display_name": "Python 3 (ipykernel)",
   "language": "python",
   "name": "python3"
  },
  "language_info": {
   "codemirror_mode": {
    "name": "ipython",
    "version": 3
   },
   "file_extension": ".py",
   "mimetype": "text/x-python",
   "name": "python",
   "nbconvert_exporter": "python",
   "pygments_lexer": "ipython3",
   "version": "3.9.13"
  }
 },
 "nbformat": 4,
 "nbformat_minor": 5
}
