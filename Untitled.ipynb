{
 "cells": [
  {
   "cell_type": "code",
   "execution_count": 327,
   "id": "482c047f",
   "metadata": {},
   "outputs": [],
   "source": [
    "# For loading data and related works\n",
    "import numpy as np\n",
    "import pandas as pd\n",
    "\n",
    "# For controlling warnings\n",
    "import warnings\n",
    "\n",
    "# For data visualizatioon\n",
    "import matplotlib.pyplot as plt\n",
    "import seaborn as sns\n",
    "import plotly.express as px\n",
    "\n",
    "# For connecting to the database\n",
    "import pyodbc\n",
    "\n",
    "# For stating hypothesis\n",
    "import scipy.stats as stats\n",
    "from statsmodels.tsa.stattools import adfuller\n",
    "\n",
    "# For feature encoding\n",
    "from sklearn.compose import make_column_selector as selector\n",
    "from sklearn.preprocessing import StandardScaler, OrdinalEncoder\n",
    "from sklearn.compose import ColumnTransformer\n",
    "\n",
    "# For data balancing\n",
    "from imblearn.over_sampling import SMOTE\n",
    "\n",
    "# For data spliting\n",
    "from sklearn.model_selection import train_test_split\n",
    "\n",
    "# For operating system\n",
    "import os\n",
    "import pickle\n",
    "\n",
    "# For hidding sensitive datas\n",
    "from dotenv import load_dotenv, dotenv_values\n",
    "\n",
    "warnings.filterwarnings('ignore')"
   ]
  },
  {
   "cell_type": "code",
   "execution_count": 328,
   "id": "213829c4",
   "metadata": {},
   "outputs": [],
   "source": [
    "data = pd.read_csv(\"data_train2.csv\")"
   ]
  },
  {
   "cell_type": "code",
   "execution_count": 329,
   "id": "995a823d",
   "metadata": {},
   "outputs": [
    {
     "data": {
      "text/html": [
       "<div>\n",
       "<style scoped>\n",
       "    .dataframe tbody tr th:only-of-type {\n",
       "        vertical-align: middle;\n",
       "    }\n",
       "\n",
       "    .dataframe tbody tr th {\n",
       "        vertical-align: top;\n",
       "    }\n",
       "\n",
       "    .dataframe thead th {\n",
       "        text-align: right;\n",
       "    }\n",
       "</style>\n",
       "<table border=\"1\" class=\"dataframe\">\n",
       "  <thead>\n",
       "    <tr style=\"text-align: right;\">\n",
       "      <th></th>\n",
       "      <th>date</th>\n",
       "      <th>store_nbr</th>\n",
       "      <th>city</th>\n",
       "      <th>state</th>\n",
       "      <th>type</th>\n",
       "      <th>cluster</th>\n",
       "      <th>id</th>\n",
       "      <th>family</th>\n",
       "      <th>sales</th>\n",
       "      <th>onpromotion</th>\n",
       "      <th>holiday_type</th>\n",
       "      <th>locale</th>\n",
       "      <th>locale_name</th>\n",
       "      <th>description</th>\n",
       "      <th>transferred</th>\n",
       "      <th>dcoilwtico</th>\n",
       "    </tr>\n",
       "  </thead>\n",
       "  <tbody>\n",
       "    <tr>\n",
       "      <th>0</th>\n",
       "      <td>2013-01-01</td>\n",
       "      <td>1</td>\n",
       "      <td>Quito</td>\n",
       "      <td>Pichincha</td>\n",
       "      <td>D</td>\n",
       "      <td>13</td>\n",
       "      <td>0</td>\n",
       "      <td>AUTOMOTIVE</td>\n",
       "      <td>0.0</td>\n",
       "      <td>0</td>\n",
       "      <td>Holiday</td>\n",
       "      <td>National</td>\n",
       "      <td>Ecuador</td>\n",
       "      <td>Primer dia del ano</td>\n",
       "      <td>False</td>\n",
       "      <td>NaN</td>\n",
       "    </tr>\n",
       "    <tr>\n",
       "      <th>1</th>\n",
       "      <td>2013-01-01</td>\n",
       "      <td>1</td>\n",
       "      <td>Quito</td>\n",
       "      <td>Pichincha</td>\n",
       "      <td>D</td>\n",
       "      <td>13</td>\n",
       "      <td>1</td>\n",
       "      <td>BABY CARE</td>\n",
       "      <td>0.0</td>\n",
       "      <td>0</td>\n",
       "      <td>Holiday</td>\n",
       "      <td>National</td>\n",
       "      <td>Ecuador</td>\n",
       "      <td>Primer dia del ano</td>\n",
       "      <td>False</td>\n",
       "      <td>NaN</td>\n",
       "    </tr>\n",
       "    <tr>\n",
       "      <th>2</th>\n",
       "      <td>2013-01-01</td>\n",
       "      <td>1</td>\n",
       "      <td>Quito</td>\n",
       "      <td>Pichincha</td>\n",
       "      <td>D</td>\n",
       "      <td>13</td>\n",
       "      <td>2</td>\n",
       "      <td>BEAUTY</td>\n",
       "      <td>0.0</td>\n",
       "      <td>0</td>\n",
       "      <td>Holiday</td>\n",
       "      <td>National</td>\n",
       "      <td>Ecuador</td>\n",
       "      <td>Primer dia del ano</td>\n",
       "      <td>False</td>\n",
       "      <td>NaN</td>\n",
       "    </tr>\n",
       "    <tr>\n",
       "      <th>3</th>\n",
       "      <td>2013-01-01</td>\n",
       "      <td>1</td>\n",
       "      <td>Quito</td>\n",
       "      <td>Pichincha</td>\n",
       "      <td>D</td>\n",
       "      <td>13</td>\n",
       "      <td>3</td>\n",
       "      <td>BEVERAGES</td>\n",
       "      <td>0.0</td>\n",
       "      <td>0</td>\n",
       "      <td>Holiday</td>\n",
       "      <td>National</td>\n",
       "      <td>Ecuador</td>\n",
       "      <td>Primer dia del ano</td>\n",
       "      <td>False</td>\n",
       "      <td>NaN</td>\n",
       "    </tr>\n",
       "    <tr>\n",
       "      <th>4</th>\n",
       "      <td>2013-01-01</td>\n",
       "      <td>1</td>\n",
       "      <td>Quito</td>\n",
       "      <td>Pichincha</td>\n",
       "      <td>D</td>\n",
       "      <td>13</td>\n",
       "      <td>4</td>\n",
       "      <td>BOOKS</td>\n",
       "      <td>0.0</td>\n",
       "      <td>0</td>\n",
       "      <td>Holiday</td>\n",
       "      <td>National</td>\n",
       "      <td>Ecuador</td>\n",
       "      <td>Primer dia del ano</td>\n",
       "      <td>False</td>\n",
       "      <td>NaN</td>\n",
       "    </tr>\n",
       "  </tbody>\n",
       "</table>\n",
       "</div>"
      ],
      "text/plain": [
       "         date  store_nbr   city      state type  cluster  id      family  \\\n",
       "0  2013-01-01          1  Quito  Pichincha    D       13   0  AUTOMOTIVE   \n",
       "1  2013-01-01          1  Quito  Pichincha    D       13   1   BABY CARE   \n",
       "2  2013-01-01          1  Quito  Pichincha    D       13   2      BEAUTY   \n",
       "3  2013-01-01          1  Quito  Pichincha    D       13   3   BEVERAGES   \n",
       "4  2013-01-01          1  Quito  Pichincha    D       13   4       BOOKS   \n",
       "\n",
       "   sales  onpromotion holiday_type    locale locale_name         description  \\\n",
       "0    0.0            0      Holiday  National     Ecuador  Primer dia del ano   \n",
       "1    0.0            0      Holiday  National     Ecuador  Primer dia del ano   \n",
       "2    0.0            0      Holiday  National     Ecuador  Primer dia del ano   \n",
       "3    0.0            0      Holiday  National     Ecuador  Primer dia del ano   \n",
       "4    0.0            0      Holiday  National     Ecuador  Primer dia del ano   \n",
       "\n",
       "   transferred  dcoilwtico  \n",
       "0        False         NaN  \n",
       "1        False         NaN  \n",
       "2        False         NaN  \n",
       "3        False         NaN  \n",
       "4        False         NaN  "
      ]
     },
     "execution_count": 329,
     "metadata": {},
     "output_type": "execute_result"
    }
   ],
   "source": [
    "data.head()"
   ]
  },
  {
   "cell_type": "code",
   "execution_count": null,
   "id": "1ae9c0cc",
   "metadata": {},
   "outputs": [],
   "source": []
  },
  {
   "cell_type": "code",
   "execution_count": 330,
   "id": "a20fb5b4",
   "metadata": {},
   "outputs": [
    {
     "data": {
      "text/plain": [
       "<AxesSubplot:xlabel='date'>"
      ]
     },
     "execution_count": 330,
     "metadata": {},
     "output_type": "execute_result"
    },
    {
     "data": {
      "image/png": "[encoded data removed]",
      "text/plain": [
       "<Figure size 640x480 with 1 Axes>"
      ]
     },
     "metadata": {},
     "output_type": "display_data"
    }
   ],
   "source": [
    "d = data.set_index(\"date\")\n",
    "d[\"2013\" : \"2014\"].sales.plot()"
   ]
  },
  {
   "cell_type": "code",
   "execution_count": 331,
   "id": "405dcd9b",
   "metadata": {},
   "outputs": [],
   "source": [
    "basic_columns = [\"store_nbr\" , \"family\" , \"sales\" , \"onpromotion\" , \"date\" ]"
   ]
  },
  {
   "cell_type": "code",
   "execution_count": 332,
   "id": "b62af146",
   "metadata": {},
   "outputs": [
    {
     "data": {
      "text/html": [
       "<div>\n",
       "<style scoped>\n",
       "    .dataframe tbody tr th:only-of-type {\n",
       "        vertical-align: middle;\n",
       "    }\n",
       "\n",
       "    .dataframe tbody tr th {\n",
       "        vertical-align: top;\n",
       "    }\n",
       "\n",
       "    .dataframe thead th {\n",
       "        text-align: right;\n",
       "    }\n",
       "</style>\n",
       "<table border=\"1\" class=\"dataframe\">\n",
       "  <thead>\n",
       "    <tr style=\"text-align: right;\">\n",
       "      <th></th>\n",
       "      <th>store_nbr</th>\n",
       "      <th>family</th>\n",
       "      <th>sales</th>\n",
       "      <th>onpromotion</th>\n",
       "    </tr>\n",
       "    <tr>\n",
       "      <th>date</th>\n",
       "      <th></th>\n",
       "      <th></th>\n",
       "      <th></th>\n",
       "      <th></th>\n",
       "    </tr>\n",
       "  </thead>\n",
       "  <tbody>\n",
       "    <tr>\n",
       "      <th>2013-01-01</th>\n",
       "      <td>1</td>\n",
       "      <td>AUTOMOTIVE</td>\n",
       "      <td>0.0</td>\n",
       "      <td>0</td>\n",
       "    </tr>\n",
       "    <tr>\n",
       "      <th>2013-01-01</th>\n",
       "      <td>1</td>\n",
       "      <td>BABY CARE</td>\n",
       "      <td>0.0</td>\n",
       "      <td>0</td>\n",
       "    </tr>\n",
       "    <tr>\n",
       "      <th>2013-01-01</th>\n",
       "      <td>1</td>\n",
       "      <td>BEAUTY</td>\n",
       "      <td>0.0</td>\n",
       "      <td>0</td>\n",
       "    </tr>\n",
       "    <tr>\n",
       "      <th>2013-01-01</th>\n",
       "      <td>1</td>\n",
       "      <td>BEVERAGES</td>\n",
       "      <td>0.0</td>\n",
       "      <td>0</td>\n",
       "    </tr>\n",
       "    <tr>\n",
       "      <th>2013-01-01</th>\n",
       "      <td>1</td>\n",
       "      <td>BOOKS</td>\n",
       "      <td>0.0</td>\n",
       "      <td>0</td>\n",
       "    </tr>\n",
       "  </tbody>\n",
       "</table>\n",
       "</div>"
      ],
      "text/plain": [
       "            store_nbr      family  sales  onpromotion\n",
       "date                                                 \n",
       "2013-01-01          1  AUTOMOTIVE    0.0            0\n",
       "2013-01-01          1   BABY CARE    0.0            0\n",
       "2013-01-01          1      BEAUTY    0.0            0\n",
       "2013-01-01          1   BEVERAGES    0.0            0\n",
       "2013-01-01          1       BOOKS    0.0            0"
      ]
     },
     "execution_count": 332,
     "metadata": {},
     "output_type": "execute_result"
    }
   ],
   "source": [
    "data = data.reset_index()\n",
    "main_data = data[basic_columns]\n",
    "main_data = main_data.set_index(\"date\")\n",
    "main_data.head()"
   ]
  },
  {
   "cell_type": "markdown",
   "id": "cc8aa9a5",
   "metadata": {},
   "source": [
    "# completing missed dates"
   ]
  },
  {
   "cell_type": "code",
   "execution_count": 333,
   "id": "7eb43b6b",
   "metadata": {},
   "outputs": [
    {
     "data": {
      "text/html": [
       "<div>\n",
       "<style scoped>\n",
       "    .dataframe tbody tr th:only-of-type {\n",
       "        vertical-align: middle;\n",
       "    }\n",
       "\n",
       "    .dataframe tbody tr th {\n",
       "        vertical-align: top;\n",
       "    }\n",
       "\n",
       "    .dataframe thead th {\n",
       "        text-align: right;\n",
       "    }\n",
       "</style>\n",
       "<table border=\"1\" class=\"dataframe\">\n",
       "  <thead>\n",
       "    <tr style=\"text-align: right;\">\n",
       "      <th></th>\n",
       "      <th>store_nbr</th>\n",
       "      <th>family</th>\n",
       "      <th>sales</th>\n",
       "      <th>onpromotion</th>\n",
       "    </tr>\n",
       "    <tr>\n",
       "      <th>date</th>\n",
       "      <th></th>\n",
       "      <th></th>\n",
       "      <th></th>\n",
       "      <th></th>\n",
       "    </tr>\n",
       "  </thead>\n",
       "  <tbody>\n",
       "    <tr>\n",
       "      <th>2013-01-01</th>\n",
       "      <td>1</td>\n",
       "      <td>AUTOMOTIVE</td>\n",
       "      <td>0.0</td>\n",
       "      <td>0</td>\n",
       "    </tr>\n",
       "    <tr>\n",
       "      <th>2013-01-01</th>\n",
       "      <td>1</td>\n",
       "      <td>BABY CARE</td>\n",
       "      <td>0.0</td>\n",
       "      <td>0</td>\n",
       "    </tr>\n",
       "    <tr>\n",
       "      <th>2013-01-01</th>\n",
       "      <td>1</td>\n",
       "      <td>BEAUTY</td>\n",
       "      <td>0.0</td>\n",
       "      <td>0</td>\n",
       "    </tr>\n",
       "    <tr>\n",
       "      <th>2013-01-01</th>\n",
       "      <td>1</td>\n",
       "      <td>BEVERAGES</td>\n",
       "      <td>0.0</td>\n",
       "      <td>0</td>\n",
       "    </tr>\n",
       "    <tr>\n",
       "      <th>2013-01-01</th>\n",
       "      <td>1</td>\n",
       "      <td>BOOKS</td>\n",
       "      <td>0.0</td>\n",
       "      <td>0</td>\n",
       "    </tr>\n",
       "  </tbody>\n",
       "</table>\n",
       "</div>"
      ],
      "text/plain": [
       "            store_nbr      family  sales  onpromotion\n",
       "date                                                 \n",
       "2013-01-01          1  AUTOMOTIVE    0.0            0\n",
       "2013-01-01          1   BABY CARE    0.0            0\n",
       "2013-01-01          1      BEAUTY    0.0            0\n",
       "2013-01-01          1   BEVERAGES    0.0            0\n",
       "2013-01-01          1       BOOKS    0.0            0"
      ]
     },
     "execution_count": 333,
     "metadata": {},
     "output_type": "execute_result"
    }
   ],
   "source": [
    "main_data.head()"
   ]
  },
  {
   "cell_type": "code",
   "execution_count": 334,
   "id": "6dbb724a",
   "metadata": {},
   "outputs": [],
   "source": [
    "data = main_data.reset_index()"
   ]
  },
  {
   "cell_type": "code",
   "execution_count": 335,
   "id": "87b1175d",
   "metadata": {},
   "outputs": [
    {
     "data": {
      "text/html": [
       "<div>\n",
       "<style scoped>\n",
       "    .dataframe tbody tr th:only-of-type {\n",
       "        vertical-align: middle;\n",
       "    }\n",
       "\n",
       "    .dataframe tbody tr th {\n",
       "        vertical-align: top;\n",
       "    }\n",
       "\n",
       "    .dataframe thead th {\n",
       "        text-align: right;\n",
       "    }\n",
       "</style>\n",
       "<table border=\"1\" class=\"dataframe\">\n",
       "  <thead>\n",
       "    <tr style=\"text-align: right;\">\n",
       "      <th></th>\n",
       "      <th>date</th>\n",
       "      <th>store_nbr</th>\n",
       "      <th>family</th>\n",
       "      <th>sales</th>\n",
       "      <th>onpromotion</th>\n",
       "    </tr>\n",
       "  </thead>\n",
       "  <tbody>\n",
       "    <tr>\n",
       "      <th>0</th>\n",
       "      <td>2013-01-01</td>\n",
       "      <td>1</td>\n",
       "      <td>AUTOMOTIVE</td>\n",
       "      <td>0.0</td>\n",
       "      <td>0</td>\n",
       "    </tr>\n",
       "    <tr>\n",
       "      <th>1</th>\n",
       "      <td>2013-01-01</td>\n",
       "      <td>1</td>\n",
       "      <td>BABY CARE</td>\n",
       "      <td>0.0</td>\n",
       "      <td>0</td>\n",
       "    </tr>\n",
       "    <tr>\n",
       "      <th>2</th>\n",
       "      <td>2013-01-01</td>\n",
       "      <td>1</td>\n",
       "      <td>BEAUTY</td>\n",
       "      <td>0.0</td>\n",
       "      <td>0</td>\n",
       "    </tr>\n",
       "    <tr>\n",
       "      <th>3</th>\n",
       "      <td>2013-01-01</td>\n",
       "      <td>1</td>\n",
       "      <td>BEVERAGES</td>\n",
       "      <td>0.0</td>\n",
       "      <td>0</td>\n",
       "    </tr>\n",
       "    <tr>\n",
       "      <th>4</th>\n",
       "      <td>2013-01-01</td>\n",
       "      <td>1</td>\n",
       "      <td>BOOKS</td>\n",
       "      <td>0.0</td>\n",
       "      <td>0</td>\n",
       "    </tr>\n",
       "  </tbody>\n",
       "</table>\n",
       "</div>"
      ],
      "text/plain": [
       "        date  store_nbr      family  sales  onpromotion\n",
       "0 2013-01-01          1  AUTOMOTIVE    0.0            0\n",
       "1 2013-01-01          1   BABY CARE    0.0            0\n",
       "2 2013-01-01          1      BEAUTY    0.0            0\n",
       "3 2013-01-01          1   BEVERAGES    0.0            0\n",
       "4 2013-01-01          1       BOOKS    0.0            0"
      ]
     },
     "execution_count": 335,
     "metadata": {},
     "output_type": "execute_result"
    }
   ],
   "source": [
    "# convert the date column to datetime format\n",
    "data['date'] = pd.to_datetime(data['date'])\n",
    "\n",
    "# create a date range from the minimum to the maximum date in the dataframe\n",
    "idx = pd.date_range(data['date'].min(), data['date'].max())\n",
    "\n",
    "# reindex the dataframe with the date range and fill missing values with 0\n",
    "df = data.reindex(idx, fill_value=0).reset_index()\n",
    "\n",
    "# rename the index column to date\n",
    "#df = data.rename(columns={'index': 'date'})\n",
    "\n",
    "# print the result\n",
    "data.head()"
   ]
  },
  {
   "cell_type": "code",
   "execution_count": 336,
   "id": "542695f5",
   "metadata": {},
   "outputs": [],
   "source": [
    "# create a date range from the minimum to the maximum date in the dataframe\n",
    "idx = pd.date_range(data['date'].min(), data['date'].max())"
   ]
  },
  {
   "cell_type": "code",
   "execution_count": 337,
   "id": "6aa67a14",
   "metadata": {},
   "outputs": [
    {
     "data": {
      "text/plain": [
       "DatetimeIndex(['2013-01-01', '2013-01-02', '2013-01-03', '2013-01-04',\n",
       "               '2013-01-05', '2013-01-06', '2013-01-07', '2013-01-08',\n",
       "               '2013-01-09', '2013-01-10',\n",
       "               ...\n",
       "               '2017-08-06', '2017-08-07', '2017-08-08', '2017-08-09',\n",
       "               '2017-08-10', '2017-08-11', '2017-08-12', '2017-08-13',\n",
       "               '2017-08-14', '2017-08-15'],\n",
       "              dtype='datetime64[ns]', length=1688, freq='D')"
      ]
     },
     "execution_count": 337,
     "metadata": {},
     "output_type": "execute_result"
    }
   ],
   "source": [
    "idx"
   ]
  },
  {
   "cell_type": "code",
   "execution_count": 338,
   "id": "01d100b4",
   "metadata": {},
   "outputs": [],
   "source": [
    "# define a function to fill the missing dates\n",
    "def fill_missing_dates(df, idx):\n",
    "    # create an empty list to store the new rows\n",
    "    new_rows = []\n",
    "    # loop through the date range\n",
    "    for date in idx:\n",
    "        # check if the date is in the dataframe\n",
    "        if date in df['date'].values:\n",
    "            # get the rows that match the date\n",
    "            rows = df[df['date'] == date]\n",
    "            # append them to the new rows list\n",
    "            new_rows.extend(rows.values.tolist())\n",
    "        else:\n",
    "            # create a new row with the date and 0 value\n",
    "            new_row = [date, 0]\n",
    "            # append it to the new rows list\n",
    "            new_rows.append(new_row)\n",
    "    # create a new dataframe from the new rows list\n",
    "    new_df = pd.DataFrame(new_rows, columns=df.columns)\n",
    "    # return the new dataframe\n",
    "    return new_df\n"
   ]
  },
  {
   "cell_type": "code",
   "execution_count": 339,
   "id": "5052f30a",
   "metadata": {},
   "outputs": [
    {
     "data": {
      "text/html": [
       "<div>\n",
       "<style scoped>\n",
       "    .dataframe tbody tr th:only-of-type {\n",
       "        vertical-align: middle;\n",
       "    }\n",
       "\n",
       "    .dataframe tbody tr th {\n",
       "        vertical-align: top;\n",
       "    }\n",
       "\n",
       "    .dataframe thead th {\n",
       "        text-align: right;\n",
       "    }\n",
       "</style>\n",
       "<table border=\"1\" class=\"dataframe\">\n",
       "  <thead>\n",
       "    <tr style=\"text-align: right;\">\n",
       "      <th></th>\n",
       "      <th>date</th>\n",
       "      <th>store_nbr</th>\n",
       "      <th>family</th>\n",
       "      <th>sales</th>\n",
       "      <th>onpromotion</th>\n",
       "    </tr>\n",
       "  </thead>\n",
       "  <tbody>\n",
       "    <tr>\n",
       "      <th>0</th>\n",
       "      <td>2013-01-01</td>\n",
       "      <td>1</td>\n",
       "      <td>AUTOMOTIVE</td>\n",
       "      <td>0.0</td>\n",
       "      <td>0.0</td>\n",
       "    </tr>\n",
       "    <tr>\n",
       "      <th>1</th>\n",
       "      <td>2013-01-01</td>\n",
       "      <td>1</td>\n",
       "      <td>BABY CARE</td>\n",
       "      <td>0.0</td>\n",
       "      <td>0.0</td>\n",
       "    </tr>\n",
       "    <tr>\n",
       "      <th>2</th>\n",
       "      <td>2013-01-01</td>\n",
       "      <td>1</td>\n",
       "      <td>BEAUTY</td>\n",
       "      <td>0.0</td>\n",
       "      <td>0.0</td>\n",
       "    </tr>\n",
       "    <tr>\n",
       "      <th>3</th>\n",
       "      <td>2013-01-01</td>\n",
       "      <td>1</td>\n",
       "      <td>BEVERAGES</td>\n",
       "      <td>0.0</td>\n",
       "      <td>0.0</td>\n",
       "    </tr>\n",
       "    <tr>\n",
       "      <th>4</th>\n",
       "      <td>2013-01-01</td>\n",
       "      <td>1</td>\n",
       "      <td>BOOKS</td>\n",
       "      <td>0.0</td>\n",
       "      <td>0.0</td>\n",
       "    </tr>\n",
       "  </tbody>\n",
       "</table>\n",
       "</div>"
      ],
      "text/plain": [
       "        date  store_nbr      family  sales  onpromotion\n",
       "0 2013-01-01          1  AUTOMOTIVE    0.0          0.0\n",
       "1 2013-01-01          1   BABY CARE    0.0          0.0\n",
       "2 2013-01-01          1      BEAUTY    0.0          0.0\n",
       "3 2013-01-01          1   BEVERAGES    0.0          0.0\n",
       "4 2013-01-01          1       BOOKS    0.0          0.0"
      ]
     },
     "execution_count": 339,
     "metadata": {},
     "output_type": "execute_result"
    }
   ],
   "source": [
    "# apply the function to the dataframe and the date range\n",
    "new_df = fill_missing_dates(data, idx)\n",
    "\n",
    "# print the result\n",
    "new_df.head()"
   ]
  },
  {
   "cell_type": "code",
   "execution_count": 340,
   "id": "a812de52",
   "metadata": {},
   "outputs": [
    {
     "data": {
      "text/html": [
       "<div>\n",
       "<style scoped>\n",
       "    .dataframe tbody tr th:only-of-type {\n",
       "        vertical-align: middle;\n",
       "    }\n",
       "\n",
       "    .dataframe tbody tr th {\n",
       "        vertical-align: top;\n",
       "    }\n",
       "\n",
       "    .dataframe thead th {\n",
       "        text-align: right;\n",
       "    }\n",
       "</style>\n",
       "<table border=\"1\" class=\"dataframe\">\n",
       "  <thead>\n",
       "    <tr style=\"text-align: right;\">\n",
       "      <th></th>\n",
       "      <th>store_nbr</th>\n",
       "      <th>family</th>\n",
       "      <th>sales</th>\n",
       "      <th>onpromotion</th>\n",
       "    </tr>\n",
       "    <tr>\n",
       "      <th>date</th>\n",
       "      <th></th>\n",
       "      <th></th>\n",
       "      <th></th>\n",
       "      <th></th>\n",
       "    </tr>\n",
       "  </thead>\n",
       "  <tbody>\n",
       "    <tr>\n",
       "      <th>2013-01-01</th>\n",
       "      <td>1</td>\n",
       "      <td>AUTOMOTIVE</td>\n",
       "      <td>0.0</td>\n",
       "      <td>0.0</td>\n",
       "    </tr>\n",
       "    <tr>\n",
       "      <th>2013-01-01</th>\n",
       "      <td>1</td>\n",
       "      <td>BABY CARE</td>\n",
       "      <td>0.0</td>\n",
       "      <td>0.0</td>\n",
       "    </tr>\n",
       "    <tr>\n",
       "      <th>2013-01-01</th>\n",
       "      <td>1</td>\n",
       "      <td>BEAUTY</td>\n",
       "      <td>0.0</td>\n",
       "      <td>0.0</td>\n",
       "    </tr>\n",
       "    <tr>\n",
       "      <th>2013-01-01</th>\n",
       "      <td>1</td>\n",
       "      <td>BEVERAGES</td>\n",
       "      <td>0.0</td>\n",
       "      <td>0.0</td>\n",
       "    </tr>\n",
       "    <tr>\n",
       "      <th>2013-01-01</th>\n",
       "      <td>1</td>\n",
       "      <td>BOOKS</td>\n",
       "      <td>0.0</td>\n",
       "      <td>0.0</td>\n",
       "    </tr>\n",
       "  </tbody>\n",
       "</table>\n",
       "</div>"
      ],
      "text/plain": [
       "            store_nbr      family  sales  onpromotion\n",
       "date                                                 \n",
       "2013-01-01          1  AUTOMOTIVE    0.0          0.0\n",
       "2013-01-01          1   BABY CARE    0.0          0.0\n",
       "2013-01-01          1      BEAUTY    0.0          0.0\n",
       "2013-01-01          1   BEVERAGES    0.0          0.0\n",
       "2013-01-01          1       BOOKS    0.0          0.0"
      ]
     },
     "execution_count": 340,
     "metadata": {},
     "output_type": "execute_result"
    }
   ],
   "source": [
    "new_df = new_df.set_index(\"date\")\n",
    "new_df.head()"
   ]
  },
  {
   "cell_type": "code",
   "execution_count": 341,
   "id": "a840efcc",
   "metadata": {},
   "outputs": [
    {
     "data": {
      "text/html": [
       "<div>\n",
       "<style scoped>\n",
       "    .dataframe tbody tr th:only-of-type {\n",
       "        vertical-align: middle;\n",
       "    }\n",
       "\n",
       "    .dataframe tbody tr th {\n",
       "        vertical-align: top;\n",
       "    }\n",
       "\n",
       "    .dataframe thead th {\n",
       "        text-align: right;\n",
       "    }\n",
       "</style>\n",
       "<table border=\"1\" class=\"dataframe\">\n",
       "  <thead>\n",
       "    <tr style=\"text-align: right;\">\n",
       "      <th></th>\n",
       "      <th>date</th>\n",
       "      <th>store_nbr</th>\n",
       "      <th>family</th>\n",
       "      <th>sales</th>\n",
       "      <th>onpromotion</th>\n",
       "    </tr>\n",
       "  </thead>\n",
       "  <tbody>\n",
       "    <tr>\n",
       "      <th>0</th>\n",
       "      <td>2013-01-01</td>\n",
       "      <td>1</td>\n",
       "      <td>AUTOMOTIVE</td>\n",
       "      <td>0.0</td>\n",
       "      <td>0.0</td>\n",
       "    </tr>\n",
       "    <tr>\n",
       "      <th>1</th>\n",
       "      <td>2013-01-01</td>\n",
       "      <td>1</td>\n",
       "      <td>BABY CARE</td>\n",
       "      <td>0.0</td>\n",
       "      <td>0.0</td>\n",
       "    </tr>\n",
       "    <tr>\n",
       "      <th>2</th>\n",
       "      <td>2013-01-01</td>\n",
       "      <td>1</td>\n",
       "      <td>BEAUTY</td>\n",
       "      <td>0.0</td>\n",
       "      <td>0.0</td>\n",
       "    </tr>\n",
       "    <tr>\n",
       "      <th>3</th>\n",
       "      <td>2013-01-01</td>\n",
       "      <td>1</td>\n",
       "      <td>BEVERAGES</td>\n",
       "      <td>0.0</td>\n",
       "      <td>0.0</td>\n",
       "    </tr>\n",
       "    <tr>\n",
       "      <th>4</th>\n",
       "      <td>2013-01-01</td>\n",
       "      <td>1</td>\n",
       "      <td>BOOKS</td>\n",
       "      <td>0.0</td>\n",
       "      <td>0.0</td>\n",
       "    </tr>\n",
       "  </tbody>\n",
       "</table>\n",
       "</div>"
      ],
      "text/plain": [
       "        date  store_nbr      family  sales  onpromotion\n",
       "0 2013-01-01          1  AUTOMOTIVE    0.0          0.0\n",
       "1 2013-01-01          1   BABY CARE    0.0          0.0\n",
       "2 2013-01-01          1      BEAUTY    0.0          0.0\n",
       "3 2013-01-01          1   BEVERAGES    0.0          0.0\n",
       "4 2013-01-01          1       BOOKS    0.0          0.0"
      ]
     },
     "execution_count": 341,
     "metadata": {},
     "output_type": "execute_result"
    }
   ],
   "source": [
    "new_df = new_df.reset_index()\n",
    "new_df.head()"
   ]
  },
  {
   "cell_type": "markdown",
   "id": "08d3d905",
   "metadata": {},
   "source": [
    "Now we have filled the missed dates. But the dates have no records"
   ]
  },
  {
   "cell_type": "code",
   "execution_count": 342,
   "id": "5dde4fb6",
   "metadata": {},
   "outputs": [
    {
     "data": {
      "text/plain": [
       "date              0\n",
       "store_nbr         0\n",
       "family         1508\n",
       "sales          1508\n",
       "onpromotion    1508\n",
       "dtype: int64"
      ]
     },
     "execution_count": 342,
     "metadata": {},
     "output_type": "execute_result"
    }
   ],
   "source": [
    "new_df.isnull().sum()"
   ]
  },
  {
   "cell_type": "code",
   "execution_count": 343,
   "id": "b2c570cd",
   "metadata": {},
   "outputs": [],
   "source": [
    "y = new_df.set_index(\"date\")"
   ]
  },
  {
   "cell_type": "code",
   "execution_count": 344,
   "id": "99e11a3b",
   "metadata": {},
   "outputs": [
    {
     "data": {
      "text/plain": [
       "(370.9683960761568, 0.0, 124717.0)"
      ]
     },
     "execution_count": 344,
     "metadata": {},
     "output_type": "execute_result"
    }
   ],
   "source": [
    "y.sales.mean() , y.sales.min() , y.sales.max()"
   ]
  },
  {
   "cell_type": "code",
   "execution_count": 345,
   "id": "925c63e9",
   "metadata": {},
   "outputs": [
    {
     "data": {
      "text/plain": [
       "(211.14252469714532, 0.0, 46271.0)"
      ]
     },
     "execution_count": 345,
     "metadata": {},
     "output_type": "execute_result"
    }
   ],
   "source": [
    "y[\"2013\"].sales.mean() , y[\"2013\"].sales.min() , y[\"2013\"].sales.max()"
   ]
  },
  {
   "cell_type": "markdown",
   "id": "2d3e6fab",
   "metadata": {},
   "source": [
    "# Interpolation for numerical data"
   ]
  },
  {
   "cell_type": "markdown",
   "id": "7254eefb",
   "metadata": {},
   "source": [
    "Interpolation for numerical data is a method of estimating new data points based on the range of a discrete set of known data points. It is often used in engineering and science to approximate the values of a function for intermediate values of the independent variable."
   ]
  },
  {
   "cell_type": "code",
   "execution_count": 346,
   "id": "5024f827",
   "metadata": {},
   "outputs": [],
   "source": [
    "sas = new_df\n",
    "sas.sales = sas.sales.interpolate()\n",
    "sas.family = sas.family.interpolate()\n",
    "sas.onpromotion = sas.onpromotion.interpolate()\n",
    "sas.store_nbr = sas.store_nbr.interpolate()"
   ]
  },
  {
   "cell_type": "code",
   "execution_count": 347,
   "id": "8944942f",
   "metadata": {},
   "outputs": [
    {
     "data": {
      "text/plain": [
       "date           False\n",
       "store_nbr      False\n",
       "family          True\n",
       "sales          False\n",
       "onpromotion    False\n",
       "dtype: bool"
      ]
     },
     "execution_count": 347,
     "metadata": {},
     "output_type": "execute_result"
    }
   ],
   "source": [
    "sas.isnull().any()"
   ]
  },
  {
   "cell_type": "code",
   "execution_count": 348,
   "id": "5978b265",
   "metadata": {},
   "outputs": [],
   "source": [
    "y = sas.set_index(\"date\")"
   ]
  },
  {
   "cell_type": "markdown",
   "id": "2e0ba9c8",
   "metadata": {},
   "source": [
    "# Interpolation for categorical column"
   ]
  },
  {
   "cell_type": "code",
   "execution_count": 349,
   "id": "893c727b",
   "metadata": {},
   "outputs": [],
   "source": [
    "y_codes = pd.Categorical(new_df[\"family\"]).codes"
   ]
  },
  {
   "cell_type": "code",
   "execution_count": 350,
   "id": "9854c019",
   "metadata": {},
   "outputs": [],
   "source": [
    "x_new = []\n",
    "\n",
    "for i in range ( len(new_df.family.unique()) - 1 ):\n",
    "    x_new.append(i)"
   ]
  },
  {
   "cell_type": "code",
   "execution_count": 351,
   "id": "04c75f22",
   "metadata": {},
   "outputs": [
    {
     "data": {
      "text/html": [
       "<div>\n",
       "<style scoped>\n",
       "    .dataframe tbody tr th:only-of-type {\n",
       "        vertical-align: middle;\n",
       "    }\n",
       "\n",
       "    .dataframe tbody tr th {\n",
       "        vertical-align: top;\n",
       "    }\n",
       "\n",
       "    .dataframe thead th {\n",
       "        text-align: right;\n",
       "    }\n",
       "</style>\n",
       "<table border=\"1\" class=\"dataframe\">\n",
       "  <thead>\n",
       "    <tr style=\"text-align: right;\">\n",
       "      <th></th>\n",
       "      <th>date</th>\n",
       "      <th>store_nbr</th>\n",
       "      <th>family</th>\n",
       "      <th>sales</th>\n",
       "      <th>onpromotion</th>\n",
       "    </tr>\n",
       "  </thead>\n",
       "  <tbody>\n",
       "    <tr>\n",
       "      <th>1782</th>\n",
       "      <td>2013-01-02</td>\n",
       "      <td>0</td>\n",
       "      <td>None</td>\n",
       "      <td>0.0</td>\n",
       "      <td>0.0</td>\n",
       "    </tr>\n",
       "  </tbody>\n",
       "</table>\n",
       "</div>"
      ],
      "text/plain": [
       "           date  store_nbr family  sales  onpromotion\n",
       "1782 2013-01-02          0   None    0.0          0.0"
      ]
     },
     "execution_count": 351,
     "metadata": {},
     "output_type": "execute_result"
    }
   ],
   "source": [
    "new_df[new_df.date == \"2013-01-02\"]"
   ]
  },
  {
   "cell_type": "code",
   "execution_count": 352,
   "id": "f60c32b4",
   "metadata": {},
   "outputs": [],
   "source": [
    "mode_family = sas.family.mode().max()"
   ]
  },
  {
   "cell_type": "code",
   "execution_count": 353,
   "id": "5dd8134f",
   "metadata": {},
   "outputs": [],
   "source": [
    "sas.family = sas.family.fillna(mode_family)"
   ]
  },
  {
   "cell_type": "code",
   "execution_count": 354,
   "id": "f043ce8b",
   "metadata": {},
   "outputs": [],
   "source": [
    "new_df = sas"
   ]
  },
  {
   "cell_type": "code",
   "execution_count": 355,
   "id": "64f972d3",
   "metadata": {},
   "outputs": [
    {
     "data": {
      "text/html": [
       "<div>\n",
       "<style scoped>\n",
       "    .dataframe tbody tr th:only-of-type {\n",
       "        vertical-align: middle;\n",
       "    }\n",
       "\n",
       "    .dataframe tbody tr th {\n",
       "        vertical-align: top;\n",
       "    }\n",
       "\n",
       "    .dataframe thead th {\n",
       "        text-align: right;\n",
       "    }\n",
       "</style>\n",
       "<table border=\"1\" class=\"dataframe\">\n",
       "  <thead>\n",
       "    <tr style=\"text-align: right;\">\n",
       "      <th></th>\n",
       "      <th>date</th>\n",
       "      <th>store_nbr</th>\n",
       "      <th>family</th>\n",
       "      <th>sales</th>\n",
       "      <th>onpromotion</th>\n",
       "    </tr>\n",
       "  </thead>\n",
       "  <tbody>\n",
       "    <tr>\n",
       "      <th>0</th>\n",
       "      <td>2013-01-01</td>\n",
       "      <td>1</td>\n",
       "      <td>AUTOMOTIVE</td>\n",
       "      <td>0.0</td>\n",
       "      <td>0.0</td>\n",
       "    </tr>\n",
       "    <tr>\n",
       "      <th>1</th>\n",
       "      <td>2013-01-01</td>\n",
       "      <td>1</td>\n",
       "      <td>BABY CARE</td>\n",
       "      <td>0.0</td>\n",
       "      <td>0.0</td>\n",
       "    </tr>\n",
       "    <tr>\n",
       "      <th>2</th>\n",
       "      <td>2013-01-01</td>\n",
       "      <td>1</td>\n",
       "      <td>BEAUTY</td>\n",
       "      <td>0.0</td>\n",
       "      <td>0.0</td>\n",
       "    </tr>\n",
       "    <tr>\n",
       "      <th>3</th>\n",
       "      <td>2013-01-01</td>\n",
       "      <td>1</td>\n",
       "      <td>BEVERAGES</td>\n",
       "      <td>0.0</td>\n",
       "      <td>0.0</td>\n",
       "    </tr>\n",
       "    <tr>\n",
       "      <th>4</th>\n",
       "      <td>2013-01-01</td>\n",
       "      <td>1</td>\n",
       "      <td>BOOKS</td>\n",
       "      <td>0.0</td>\n",
       "      <td>0.0</td>\n",
       "    </tr>\n",
       "  </tbody>\n",
       "</table>\n",
       "</div>"
      ],
      "text/plain": [
       "        date  store_nbr      family  sales  onpromotion\n",
       "0 2013-01-01          1  AUTOMOTIVE    0.0          0.0\n",
       "1 2013-01-01          1   BABY CARE    0.0          0.0\n",
       "2 2013-01-01          1      BEAUTY    0.0          0.0\n",
       "3 2013-01-01          1   BEVERAGES    0.0          0.0\n",
       "4 2013-01-01          1       BOOKS    0.0          0.0"
      ]
     },
     "execution_count": 355,
     "metadata": {},
     "output_type": "execute_result"
    }
   ],
   "source": [
    "new_df.head()"
   ]
  },
  {
   "cell_type": "code",
   "execution_count": 356,
   "id": "ff19f843",
   "metadata": {},
   "outputs": [
    {
     "data": {
      "text/html": [
       "<div>\n",
       "<style scoped>\n",
       "    .dataframe tbody tr th:only-of-type {\n",
       "        vertical-align: middle;\n",
       "    }\n",
       "\n",
       "    .dataframe tbody tr th {\n",
       "        vertical-align: top;\n",
       "    }\n",
       "\n",
       "    .dataframe thead th {\n",
       "        text-align: right;\n",
       "    }\n",
       "</style>\n",
       "<table border=\"1\" class=\"dataframe\">\n",
       "  <thead>\n",
       "    <tr style=\"text-align: right;\">\n",
       "      <th></th>\n",
       "      <th>date</th>\n",
       "      <th>store_nbr</th>\n",
       "      <th>family</th>\n",
       "      <th>sales</th>\n",
       "      <th>onpromotion</th>\n",
       "    </tr>\n",
       "  </thead>\n",
       "  <tbody>\n",
       "    <tr>\n",
       "      <th>1813</th>\n",
       "      <td>2013-02-02</td>\n",
       "      <td>0</td>\n",
       "      <td>SEAFOOD</td>\n",
       "      <td>0.0</td>\n",
       "      <td>0.0</td>\n",
       "    </tr>\n",
       "  </tbody>\n",
       "</table>\n",
       "</div>"
      ],
      "text/plain": [
       "           date  store_nbr   family  sales  onpromotion\n",
       "1813 2013-02-02          0  SEAFOOD    0.0          0.0"
      ]
     },
     "execution_count": 356,
     "metadata": {},
     "output_type": "execute_result"
    }
   ],
   "source": [
    "new_df[new_df.date == \"2013-02-02\"]"
   ]
  },
  {
   "cell_type": "code",
   "execution_count": 357,
   "id": "5b2c9fcb",
   "metadata": {},
   "outputs": [],
   "source": [
    "new_df = new_df.set_index(\"date\")"
   ]
  },
  {
   "cell_type": "markdown",
   "id": "8403b9c8",
   "metadata": {},
   "source": [
    "# Resampling to a date\n"
   ]
  },
  {
   "cell_type": "code",
   "execution_count": 358,
   "id": "e951a549",
   "metadata": {},
   "outputs": [],
   "source": [
    "new_df = new_df.resample('1D', base=1).agg(lambda x: x.mode()[0])"
   ]
  },
  {
   "cell_type": "code",
   "execution_count": 359,
   "id": "7509b9f4",
   "metadata": {},
   "outputs": [
    {
     "data": {
      "text/html": [
       "<div>\n",
       "<style scoped>\n",
       "    .dataframe tbody tr th:only-of-type {\n",
       "        vertical-align: middle;\n",
       "    }\n",
       "\n",
       "    .dataframe tbody tr th {\n",
       "        vertical-align: top;\n",
       "    }\n",
       "\n",
       "    .dataframe thead th {\n",
       "        text-align: right;\n",
       "    }\n",
       "</style>\n",
       "<table border=\"1\" class=\"dataframe\">\n",
       "  <thead>\n",
       "    <tr style=\"text-align: right;\">\n",
       "      <th></th>\n",
       "      <th>store_nbr</th>\n",
       "      <th>family</th>\n",
       "      <th>sales</th>\n",
       "      <th>onpromotion</th>\n",
       "    </tr>\n",
       "    <tr>\n",
       "      <th>date</th>\n",
       "      <th></th>\n",
       "      <th></th>\n",
       "      <th></th>\n",
       "      <th></th>\n",
       "    </tr>\n",
       "  </thead>\n",
       "  <tbody>\n",
       "    <tr>\n",
       "      <th>2013-01-01</th>\n",
       "      <td>1</td>\n",
       "      <td>AUTOMOTIVE</td>\n",
       "      <td>0.0</td>\n",
       "      <td>0.0</td>\n",
       "    </tr>\n",
       "    <tr>\n",
       "      <th>2013-01-02</th>\n",
       "      <td>0</td>\n",
       "      <td>SEAFOOD</td>\n",
       "      <td>0.0</td>\n",
       "      <td>0.0</td>\n",
       "    </tr>\n",
       "    <tr>\n",
       "      <th>2013-01-03</th>\n",
       "      <td>0</td>\n",
       "      <td>SEAFOOD</td>\n",
       "      <td>0.0</td>\n",
       "      <td>0.0</td>\n",
       "    </tr>\n",
       "    <tr>\n",
       "      <th>2013-01-04</th>\n",
       "      <td>0</td>\n",
       "      <td>SEAFOOD</td>\n",
       "      <td>0.0</td>\n",
       "      <td>0.0</td>\n",
       "    </tr>\n",
       "    <tr>\n",
       "      <th>2013-01-05</th>\n",
       "      <td>0</td>\n",
       "      <td>SEAFOOD</td>\n",
       "      <td>0.0</td>\n",
       "      <td>0.0</td>\n",
       "    </tr>\n",
       "  </tbody>\n",
       "</table>\n",
       "</div>"
      ],
      "text/plain": [
       "            store_nbr      family  sales  onpromotion\n",
       "date                                                 \n",
       "2013-01-01          1  AUTOMOTIVE    0.0          0.0\n",
       "2013-01-02          0     SEAFOOD    0.0          0.0\n",
       "2013-01-03          0     SEAFOOD    0.0          0.0\n",
       "2013-01-04          0     SEAFOOD    0.0          0.0\n",
       "2013-01-05          0     SEAFOOD    0.0          0.0"
      ]
     },
     "execution_count": 359,
     "metadata": {},
     "output_type": "execute_result"
    }
   ],
   "source": [
    "new_df.head()"
   ]
  },
  {
   "cell_type": "code",
   "execution_count": 360,
   "id": "e7272e93",
   "metadata": {},
   "outputs": [
    {
     "data": {
      "text/plain": [
       "False"
      ]
     },
     "execution_count": 360,
     "metadata": {},
     "output_type": "execute_result"
    }
   ],
   "source": [
    "( new_df.sales < 0).any()"
   ]
  },
  {
   "cell_type": "markdown",
   "id": "052d2ae8",
   "metadata": {},
   "source": [
    "using 2013 year for modeling"
   ]
  },
  {
   "cell_type": "code",
   "execution_count": 361,
   "id": "bbed2ea8",
   "metadata": {},
   "outputs": [
    {
     "data": {
      "text/html": [
       "<div>\n",
       "<style scoped>\n",
       "    .dataframe tbody tr th:only-of-type {\n",
       "        vertical-align: middle;\n",
       "    }\n",
       "\n",
       "    .dataframe tbody tr th {\n",
       "        vertical-align: top;\n",
       "    }\n",
       "\n",
       "    .dataframe thead th {\n",
       "        text-align: right;\n",
       "    }\n",
       "</style>\n",
       "<table border=\"1\" class=\"dataframe\">\n",
       "  <thead>\n",
       "    <tr style=\"text-align: right;\">\n",
       "      <th></th>\n",
       "      <th>store_nbr</th>\n",
       "      <th>family</th>\n",
       "      <th>sales</th>\n",
       "      <th>onpromotion</th>\n",
       "    </tr>\n",
       "    <tr>\n",
       "      <th>date</th>\n",
       "      <th></th>\n",
       "      <th></th>\n",
       "      <th></th>\n",
       "      <th></th>\n",
       "    </tr>\n",
       "  </thead>\n",
       "  <tbody>\n",
       "    <tr>\n",
       "      <th>2013-01-01</th>\n",
       "      <td>1</td>\n",
       "      <td>AUTOMOTIVE</td>\n",
       "      <td>0.0</td>\n",
       "      <td>0.0</td>\n",
       "    </tr>\n",
       "    <tr>\n",
       "      <th>2013-01-02</th>\n",
       "      <td>0</td>\n",
       "      <td>SEAFOOD</td>\n",
       "      <td>0.0</td>\n",
       "      <td>0.0</td>\n",
       "    </tr>\n",
       "    <tr>\n",
       "      <th>2013-01-03</th>\n",
       "      <td>0</td>\n",
       "      <td>SEAFOOD</td>\n",
       "      <td>0.0</td>\n",
       "      <td>0.0</td>\n",
       "    </tr>\n",
       "    <tr>\n",
       "      <th>2013-01-04</th>\n",
       "      <td>0</td>\n",
       "      <td>SEAFOOD</td>\n",
       "      <td>0.0</td>\n",
       "      <td>0.0</td>\n",
       "    </tr>\n",
       "    <tr>\n",
       "      <th>2013-01-05</th>\n",
       "      <td>0</td>\n",
       "      <td>SEAFOOD</td>\n",
       "      <td>0.0</td>\n",
       "      <td>0.0</td>\n",
       "    </tr>\n",
       "  </tbody>\n",
       "</table>\n",
       "</div>"
      ],
      "text/plain": [
       "            store_nbr      family  sales  onpromotion\n",
       "date                                                 \n",
       "2013-01-01          1  AUTOMOTIVE    0.0          0.0\n",
       "2013-01-02          0     SEAFOOD    0.0          0.0\n",
       "2013-01-03          0     SEAFOOD    0.0          0.0\n",
       "2013-01-04          0     SEAFOOD    0.0          0.0\n",
       "2013-01-05          0     SEAFOOD    0.0          0.0"
      ]
     },
     "execution_count": 361,
     "metadata": {},
     "output_type": "execute_result"
    }
   ],
   "source": [
    "new_df = new_df[\"2013\"]\n",
    "new_df.head()"
   ]
  },
  {
   "cell_type": "markdown",
   "id": "33a45e7d",
   "metadata": {},
   "source": [
    "# Correcting seasonality"
   ]
  },
  {
   "cell_type": "code",
   "execution_count": 362,
   "id": "c0f82a05",
   "metadata": {},
   "outputs": [
    {
     "data": {
      "image/png": "[encoded data removed]",
      "text/plain": [
       "<Figure size 1000x800 with 4 Axes>"
      ]
     },
     "metadata": {},
     "output_type": "display_data"
    }
   ],
   "source": [
    "import statsmodels.api as sm\n",
    "\n",
    "# use STL decomposition to decompose the time series into trend, seasonal, and residual components\n",
    "stl = sm.tsa.STL(new_df.sales, seasonal=7)\n",
    "res = stl.fit()\n",
    "\n",
    "# plot the decomposition results\n",
    "fig = res.plot()\n",
    "fig.set_size_inches(10, 8)\n",
    "plt.show()\n"
   ]
  },
  {
   "cell_type": "code",
   "execution_count": 363,
   "id": "ee0c59c8",
   "metadata": {},
   "outputs": [],
   "source": [
    "tst = res.resid"
   ]
  },
  {
   "cell_type": "code",
   "execution_count": 364,
   "id": "62775701",
   "metadata": {},
   "outputs": [],
   "source": [
    "import numpy as np\n",
    "x = np.expm1(tst)\n"
   ]
  },
  {
   "cell_type": "code",
   "execution_count": 365,
   "id": "14d8ce94",
   "metadata": {},
   "outputs": [
    {
     "data": {
      "text/plain": [
       "date\n",
       "2013-01-01    1.691654e-07\n",
       "2013-01-02    6.719414e-08\n",
       "2013-01-03   -3.948058e-09\n",
       "2013-01-04   -3.970446e-08\n",
       "2013-01-05   -7.213481e-08\n",
       "                  ...     \n",
       "2013-12-27    1.414197e-02\n",
       "2013-12-28    2.809764e-02\n",
       "2013-12-29    3.979234e-02\n",
       "2013-12-30    4.475539e-01\n",
       "2013-12-31   -2.549193e-01\n",
       "Freq: D, Name: resid, Length: 365, dtype: float64"
      ]
     },
     "execution_count": 365,
     "metadata": {},
     "output_type": "execute_result"
    }
   ],
   "source": [
    "tst"
   ]
  },
  {
   "cell_type": "markdown",
   "id": "be7f4d87",
   "metadata": {},
   "source": [
    "### correcting the negative number by adding constant number"
   ]
  },
  {
   "cell_type": "code",
   "execution_count": 366,
   "id": "bb472ebe",
   "metadata": {},
   "outputs": [
    {
     "data": {
      "text/plain": [
       "date\n",
       "2013-01-01    2.805619\n",
       "2013-01-02    2.805619\n",
       "2013-01-03    2.805619\n",
       "2013-01-04    2.805619\n",
       "2013-01-05    2.805619\n",
       "                ...   \n",
       "2013-12-27    2.819761\n",
       "2013-12-28    2.833716\n",
       "2013-12-29    2.845411\n",
       "2013-12-30    3.253173\n",
       "2013-12-31    2.550699\n",
       "Freq: D, Name: resid, Length: 365, dtype: float64"
      ]
     },
     "execution_count": 366,
     "metadata": {},
     "output_type": "execute_result"
    }
   ],
   "source": [
    "#add a constant to make data positive\n",
    "alpha = 1 - np.min(tst)\n",
    "data_pos = tst + alpha\n",
    "data_pos"
   ]
  },
  {
   "cell_type": "markdown",
   "id": "d6c55859",
   "metadata": {},
   "source": [
    "# correcting outliers using yeo-johnson"
   ]
  },
  {
   "cell_type": "code",
   "execution_count": 367,
   "id": "ada10779",
   "metadata": {},
   "outputs": [
    {
     "name": "stdout",
     "output_type": "stream",
     "text": [
      "date\n",
      "2013-01-01    2.805619\n",
      "2013-01-02    2.805619\n",
      "2013-01-03    2.805619\n",
      "2013-01-04    2.805619\n",
      "2013-01-05    2.805619\n",
      "                ...   \n",
      "2013-12-27    2.819761\n",
      "2013-12-28    2.833716\n",
      "2013-12-29    2.845411\n",
      "2013-12-30    3.253173\n",
      "2013-12-31    2.550699\n",
      "Freq: D, Name: resid, Length: 365, dtype: float64\n"
     ]
    }
   ],
   "source": [
    "# import the library\n",
    "import pandas as pd\n",
    "\n",
    "# generate some skewed data with outliers\n",
    "x = data_pos\n",
    "\n",
    "# define an outlier as a value that is more than 3 standard deviations from the mean\n",
    "outliers = abs(x - x.mean()) > 3 * x.std()\n",
    "\n",
    "# replace the outliers with the mean\n",
    "x[outliers] = x.mean()\n",
    "\n",
    "# print the corrected data\n",
    "print(x)\n"
   ]
  },
  {
   "cell_type": "code",
   "execution_count": 368,
   "id": "f6ba2393",
   "metadata": {},
   "outputs": [
    {
     "data": {
      "text/plain": [
       "<AxesSubplot:xlabel='date'>"
      ]
     },
     "execution_count": 368,
     "metadata": {},
     "output_type": "execute_result"
    },
    {
     "data": {
      "image/png": "[encoded data removed]",
      "text/plain": [
       "<Figure size 640x480 with 1 Axes>"
      ]
     },
     "metadata": {},
     "output_type": "display_data"
    }
   ],
   "source": [
    "x.plot()"
   ]
  },
  {
   "cell_type": "code",
   "execution_count": 369,
   "id": "6ac8f383",
   "metadata": {},
   "outputs": [],
   "source": [
    "new_df.sales = x"
   ]
  },
  {
   "cell_type": "code",
   "execution_count": 370,
   "id": "fd101515",
   "metadata": {},
   "outputs": [
    {
     "data": {
      "text/html": [
       "<div>\n",
       "<style scoped>\n",
       "    .dataframe tbody tr th:only-of-type {\n",
       "        vertical-align: middle;\n",
       "    }\n",
       "\n",
       "    .dataframe tbody tr th {\n",
       "        vertical-align: top;\n",
       "    }\n",
       "\n",
       "    .dataframe thead th {\n",
       "        text-align: right;\n",
       "    }\n",
       "</style>\n",
       "<table border=\"1\" class=\"dataframe\">\n",
       "  <thead>\n",
       "    <tr style=\"text-align: right;\">\n",
       "      <th></th>\n",
       "      <th>store_nbr</th>\n",
       "      <th>family</th>\n",
       "      <th>sales</th>\n",
       "      <th>onpromotion</th>\n",
       "    </tr>\n",
       "    <tr>\n",
       "      <th>date</th>\n",
       "      <th></th>\n",
       "      <th></th>\n",
       "      <th></th>\n",
       "      <th></th>\n",
       "    </tr>\n",
       "  </thead>\n",
       "  <tbody>\n",
       "    <tr>\n",
       "      <th>2013-01-01</th>\n",
       "      <td>1</td>\n",
       "      <td>AUTOMOTIVE</td>\n",
       "      <td>2.805619</td>\n",
       "      <td>0.0</td>\n",
       "    </tr>\n",
       "    <tr>\n",
       "      <th>2013-01-02</th>\n",
       "      <td>0</td>\n",
       "      <td>SEAFOOD</td>\n",
       "      <td>2.805619</td>\n",
       "      <td>0.0</td>\n",
       "    </tr>\n",
       "    <tr>\n",
       "      <th>2013-01-03</th>\n",
       "      <td>0</td>\n",
       "      <td>SEAFOOD</td>\n",
       "      <td>2.805619</td>\n",
       "      <td>0.0</td>\n",
       "    </tr>\n",
       "    <tr>\n",
       "      <th>2013-01-04</th>\n",
       "      <td>0</td>\n",
       "      <td>SEAFOOD</td>\n",
       "      <td>2.805619</td>\n",
       "      <td>0.0</td>\n",
       "    </tr>\n",
       "    <tr>\n",
       "      <th>2013-01-05</th>\n",
       "      <td>0</td>\n",
       "      <td>SEAFOOD</td>\n",
       "      <td>2.805619</td>\n",
       "      <td>0.0</td>\n",
       "    </tr>\n",
       "    <tr>\n",
       "      <th>...</th>\n",
       "      <td>...</td>\n",
       "      <td>...</td>\n",
       "      <td>...</td>\n",
       "      <td>...</td>\n",
       "    </tr>\n",
       "    <tr>\n",
       "      <th>2013-12-27</th>\n",
       "      <td>0</td>\n",
       "      <td>SEAFOOD</td>\n",
       "      <td>2.819761</td>\n",
       "      <td>0.0</td>\n",
       "    </tr>\n",
       "    <tr>\n",
       "      <th>2013-12-28</th>\n",
       "      <td>0</td>\n",
       "      <td>SEAFOOD</td>\n",
       "      <td>2.833716</td>\n",
       "      <td>0.0</td>\n",
       "    </tr>\n",
       "    <tr>\n",
       "      <th>2013-12-29</th>\n",
       "      <td>0</td>\n",
       "      <td>SEAFOOD</td>\n",
       "      <td>2.845411</td>\n",
       "      <td>0.0</td>\n",
       "    </tr>\n",
       "    <tr>\n",
       "      <th>2013-12-30</th>\n",
       "      <td>0</td>\n",
       "      <td>SEAFOOD</td>\n",
       "      <td>3.253173</td>\n",
       "      <td>0.0</td>\n",
       "    </tr>\n",
       "    <tr>\n",
       "      <th>2013-12-31</th>\n",
       "      <td>1</td>\n",
       "      <td>AUTOMOTIVE</td>\n",
       "      <td>2.550699</td>\n",
       "      <td>0.0</td>\n",
       "    </tr>\n",
       "  </tbody>\n",
       "</table>\n",
       "<p>365 rows × 4 columns</p>\n",
       "</div>"
      ],
      "text/plain": [
       "            store_nbr      family     sales  onpromotion\n",
       "date                                                    \n",
       "2013-01-01          1  AUTOMOTIVE  2.805619          0.0\n",
       "2013-01-02          0     SEAFOOD  2.805619          0.0\n",
       "2013-01-03          0     SEAFOOD  2.805619          0.0\n",
       "2013-01-04          0     SEAFOOD  2.805619          0.0\n",
       "2013-01-05          0     SEAFOOD  2.805619          0.0\n",
       "...               ...         ...       ...          ...\n",
       "2013-12-27          0     SEAFOOD  2.819761          0.0\n",
       "2013-12-28          0     SEAFOOD  2.833716          0.0\n",
       "2013-12-29          0     SEAFOOD  2.845411          0.0\n",
       "2013-12-30          0     SEAFOOD  3.253173          0.0\n",
       "2013-12-31          1  AUTOMOTIVE  2.550699          0.0\n",
       "\n",
       "[365 rows x 4 columns]"
      ]
     },
     "execution_count": 370,
     "metadata": {},
     "output_type": "execute_result"
    }
   ],
   "source": [
    "new_df"
   ]
  },
  {
   "cell_type": "markdown",
   "id": "dbdae19a",
   "metadata": {},
   "source": [
    "# Data Splitting"
   ]
  },
  {
   "cell_type": "code",
   "execution_count": 371,
   "id": "2a5dc1e7",
   "metadata": {},
   "outputs": [],
   "source": [
    "# Fit and evaluate the AR model\n",
    "# Split the data into train and test sets\n",
    "\n",
    "train_size = int(new_df.shape[0]*0.8)\n",
    "\n",
    "train = new_df[:train_size]\n",
    "\n",
    "test = new_df[train_size:]"
   ]
  },
  {
   "cell_type": "code",
   "execution_count": 372,
   "id": "35a4c388",
   "metadata": {},
   "outputs": [],
   "source": [
    "train = train.reset_index()\n",
    "test = test.reset_index()"
   ]
  },
  {
   "cell_type": "code",
   "execution_count": 373,
   "id": "387e4002",
   "metadata": {},
   "outputs": [],
   "source": [
    "X_train = train.drop(\"sales\" , axis = 1)\n",
    "X_test = test.drop(\"sales\" , axis = 1)\n",
    "\n",
    "Y_train = train.sales\n",
    "Y_test = test.sales"
   ]
  },
  {
   "cell_type": "markdown",
   "id": "3e294dd6",
   "metadata": {},
   "source": [
    "# feature scaling and encoding"
   ]
  },
  {
   "cell_type": "code",
   "execution_count": 374,
   "id": "3c1b7623",
   "metadata": {},
   "outputs": [
    {
     "data": {
      "text/plain": [
       "Index(['date', 'store_nbr', 'family', 'sales', 'onpromotion'], dtype='object')"
      ]
     },
     "execution_count": 374,
     "metadata": {},
     "output_type": "execute_result"
    }
   ],
   "source": [
    "train.columns"
   ]
  },
  {
   "cell_type": "code",
   "execution_count": 375,
   "id": "99508b92",
   "metadata": {},
   "outputs": [],
   "source": [
    "# Separate target and features\n",
    "y = new_df[\"sales\"]\n",
    "X = new_df.drop(\"sales\", axis=1)"
   ]
  },
  {
   "cell_type": "code",
   "execution_count": 376,
   "id": "a64839ce",
   "metadata": {},
   "outputs": [],
   "source": [
    "# One-hot encode categorical column\n",
    "from sklearn.preprocessing import OneHotEncoder\n",
    "# Import LabelEncoder\n",
    "from sklearn.preprocessing import LabelEncoder\n",
    "from sklearn.preprocessing import MinMaxScaler\n",
    "# Import datetime module\n",
    "import datetime\n",
    "\n",
    "# Cast the date column to a string type\n",
    "#X_train[\"date\"] = X_train[\"date\"].astype(str)\n",
    "#X_test[\"date\"] = X_test[\"date\"].astype(str)\n",
    "\n",
    "# Convert date column to ordinal values\n",
    "#X_train[\"date\"] = X_train[\"date\"].apply(lambda x: datetime.datetime.strptime(x, \"%Y-%m-%d\").toordinal())\n",
    "#X_test[\"date\"] = X_test[\"date\"].apply(lambda x: datetime.datetime.strptime(x, \"%Y-%m-%d\").toordinal())\n",
    "\n",
    "# Create an encoder and a scaler object\n",
    "encoder = OneHotEncoder(sparse=False)\n",
    "scaler = StandardScaler()\n",
    "\n",
    "# Scale the numerical columns as before\n",
    "scaler = StandardScaler()\n",
    "#X_train_scaled = scaler.fit_transform(X_train[[\"date\", \"store_nbr\", \"onpromotion\"]])\n",
    "#X_test_scaled = scaler.transform(X_test[[\"date\", \"store_nbr\", \"onpromotion\"]])\n",
    "\n",
    "# Fit the encoder and scaler on the train data\n",
    "encoder.fit(X_train[[\"family\"]])\n",
    "scaler.fit(X_train[[\"store_nbr\", \"onpromotion\"]])\n",
    "\n",
    "# Transform the train and test data using the fitted encoder and scaler\n",
    "X_train_ohe = encoder.transform(X_train[[\"family\"]])\n",
    "X_test_ohe = encoder.transform(X_test[[\"family\"]])\n",
    "X_train_scaled = scaler.transform(X_train[[\"store_nbr\", \"onpromotion\"]])\n",
    "X_test_scaled = scaler.transform(X_test[[\"store_nbr\", \"onpromotion\"]])\n",
    "\n",
    "# Concatenate the encoded and scaled features\n",
    "X_train_final = np.concatenate([X_train_ohe, X_train_scaled], axis=1)\n",
    "X_test_final = np.concatenate([X_test_ohe, X_test_scaled], axis=1)                     "
   ]
  },
  {
   "cell_type": "code",
   "execution_count": 377,
   "id": "d9bb4431",
   "metadata": {},
   "outputs": [
    {
     "data": {
      "text/plain": [
       "array([[ 1.        ,  0.        ,  3.90156664,  0.        ],\n",
       "       [ 0.        ,  1.        , -0.2563073 ,  0.        ],\n",
       "       [ 0.        ,  1.        , -0.2563073 ,  0.        ],\n",
       "       ...,\n",
       "       [ 0.        ,  1.        , -0.2563073 ,  0.        ],\n",
       "       [ 0.        ,  1.        , -0.2563073 ,  0.        ],\n",
       "       [ 0.        ,  1.        , -0.2563073 ,  0.        ]])"
      ]
     },
     "execution_count": 377,
     "metadata": {},
     "output_type": "execute_result"
    }
   ],
   "source": [
    "X_train_final"
   ]
  },
  {
   "cell_type": "code",
   "execution_count": 378,
   "id": "14393a87",
   "metadata": {},
   "outputs": [
    {
     "data": {
      "text/plain": [
       "array([[ 3.90156664,  0.        ],\n",
       "       [-0.2563073 ,  0.        ],\n",
       "       [-0.2563073 ,  0.        ],\n",
       "       [-0.2563073 ,  0.        ],\n",
       "       [-0.2563073 ,  0.        ],\n",
       "       [-0.2563073 ,  0.        ],\n",
       "       [-0.2563073 ,  0.        ],\n",
       "       [-0.2563073 ,  0.        ],\n",
       "       [-0.2563073 ,  0.        ],\n",
       "       [-0.2563073 ,  0.        ],\n",
       "       [-0.2563073 ,  0.        ],\n",
       "       [-0.2563073 ,  0.        ],\n",
       "       [-0.2563073 ,  0.        ],\n",
       "       [-0.2563073 ,  0.        ],\n",
       "       [-0.2563073 ,  0.        ],\n",
       "       [-0.2563073 ,  0.        ],\n",
       "       [-0.2563073 ,  0.        ],\n",
       "       [-0.2563073 ,  0.        ],\n",
       "       [-0.2563073 ,  0.        ],\n",
       "       [-0.2563073 ,  0.        ],\n",
       "       [-0.2563073 ,  0.        ],\n",
       "       [-0.2563073 ,  0.        ],\n",
       "       [-0.2563073 ,  0.        ],\n",
       "       [-0.2563073 ,  0.        ],\n",
       "       [-0.2563073 ,  0.        ],\n",
       "       [-0.2563073 ,  0.        ],\n",
       "       [-0.2563073 ,  0.        ],\n",
       "       [-0.2563073 ,  0.        ],\n",
       "       [-0.2563073 ,  0.        ],\n",
       "       [-0.2563073 ,  0.        ],\n",
       "       [-0.2563073 ,  0.        ],\n",
       "       [-0.2563073 ,  0.        ],\n",
       "       [-0.2563073 ,  0.        ],\n",
       "       [-0.2563073 ,  0.        ],\n",
       "       [-0.2563073 ,  0.        ],\n",
       "       [-0.2563073 ,  0.        ],\n",
       "       [-0.2563073 ,  0.        ],\n",
       "       [-0.2563073 ,  0.        ],\n",
       "       [-0.2563073 ,  0.        ],\n",
       "       [-0.2563073 ,  0.        ],\n",
       "       [-0.2563073 ,  0.        ],\n",
       "       [ 3.90156664,  0.        ],\n",
       "       [ 3.90156664,  0.        ],\n",
       "       [-0.2563073 ,  0.        ],\n",
       "       [-0.2563073 ,  0.        ],\n",
       "       [-0.2563073 ,  0.        ],\n",
       "       [-0.2563073 ,  0.        ],\n",
       "       [-0.2563073 ,  0.        ],\n",
       "       [-0.2563073 ,  0.        ],\n",
       "       [-0.2563073 ,  0.        ],\n",
       "       [-0.2563073 ,  0.        ],\n",
       "       [-0.2563073 ,  0.        ],\n",
       "       [-0.2563073 ,  0.        ],\n",
       "       [-0.2563073 ,  0.        ],\n",
       "       [-0.2563073 ,  0.        ],\n",
       "       [-0.2563073 ,  0.        ],\n",
       "       [-0.2563073 ,  0.        ],\n",
       "       [-0.2563073 ,  0.        ],\n",
       "       [-0.2563073 ,  0.        ],\n",
       "       [-0.2563073 ,  0.        ],\n",
       "       [-0.2563073 ,  0.        ],\n",
       "       [-0.2563073 ,  0.        ],\n",
       "       [-0.2563073 ,  0.        ],\n",
       "       [-0.2563073 ,  0.        ],\n",
       "       [-0.2563073 ,  0.        ],\n",
       "       [-0.2563073 ,  0.        ],\n",
       "       [-0.2563073 ,  0.        ],\n",
       "       [-0.2563073 ,  0.        ],\n",
       "       [-0.2563073 ,  0.        ],\n",
       "       [-0.2563073 ,  0.        ],\n",
       "       [-0.2563073 ,  0.        ],\n",
       "       [-0.2563073 ,  0.        ],\n",
       "       [-0.2563073 ,  0.        ],\n",
       "       [-0.2563073 ,  0.        ],\n",
       "       [-0.2563073 ,  0.        ],\n",
       "       [-0.2563073 ,  0.        ],\n",
       "       [-0.2563073 ,  0.        ],\n",
       "       [-0.2563073 ,  0.        ],\n",
       "       [-0.2563073 ,  0.        ],\n",
       "       [-0.2563073 ,  0.        ],\n",
       "       [-0.2563073 ,  0.        ],\n",
       "       [-0.2563073 ,  0.        ],\n",
       "       [-0.2563073 ,  0.        ],\n",
       "       [-0.2563073 ,  0.        ],\n",
       "       [-0.2563073 ,  0.        ],\n",
       "       [-0.2563073 ,  0.        ],\n",
       "       [-0.2563073 ,  0.        ],\n",
       "       [-0.2563073 ,  0.        ],\n",
       "       [-0.2563073 ,  0.        ],\n",
       "       [-0.2563073 ,  0.        ],\n",
       "       [ 3.90156664,  0.        ],\n",
       "       [-0.2563073 ,  0.        ],\n",
       "       [-0.2563073 ,  0.        ],\n",
       "       [-0.2563073 ,  0.        ],\n",
       "       [-0.2563073 ,  0.        ],\n",
       "       [-0.2563073 ,  0.        ],\n",
       "       [-0.2563073 ,  0.        ],\n",
       "       [-0.2563073 ,  0.        ],\n",
       "       [-0.2563073 ,  0.        ],\n",
       "       [-0.2563073 ,  0.        ],\n",
       "       [-0.2563073 ,  0.        ],\n",
       "       [ 3.90156664,  0.        ],\n",
       "       [-0.2563073 ,  0.        ],\n",
       "       [-0.2563073 ,  0.        ],\n",
       "       [-0.2563073 ,  0.        ],\n",
       "       [-0.2563073 ,  0.        ],\n",
       "       [-0.2563073 ,  0.        ],\n",
       "       [-0.2563073 ,  0.        ],\n",
       "       [-0.2563073 ,  0.        ],\n",
       "       [-0.2563073 ,  0.        ],\n",
       "       [-0.2563073 ,  0.        ],\n",
       "       [-0.2563073 ,  0.        ],\n",
       "       [-0.2563073 ,  0.        ],\n",
       "       [-0.2563073 ,  0.        ],\n",
       "       [-0.2563073 ,  0.        ],\n",
       "       [-0.2563073 ,  0.        ],\n",
       "       [-0.2563073 ,  0.        ],\n",
       "       [-0.2563073 ,  0.        ],\n",
       "       [ 3.90156664,  0.        ],\n",
       "       [-0.2563073 ,  0.        ],\n",
       "       [ 3.90156664,  0.        ],\n",
       "       [-0.2563073 ,  0.        ],\n",
       "       [-0.2563073 ,  0.        ],\n",
       "       [-0.2563073 ,  0.        ],\n",
       "       [-0.2563073 ,  0.        ],\n",
       "       [-0.2563073 ,  0.        ],\n",
       "       [-0.2563073 ,  0.        ],\n",
       "       [-0.2563073 ,  0.        ],\n",
       "       [-0.2563073 ,  0.        ],\n",
       "       [-0.2563073 ,  0.        ],\n",
       "       [-0.2563073 ,  0.        ],\n",
       "       [-0.2563073 ,  0.        ],\n",
       "       [-0.2563073 ,  0.        ],\n",
       "       [-0.2563073 ,  0.        ],\n",
       "       [-0.2563073 ,  0.        ],\n",
       "       [-0.2563073 ,  0.        ],\n",
       "       [-0.2563073 ,  0.        ],\n",
       "       [-0.2563073 ,  0.        ],\n",
       "       [-0.2563073 ,  0.        ],\n",
       "       [-0.2563073 ,  0.        ],\n",
       "       [-0.2563073 ,  0.        ],\n",
       "       [-0.2563073 ,  0.        ],\n",
       "       [-0.2563073 ,  0.        ],\n",
       "       [ 3.90156664,  0.        ],\n",
       "       [-0.2563073 ,  0.        ],\n",
       "       [-0.2563073 ,  0.        ],\n",
       "       [-0.2563073 ,  0.        ],\n",
       "       [-0.2563073 ,  0.        ],\n",
       "       [-0.2563073 ,  0.        ],\n",
       "       [-0.2563073 ,  0.        ],\n",
       "       [-0.2563073 ,  0.        ],\n",
       "       [-0.2563073 ,  0.        ],\n",
       "       [-0.2563073 ,  0.        ],\n",
       "       [-0.2563073 ,  0.        ],\n",
       "       [-0.2563073 ,  0.        ],\n",
       "       [-0.2563073 ,  0.        ],\n",
       "       [-0.2563073 ,  0.        ],\n",
       "       [-0.2563073 ,  0.        ],\n",
       "       [-0.2563073 ,  0.        ],\n",
       "       [-0.2563073 ,  0.        ],\n",
       "       [-0.2563073 ,  0.        ],\n",
       "       [-0.2563073 ,  0.        ],\n",
       "       [-0.2563073 ,  0.        ],\n",
       "       [-0.2563073 ,  0.        ],\n",
       "       [-0.2563073 ,  0.        ],\n",
       "       [-0.2563073 ,  0.        ],\n",
       "       [-0.2563073 ,  0.        ],\n",
       "       [-0.2563073 ,  0.        ],\n",
       "       [-0.2563073 ,  0.        ],\n",
       "       [-0.2563073 ,  0.        ],\n",
       "       [-0.2563073 ,  0.        ],\n",
       "       [-0.2563073 ,  0.        ],\n",
       "       [-0.2563073 ,  0.        ],\n",
       "       [-0.2563073 ,  0.        ],\n",
       "       [-0.2563073 ,  0.        ],\n",
       "       [ 3.90156664,  0.        ],\n",
       "       [-0.2563073 ,  0.        ],\n",
       "       [-0.2563073 ,  0.        ],\n",
       "       [-0.2563073 ,  0.        ],\n",
       "       [-0.2563073 ,  0.        ],\n",
       "       [-0.2563073 ,  0.        ],\n",
       "       [-0.2563073 ,  0.        ],\n",
       "       [-0.2563073 ,  0.        ],\n",
       "       [ 3.90156664,  0.        ],\n",
       "       [-0.2563073 ,  0.        ],\n",
       "       [-0.2563073 ,  0.        ],\n",
       "       [-0.2563073 ,  0.        ],\n",
       "       [-0.2563073 ,  0.        ],\n",
       "       [-0.2563073 ,  0.        ],\n",
       "       [-0.2563073 ,  0.        ],\n",
       "       [-0.2563073 ,  0.        ],\n",
       "       [-0.2563073 ,  0.        ],\n",
       "       [-0.2563073 ,  0.        ],\n",
       "       [-0.2563073 ,  0.        ],\n",
       "       [-0.2563073 ,  0.        ],\n",
       "       [-0.2563073 ,  0.        ],\n",
       "       [-0.2563073 ,  0.        ],\n",
       "       [-0.2563073 ,  0.        ],\n",
       "       [-0.2563073 ,  0.        ],\n",
       "       [-0.2563073 ,  0.        ],\n",
       "       [-0.2563073 ,  0.        ],\n",
       "       [-0.2563073 ,  0.        ],\n",
       "       [-0.2563073 ,  0.        ],\n",
       "       [ 3.90156664,  0.        ],\n",
       "       [ 3.90156664,  0.        ],\n",
       "       [ 3.90156664,  0.        ],\n",
       "       [-0.2563073 ,  0.        ],\n",
       "       [-0.2563073 ,  0.        ],\n",
       "       [-0.2563073 ,  0.        ],\n",
       "       [-0.2563073 ,  0.        ],\n",
       "       [-0.2563073 ,  0.        ],\n",
       "       [-0.2563073 ,  0.        ],\n",
       "       [-0.2563073 ,  0.        ],\n",
       "       [-0.2563073 ,  0.        ],\n",
       "       [-0.2563073 ,  0.        ],\n",
       "       [-0.2563073 ,  0.        ],\n",
       "       [ 3.90156664,  0.        ],\n",
       "       [-0.2563073 ,  0.        ],\n",
       "       [-0.2563073 ,  0.        ],\n",
       "       [-0.2563073 ,  0.        ],\n",
       "       [-0.2563073 ,  0.        ],\n",
       "       [-0.2563073 ,  0.        ],\n",
       "       [-0.2563073 ,  0.        ],\n",
       "       [-0.2563073 ,  0.        ],\n",
       "       [-0.2563073 ,  0.        ],\n",
       "       [-0.2563073 ,  0.        ],\n",
       "       [ 3.90156664,  0.        ],\n",
       "       [-0.2563073 ,  0.        ],\n",
       "       [-0.2563073 ,  0.        ],\n",
       "       [-0.2563073 ,  0.        ],\n",
       "       [-0.2563073 ,  0.        ],\n",
       "       [-0.2563073 ,  0.        ],\n",
       "       [-0.2563073 ,  0.        ],\n",
       "       [-0.2563073 ,  0.        ],\n",
       "       [-0.2563073 ,  0.        ],\n",
       "       [-0.2563073 ,  0.        ],\n",
       "       [-0.2563073 ,  0.        ],\n",
       "       [-0.2563073 ,  0.        ],\n",
       "       [-0.2563073 ,  0.        ],\n",
       "       [-0.2563073 ,  0.        ],\n",
       "       [-0.2563073 ,  0.        ],\n",
       "       [-0.2563073 ,  0.        ],\n",
       "       [-0.2563073 ,  0.        ],\n",
       "       [-0.2563073 ,  0.        ],\n",
       "       [-0.2563073 ,  0.        ],\n",
       "       [-0.2563073 ,  0.        ],\n",
       "       [-0.2563073 ,  0.        ],\n",
       "       [-0.2563073 ,  0.        ],\n",
       "       [-0.2563073 ,  0.        ],\n",
       "       [-0.2563073 ,  0.        ],\n",
       "       [-0.2563073 ,  0.        ],\n",
       "       [-0.2563073 ,  0.        ],\n",
       "       [-0.2563073 ,  0.        ],\n",
       "       [-0.2563073 ,  0.        ],\n",
       "       [-0.2563073 ,  0.        ],\n",
       "       [-0.2563073 ,  0.        ],\n",
       "       [-0.2563073 ,  0.        ],\n",
       "       [-0.2563073 ,  0.        ],\n",
       "       [-0.2563073 ,  0.        ],\n",
       "       [-0.2563073 ,  0.        ],\n",
       "       [-0.2563073 ,  0.        ],\n",
       "       [-0.2563073 ,  0.        ],\n",
       "       [-0.2563073 ,  0.        ],\n",
       "       [-0.2563073 ,  0.        ],\n",
       "       [-0.2563073 ,  0.        ],\n",
       "       [-0.2563073 ,  0.        ],\n",
       "       [-0.2563073 ,  0.        ],\n",
       "       [-0.2563073 ,  0.        ],\n",
       "       [-0.2563073 ,  0.        ],\n",
       "       [-0.2563073 ,  0.        ],\n",
       "       [-0.2563073 ,  0.        ],\n",
       "       [-0.2563073 ,  0.        ],\n",
       "       [-0.2563073 ,  0.        ],\n",
       "       [-0.2563073 ,  0.        ],\n",
       "       [-0.2563073 ,  0.        ],\n",
       "       [-0.2563073 ,  0.        ],\n",
       "       [-0.2563073 ,  0.        ],\n",
       "       [-0.2563073 ,  0.        ],\n",
       "       [-0.2563073 ,  0.        ],\n",
       "       [ 3.90156664,  0.        ],\n",
       "       [-0.2563073 ,  0.        ],\n",
       "       [ 3.90156664,  0.        ],\n",
       "       [-0.2563073 ,  0.        ],\n",
       "       [ 3.90156664,  0.        ],\n",
       "       [-0.2563073 ,  0.        ],\n",
       "       [-0.2563073 ,  0.        ],\n",
       "       [-0.2563073 ,  0.        ],\n",
       "       [-0.2563073 ,  0.        ],\n",
       "       [-0.2563073 ,  0.        ],\n",
       "       [-0.2563073 ,  0.        ],\n",
       "       [-0.2563073 ,  0.        ],\n",
       "       [-0.2563073 ,  0.        ]])"
      ]
     },
     "execution_count": 378,
     "metadata": {},
     "output_type": "execute_result"
    }
   ],
   "source": [
    "X_train_scaled"
   ]
  },
  {
   "cell_type": "code",
   "execution_count": 379,
   "id": "838acb84",
   "metadata": {},
   "outputs": [],
   "source": [
    "# Convert the encoded and scaled features to dataframes\n",
    "X_train_final = pd.DataFrame(X_train_final, columns=[\"family_A\", \"family_B\", \"store_nbr\", \"onpromotion\"])\n",
    "X_test_final = pd.DataFrame(X_test_final, columns=[\"family_A\", \"family_B\", \"store_nbr\", \"onpromotion\"])"
   ]
  },
  {
   "cell_type": "code",
   "execution_count": 380,
   "id": "f1e365d8",
   "metadata": {},
   "outputs": [],
   "source": [
    "X_train_final[\"date\"] = train.date\n",
    "X_test_final[\"date\"] = test.date"
   ]
  },
  {
   "cell_type": "code",
   "execution_count": 381,
   "id": "4d817daa",
   "metadata": {},
   "outputs": [
    {
     "data": {
      "text/html": [
       "<div>\n",
       "<style scoped>\n",
       "    .dataframe tbody tr th:only-of-type {\n",
       "        vertical-align: middle;\n",
       "    }\n",
       "\n",
       "    .dataframe tbody tr th {\n",
       "        vertical-align: top;\n",
       "    }\n",
       "\n",
       "    .dataframe thead th {\n",
       "        text-align: right;\n",
       "    }\n",
       "</style>\n",
       "<table border=\"1\" class=\"dataframe\">\n",
       "  <thead>\n",
       "    <tr style=\"text-align: right;\">\n",
       "      <th></th>\n",
       "      <th>family_A</th>\n",
       "      <th>family_B</th>\n",
       "      <th>store_nbr</th>\n",
       "      <th>onpromotion</th>\n",
       "      <th>date</th>\n",
       "    </tr>\n",
       "  </thead>\n",
       "  <tbody>\n",
       "    <tr>\n",
       "      <th>0</th>\n",
       "      <td>1.0</td>\n",
       "      <td>0.0</td>\n",
       "      <td>3.901567</td>\n",
       "      <td>0.0</td>\n",
       "      <td>2013-01-01</td>\n",
       "    </tr>\n",
       "    <tr>\n",
       "      <th>1</th>\n",
       "      <td>0.0</td>\n",
       "      <td>1.0</td>\n",
       "      <td>-0.256307</td>\n",
       "      <td>0.0</td>\n",
       "      <td>2013-01-02</td>\n",
       "    </tr>\n",
       "    <tr>\n",
       "      <th>2</th>\n",
       "      <td>0.0</td>\n",
       "      <td>1.0</td>\n",
       "      <td>-0.256307</td>\n",
       "      <td>0.0</td>\n",
       "      <td>2013-01-03</td>\n",
       "    </tr>\n",
       "    <tr>\n",
       "      <th>3</th>\n",
       "      <td>0.0</td>\n",
       "      <td>1.0</td>\n",
       "      <td>-0.256307</td>\n",
       "      <td>0.0</td>\n",
       "      <td>2013-01-04</td>\n",
       "    </tr>\n",
       "    <tr>\n",
       "      <th>4</th>\n",
       "      <td>0.0</td>\n",
       "      <td>1.0</td>\n",
       "      <td>-0.256307</td>\n",
       "      <td>0.0</td>\n",
       "      <td>2013-01-05</td>\n",
       "    </tr>\n",
       "  </tbody>\n",
       "</table>\n",
       "</div>"
      ],
      "text/plain": [
       "   family_A  family_B  store_nbr  onpromotion       date\n",
       "0       1.0       0.0   3.901567          0.0 2013-01-01\n",
       "1       0.0       1.0  -0.256307          0.0 2013-01-02\n",
       "2       0.0       1.0  -0.256307          0.0 2013-01-03\n",
       "3       0.0       1.0  -0.256307          0.0 2013-01-04\n",
       "4       0.0       1.0  -0.256307          0.0 2013-01-05"
      ]
     },
     "execution_count": 381,
     "metadata": {},
     "output_type": "execute_result"
    }
   ],
   "source": [
    "X_train_final.head()"
   ]
  },
  {
   "cell_type": "code",
   "execution_count": 382,
   "id": "1d7057a0",
   "metadata": {},
   "outputs": [
    {
     "data": {
      "text/html": [
       "<div>\n",
       "<style scoped>\n",
       "    .dataframe tbody tr th:only-of-type {\n",
       "        vertical-align: middle;\n",
       "    }\n",
       "\n",
       "    .dataframe tbody tr th {\n",
       "        vertical-align: top;\n",
       "    }\n",
       "\n",
       "    .dataframe thead th {\n",
       "        text-align: right;\n",
       "    }\n",
       "</style>\n",
       "<table border=\"1\" class=\"dataframe\">\n",
       "  <thead>\n",
       "    <tr style=\"text-align: right;\">\n",
       "      <th></th>\n",
       "      <th>family_A</th>\n",
       "      <th>family_B</th>\n",
       "      <th>store_nbr</th>\n",
       "      <th>onpromotion</th>\n",
       "      <th>date</th>\n",
       "    </tr>\n",
       "  </thead>\n",
       "  <tbody>\n",
       "    <tr>\n",
       "      <th>0</th>\n",
       "      <td>1.0</td>\n",
       "      <td>0.0</td>\n",
       "      <td>3.901567</td>\n",
       "      <td>0.0</td>\n",
       "      <td>2013-01-01</td>\n",
       "    </tr>\n",
       "    <tr>\n",
       "      <th>1</th>\n",
       "      <td>0.0</td>\n",
       "      <td>1.0</td>\n",
       "      <td>-0.256307</td>\n",
       "      <td>0.0</td>\n",
       "      <td>2013-01-02</td>\n",
       "    </tr>\n",
       "    <tr>\n",
       "      <th>2</th>\n",
       "      <td>0.0</td>\n",
       "      <td>1.0</td>\n",
       "      <td>-0.256307</td>\n",
       "      <td>0.0</td>\n",
       "      <td>2013-01-03</td>\n",
       "    </tr>\n",
       "    <tr>\n",
       "      <th>3</th>\n",
       "      <td>0.0</td>\n",
       "      <td>1.0</td>\n",
       "      <td>-0.256307</td>\n",
       "      <td>0.0</td>\n",
       "      <td>2013-01-04</td>\n",
       "    </tr>\n",
       "    <tr>\n",
       "      <th>4</th>\n",
       "      <td>0.0</td>\n",
       "      <td>1.0</td>\n",
       "      <td>-0.256307</td>\n",
       "      <td>0.0</td>\n",
       "      <td>2013-01-05</td>\n",
       "    </tr>\n",
       "  </tbody>\n",
       "</table>\n",
       "</div>"
      ],
      "text/plain": [
       "   family_A  family_B  store_nbr  onpromotion       date\n",
       "0       1.0       0.0   3.901567          0.0 2013-01-01\n",
       "1       0.0       1.0  -0.256307          0.0 2013-01-02\n",
       "2       0.0       1.0  -0.256307          0.0 2013-01-03\n",
       "3       0.0       1.0  -0.256307          0.0 2013-01-04\n",
       "4       0.0       1.0  -0.256307          0.0 2013-01-05"
      ]
     },
     "execution_count": 382,
     "metadata": {},
     "output_type": "execute_result"
    }
   ],
   "source": [
    "d = X_train_final\n",
    "d.head()"
   ]
  },
  {
   "cell_type": "code",
   "execution_count": 383,
   "id": "833b7f4b",
   "metadata": {},
   "outputs": [],
   "source": [
    "d[\"sales\"] = y_train"
   ]
  },
  {
   "cell_type": "code",
   "execution_count": 384,
   "id": "9f54daa4",
   "metadata": {},
   "outputs": [
    {
     "data": {
      "text/html": [
       "<div>\n",
       "<style scoped>\n",
       "    .dataframe tbody tr th:only-of-type {\n",
       "        vertical-align: middle;\n",
       "    }\n",
       "\n",
       "    .dataframe tbody tr th {\n",
       "        vertical-align: top;\n",
       "    }\n",
       "\n",
       "    .dataframe thead th {\n",
       "        text-align: right;\n",
       "    }\n",
       "</style>\n",
       "<table border=\"1\" class=\"dataframe\">\n",
       "  <thead>\n",
       "    <tr style=\"text-align: right;\">\n",
       "      <th></th>\n",
       "      <th>family_A</th>\n",
       "      <th>family_B</th>\n",
       "      <th>store_nbr</th>\n",
       "      <th>onpromotion</th>\n",
       "      <th>sales</th>\n",
       "    </tr>\n",
       "    <tr>\n",
       "      <th>date</th>\n",
       "      <th></th>\n",
       "      <th></th>\n",
       "      <th></th>\n",
       "      <th></th>\n",
       "      <th></th>\n",
       "    </tr>\n",
       "  </thead>\n",
       "  <tbody>\n",
       "    <tr>\n",
       "      <th>2013-01-01</th>\n",
       "      <td>1.0</td>\n",
       "      <td>0.0</td>\n",
       "      <td>3.901567</td>\n",
       "      <td>0.0</td>\n",
       "      <td>2.805619</td>\n",
       "    </tr>\n",
       "    <tr>\n",
       "      <th>2013-01-02</th>\n",
       "      <td>0.0</td>\n",
       "      <td>1.0</td>\n",
       "      <td>-0.256307</td>\n",
       "      <td>0.0</td>\n",
       "      <td>2.805619</td>\n",
       "    </tr>\n",
       "    <tr>\n",
       "      <th>2013-01-03</th>\n",
       "      <td>0.0</td>\n",
       "      <td>1.0</td>\n",
       "      <td>-0.256307</td>\n",
       "      <td>0.0</td>\n",
       "      <td>2.805619</td>\n",
       "    </tr>\n",
       "    <tr>\n",
       "      <th>2013-01-04</th>\n",
       "      <td>0.0</td>\n",
       "      <td>1.0</td>\n",
       "      <td>-0.256307</td>\n",
       "      <td>0.0</td>\n",
       "      <td>2.805619</td>\n",
       "    </tr>\n",
       "    <tr>\n",
       "      <th>2013-01-05</th>\n",
       "      <td>0.0</td>\n",
       "      <td>1.0</td>\n",
       "      <td>-0.256307</td>\n",
       "      <td>0.0</td>\n",
       "      <td>2.805619</td>\n",
       "    </tr>\n",
       "    <tr>\n",
       "      <th>...</th>\n",
       "      <td>...</td>\n",
       "      <td>...</td>\n",
       "      <td>...</td>\n",
       "      <td>...</td>\n",
       "      <td>...</td>\n",
       "    </tr>\n",
       "    <tr>\n",
       "      <th>2013-10-15</th>\n",
       "      <td>0.0</td>\n",
       "      <td>1.0</td>\n",
       "      <td>-0.256307</td>\n",
       "      <td>0.0</td>\n",
       "      <td>2.237863</td>\n",
       "    </tr>\n",
       "    <tr>\n",
       "      <th>2013-10-16</th>\n",
       "      <td>0.0</td>\n",
       "      <td>1.0</td>\n",
       "      <td>-0.256307</td>\n",
       "      <td>0.0</td>\n",
       "      <td>2.892136</td>\n",
       "    </tr>\n",
       "    <tr>\n",
       "      <th>2013-10-17</th>\n",
       "      <td>0.0</td>\n",
       "      <td>1.0</td>\n",
       "      <td>-0.256307</td>\n",
       "      <td>0.0</td>\n",
       "      <td>2.905128</td>\n",
       "    </tr>\n",
       "    <tr>\n",
       "      <th>2013-10-18</th>\n",
       "      <td>0.0</td>\n",
       "      <td>1.0</td>\n",
       "      <td>-0.256307</td>\n",
       "      <td>0.0</td>\n",
       "      <td>2.908582</td>\n",
       "    </tr>\n",
       "    <tr>\n",
       "      <th>2013-10-19</th>\n",
       "      <td>0.0</td>\n",
       "      <td>1.0</td>\n",
       "      <td>-0.256307</td>\n",
       "      <td>0.0</td>\n",
       "      <td>2.867281</td>\n",
       "    </tr>\n",
       "  </tbody>\n",
       "</table>\n",
       "<p>292 rows × 5 columns</p>\n",
       "</div>"
      ],
      "text/plain": [
       "            family_A  family_B  store_nbr  onpromotion     sales\n",
       "date                                                            \n",
       "2013-01-01       1.0       0.0   3.901567          0.0  2.805619\n",
       "2013-01-02       0.0       1.0  -0.256307          0.0  2.805619\n",
       "2013-01-03       0.0       1.0  -0.256307          0.0  2.805619\n",
       "2013-01-04       0.0       1.0  -0.256307          0.0  2.805619\n",
       "2013-01-05       0.0       1.0  -0.256307          0.0  2.805619\n",
       "...              ...       ...        ...          ...       ...\n",
       "2013-10-15       0.0       1.0  -0.256307          0.0  2.237863\n",
       "2013-10-16       0.0       1.0  -0.256307          0.0  2.892136\n",
       "2013-10-17       0.0       1.0  -0.256307          0.0  2.905128\n",
       "2013-10-18       0.0       1.0  -0.256307          0.0  2.908582\n",
       "2013-10-19       0.0       1.0  -0.256307          0.0  2.867281\n",
       "\n",
       "[292 rows x 5 columns]"
      ]
     },
     "execution_count": 384,
     "metadata": {},
     "output_type": "execute_result"
    }
   ],
   "source": [
    "d = d.set_index(\"date\")\n",
    "d"
   ]
  },
  {
   "cell_type": "code",
   "execution_count": 385,
   "id": "17f9bd60",
   "metadata": {},
   "outputs": [
    {
     "data": {
      "text/plain": [
       "Timestamp('2013-12-31 00:00:00')"
      ]
     },
     "execution_count": 385,
     "metadata": {},
     "output_type": "execute_result"
    }
   ],
   "source": [
    "X_test_final.date.max()"
   ]
  },
  {
   "cell_type": "markdown",
   "id": "2879a8d6",
   "metadata": {},
   "source": [
    "# Modeling"
   ]
  },
  {
   "cell_type": "code",
   "execution_count": 386,
   "id": "2f590cf6",
   "metadata": {},
   "outputs": [],
   "source": [
    "model_trained = pd.DataFrame(columns = [\"Model\" , \"MSE\" , \"MSLE\" , \"RMSE\", \"RMSLE\"])"
   ]
  },
  {
   "cell_type": "code",
   "execution_count": 387,
   "id": "9b6dbf88",
   "metadata": {},
   "outputs": [],
   "source": [
    "from sklearn.metrics import mean_squared_error , mean_squared_log_error"
   ]
  },
  {
   "cell_type": "code",
   "execution_count": 388,
   "id": "bb318ca4",
   "metadata": {},
   "outputs": [],
   "source": [
    "def calculator(model , y_test , pred):\n",
    "    mse = mean_squared_error(y_test , pred)\n",
    "    msle = mean_squared_log_error(y_test , pred)\n",
    "    \n",
    "    rmse = round( np.sqrt(mse) , 3)\n",
    "    rmsle = round( np.sqrt(msle) , 3)\n",
    "    \n",
    "    new_row = {\"Model\": model,\n",
    "               \"MSE\": mse,\n",
    "               \"MSLE\": msle,\n",
    "               \"RMSE\": rmse,\n",
    "               \"RMSLE\": rmsle\n",
    "          }\n",
    "    \n",
    "    return new_row\n",
    "\n",
    "def test_calculator(y_test , pred):\n",
    "    \n",
    "    mse = mean_squared_error(y_test , pred)\n",
    "    msle = mean_squared_log_error(y_test , pred)\n",
    "    \n",
    "    rmse = round( np.sqrt(mse) , 3)\n",
    "    rmsle = round( np.sqrt(msle) , 3)\n",
    "    \n",
    "    dic = { \"MSE\" : mse , \"MSLE\" : msle , \"RMSE\" : rmse , \"RMSLE\" : rmsle}\n",
    "    \n",
    "    return dic"
   ]
  },
  {
   "cell_type": "markdown",
   "id": "82b8daeb",
   "metadata": {},
   "source": [
    "# 1. AutoReg Model "
   ]
  },
  {
   "cell_type": "markdown",
   "id": "615068db",
   "metadata": {},
   "source": [
    "## Create the model"
   ]
  },
  {
   "cell_type": "code",
   "execution_count": 389,
   "id": "1598bdf6",
   "metadata": {},
   "outputs": [
    {
     "data": {
      "text/plain": [
       "0     2013-01-01\n",
       "1     2013-01-02\n",
       "2     2013-01-03\n",
       "3     2013-01-04\n",
       "4     2013-01-05\n",
       "         ...    \n",
       "287   2013-10-15\n",
       "288   2013-10-16\n",
       "289   2013-10-17\n",
       "290   2013-10-18\n",
       "291   2013-10-19\n",
       "Name: date, Length: 292, dtype: datetime64[ns]"
      ]
     },
     "execution_count": 389,
     "metadata": {},
     "output_type": "execute_result"
    }
   ],
   "source": [
    "X_train_final[\"date\"]"
   ]
  },
  {
   "cell_type": "code",
   "execution_count": 390,
   "id": "a7db70a0",
   "metadata": {},
   "outputs": [],
   "source": [
    "# Import numpy module\n",
    "import numpy as np\n",
    "\n",
    "# Convert the DataFrame to a numpy array with float dtype\n",
    "X_train_array = np.asarray(X_train_final[\"date\"]).astype(float)\n",
    "X_test_array = np.asarray(X_test_final[\"date\"]).astype(float)"
   ]
  },
  {
   "cell_type": "code",
   "execution_count": 391,
   "id": "e89c0c0e",
   "metadata": {
    "scrolled": true
   },
   "outputs": [],
   "source": [
    "#import the library\n",
    "import statsmodels.api as sm\n",
    "\n",
    "#load a sample dataset\n",
    "data = sm.datasets.sunspots.load_pandas().data['SUNACTIVITY']\n",
    "\n",
    "#define the lag order\n",
    "lags = 10\n",
    "\n",
    "#fit the AR model\n",
    "#model = sm.tsa.AutoReg(x_train lags , trend = \"c\" )\n",
    "\n",
    "autoreg_model = sm.tsa.AutoReg(d.sales , lags ,  trend = \"c\" )"
   ]
  },
  {
   "cell_type": "markdown",
   "id": "b5ddad80",
   "metadata": {},
   "source": [
    "## Train the Model"
   ]
  },
  {
   "cell_type": "code",
   "execution_count": 392,
   "id": "0d1065f1",
   "metadata": {
    "scrolled": true
   },
   "outputs": [
    {
     "data": {
      "text/html": [
       "<table class=\"simpletable\">\n",
       "<caption>AutoReg Model Results</caption>\n",
       "<tr>\n",
       "  <th>Dep. Variable:</th>       <td>sales</td>      <th>  No. Observations:  </th>   <td>292</td>  \n",
       "</tr>\n",
       "<tr>\n",
       "  <th>Model:</th>            <td>AutoReg(10)</td>   <th>  Log Likelihood     </th> <td>-53.946</td>\n",
       "</tr>\n",
       "<tr>\n",
       "  <th>Method:</th>         <td>Conditional MLE</td> <th>  S.D. of innovations</th>  <td>0.293</td> \n",
       "</tr>\n",
       "<tr>\n",
       "  <th>Date:</th>          <td>Tue, 18 Jul 2023</td> <th>  AIC                </th> <td>131.892</td>\n",
       "</tr>\n",
       "<tr>\n",
       "  <th>Time:</th>              <td>05:53:08</td>     <th>  BIC                </th> <td>175.595</td>\n",
       "</tr>\n",
       "<tr>\n",
       "  <th>Sample:</th>           <td>01-11-2013</td>    <th>  HQIC               </th> <td>149.417</td>\n",
       "</tr>\n",
       "<tr>\n",
       "  <th></th>                 <td>- 10-19-2013</td>   <th>                     </th>    <td> </td>   \n",
       "</tr>\n",
       "</table>\n",
       "<table class=\"simpletable\">\n",
       "<tr>\n",
       "      <td></td>         <th>coef</th>     <th>std err</th>      <th>z</th>      <th>P>|z|</th>  <th>[0.025</th>    <th>0.975]</th>  \n",
       "</tr>\n",
       "<tr>\n",
       "  <th>const</th>     <td>    3.3510</td> <td>    0.473</td> <td>    7.089</td> <td> 0.000</td> <td>    2.424</td> <td>    4.277</td>\n",
       "</tr>\n",
       "<tr>\n",
       "  <th>sales.L1</th>  <td>    0.2597</td> <td>    0.060</td> <td>    4.362</td> <td> 0.000</td> <td>    0.143</td> <td>    0.376</td>\n",
       "</tr>\n",
       "<tr>\n",
       "  <th>sales.L2</th>  <td>    0.0706</td> <td>    0.062</td> <td>    1.148</td> <td> 0.251</td> <td>   -0.050</td> <td>    0.191</td>\n",
       "</tr>\n",
       "<tr>\n",
       "  <th>sales.L3</th>  <td>   -0.0221</td> <td>    0.062</td> <td>   -0.359</td> <td> 0.719</td> <td>   -0.143</td> <td>    0.099</td>\n",
       "</tr>\n",
       "<tr>\n",
       "  <th>sales.L4</th>  <td>   -0.0361</td> <td>    0.060</td> <td>   -0.599</td> <td> 0.549</td> <td>   -0.154</td> <td>    0.082</td>\n",
       "</tr>\n",
       "<tr>\n",
       "  <th>sales.L5</th>  <td>   -0.0959</td> <td>    0.060</td> <td>   -1.602</td> <td> 0.109</td> <td>   -0.213</td> <td>    0.021</td>\n",
       "</tr>\n",
       "<tr>\n",
       "  <th>sales.L6</th>  <td>   -0.1841</td> <td>    0.060</td> <td>   -3.072</td> <td> 0.002</td> <td>   -0.302</td> <td>   -0.067</td>\n",
       "</tr>\n",
       "<tr>\n",
       "  <th>sales.L7</th>  <td>   -0.2192</td> <td>    0.061</td> <td>   -3.600</td> <td> 0.000</td> <td>   -0.339</td> <td>   -0.100</td>\n",
       "</tr>\n",
       "<tr>\n",
       "  <th>sales.L8</th>  <td>   -0.0011</td> <td>    0.062</td> <td>   -0.018</td> <td> 0.986</td> <td>   -0.123</td> <td>    0.121</td>\n",
       "</tr>\n",
       "<tr>\n",
       "  <th>sales.L9</th>  <td>    0.0108</td> <td>    0.062</td> <td>    0.174</td> <td> 0.862</td> <td>   -0.111</td> <td>    0.133</td>\n",
       "</tr>\n",
       "<tr>\n",
       "  <th>sales.L10</th> <td>    0.0195</td> <td>    0.060</td> <td>    0.324</td> <td> 0.746</td> <td>   -0.098</td> <td>    0.137</td>\n",
       "</tr>\n",
       "</table>\n",
       "<table class=\"simpletable\">\n",
       "<caption>Roots</caption>\n",
       "<tr>\n",
       "    <td></td>    <th>            Real</th>  <th>         Imaginary</th> <th>         Modulus</th>  <th>        Frequency</th>\n",
       "</tr>\n",
       "<tr>\n",
       "  <th>AR.1</th>  <td>           0.9445</td> <td>          -0.4956j</td> <td>           1.0667</td> <td>          -0.0769</td>\n",
       "</tr>\n",
       "<tr>\n",
       "  <th>AR.2</th>  <td>           0.9445</td> <td>          +0.4956j</td> <td>           1.0667</td> <td>           0.0769</td>\n",
       "</tr>\n",
       "<tr>\n",
       "  <th>AR.3</th>  <td>           0.2440</td> <td>          -1.2076j</td> <td>           1.2320</td> <td>          -0.2183</td>\n",
       "</tr>\n",
       "<tr>\n",
       "  <th>AR.4</th>  <td>           0.2440</td> <td>          +1.2076j</td> <td>           1.2320</td> <td>           0.2183</td>\n",
       "</tr>\n",
       "<tr>\n",
       "  <th>AR.5</th>  <td>          -1.3448</td> <td>          -0.0000j</td> <td>           1.3448</td> <td>          -0.5000</td>\n",
       "</tr>\n",
       "<tr>\n",
       "  <th>AR.6</th>  <td>          -0.9656</td> <td>          -1.0324j</td> <td>           1.4136</td> <td>          -0.3697</td>\n",
       "</tr>\n",
       "<tr>\n",
       "  <th>AR.7</th>  <td>          -0.9656</td> <td>          +1.0324j</td> <td>           1.4136</td> <td>           0.3697</td>\n",
       "</tr>\n",
       "<tr>\n",
       "  <th>AR.8</th>  <td>           2.3701</td> <td>          -0.0000j</td> <td>           2.3701</td> <td>          -0.0000</td>\n",
       "</tr>\n",
       "<tr>\n",
       "  <th>AR.9</th>  <td>          -1.0133</td> <td>          -1.9086j</td> <td>           2.1609</td> <td>          -0.3277</td>\n",
       "</tr>\n",
       "<tr>\n",
       "  <th>AR.10</th> <td>          -1.0133</td> <td>          +1.9086j</td> <td>           2.1609</td> <td>           0.3277</td>\n",
       "</tr>\n",
       "</table>"
      ],
      "text/latex": [
       "\\begin{center}\n",
       "\\begin{tabular}{lclc}\n",
       "\\toprule\n",
       "\\textbf{Dep. Variable:} &           sales           & \\textbf{  No. Observations:  } &            292             \\\\\n",
       "\\textbf{Model:}         &        AutoReg(10)        & \\textbf{  Log Likelihood     } &          -53.946           \\\\\n",
       "\\textbf{Method:}        &      Conditional MLE      & \\textbf{  S.D. of innovations} &           0.293            \\\\\n",
       "\\textbf{Date:}          &      Tue, 18 Jul 2023     & \\textbf{  AIC                } &          131.892           \\\\\n",
       "\\textbf{Time:}          &          05:53:08         & \\textbf{  BIC                } &          175.595           \\\\\n",
       "\\textbf{Sample:}        &         01-11-2013        & \\textbf{  HQIC               } &          149.417           \\\\\n",
       "\\textbf{}               &        - 10-19-2013       & \\textbf{                     } &                            \\\\\n",
       "\\bottomrule\n",
       "\\end{tabular}\n",
       "\\begin{tabular}{lcccccc}\n",
       "                   & \\textbf{coef} & \\textbf{std err} & \\textbf{z} & \\textbf{P$> |$z$|$} & \\textbf{[0.025} & \\textbf{0.975]}  \\\\\n",
       "\\midrule\n",
       "\\textbf{const}     &       3.3510  &        0.473     &     7.089  &         0.000        &        2.424    &        4.277     \\\\\n",
       "\\textbf{sales.L1}  &       0.2597  &        0.060     &     4.362  &         0.000        &        0.143    &        0.376     \\\\\n",
       "\\textbf{sales.L2}  &       0.0706  &        0.062     &     1.148  &         0.251        &       -0.050    &        0.191     \\\\\n",
       "\\textbf{sales.L3}  &      -0.0221  &        0.062     &    -0.359  &         0.719        &       -0.143    &        0.099     \\\\\n",
       "\\textbf{sales.L4}  &      -0.0361  &        0.060     &    -0.599  &         0.549        &       -0.154    &        0.082     \\\\\n",
       "\\textbf{sales.L5}  &      -0.0959  &        0.060     &    -1.602  &         0.109        &       -0.213    &        0.021     \\\\\n",
       "\\textbf{sales.L6}  &      -0.1841  &        0.060     &    -3.072  &         0.002        &       -0.302    &       -0.067     \\\\\n",
       "\\textbf{sales.L7}  &      -0.2192  &        0.061     &    -3.600  &         0.000        &       -0.339    &       -0.100     \\\\\n",
       "\\textbf{sales.L8}  &      -0.0011  &        0.062     &    -0.018  &         0.986        &       -0.123    &        0.121     \\\\\n",
       "\\textbf{sales.L9}  &       0.0108  &        0.062     &     0.174  &         0.862        &       -0.111    &        0.133     \\\\\n",
       "\\textbf{sales.L10} &       0.0195  &        0.060     &     0.324  &         0.746        &       -0.098    &        0.137     \\\\\n",
       "\\bottomrule\n",
       "\\end{tabular}\n",
       "\\begin{tabular}{lcccc}\n",
       "               & \\textbf{            Real} & \\textbf{         Imaginary} & \\textbf{         Modulus} & \\textbf{        Frequency}  \\\\\n",
       "\\midrule\n",
       "\\textbf{AR.1}  &                0.9445     &                -0.4956j     &                1.0667     &               -0.0769       \\\\\n",
       "\\textbf{AR.2}  &                0.9445     &                +0.4956j     &                1.0667     &                0.0769       \\\\\n",
       "\\textbf{AR.3}  &                0.2440     &                -1.2076j     &                1.2320     &               -0.2183       \\\\\n",
       "\\textbf{AR.4}  &                0.2440     &                +1.2076j     &                1.2320     &                0.2183       \\\\\n",
       "\\textbf{AR.5}  &               -1.3448     &                -0.0000j     &                1.3448     &               -0.5000       \\\\\n",
       "\\textbf{AR.6}  &               -0.9656     &                -1.0324j     &                1.4136     &               -0.3697       \\\\\n",
       "\\textbf{AR.7}  &               -0.9656     &                +1.0324j     &                1.4136     &                0.3697       \\\\\n",
       "\\textbf{AR.8}  &                2.3701     &                -0.0000j     &                2.3701     &               -0.0000       \\\\\n",
       "\\textbf{AR.9}  &               -1.0133     &                -1.9086j     &                2.1609     &               -0.3277       \\\\\n",
       "\\textbf{AR.10} &               -1.0133     &                +1.9086j     &                2.1609     &                0.3277       \\\\\n",
       "\\bottomrule\n",
       "\\end{tabular}\n",
       "%\\caption{AutoReg Model Results}\n",
       "\\end{center}"
      ],
      "text/plain": [
       "<class 'statsmodels.iolib.summary.Summary'>\n",
       "\"\"\"\n",
       "                            AutoReg Model Results                             \n",
       "==============================================================================\n",
       "Dep. Variable:                  sales   No. Observations:                  292\n",
       "Model:                    AutoReg(10)   Log Likelihood                 -53.946\n",
       "Method:               Conditional MLE   S.D. of innovations              0.293\n",
       "Date:                Tue, 18 Jul 2023   AIC                            131.892\n",
       "Time:                        05:53:08   BIC                            175.595\n",
       "Sample:                    01-11-2013   HQIC                           149.417\n",
       "                         - 10-19-2013                                         \n",
       "==============================================================================\n",
       "                 coef    std err          z      P>|z|      [0.025      0.975]\n",
       "------------------------------------------------------------------------------\n",
       "const          3.3510      0.473      7.089      0.000       2.424       4.277\n",
       "sales.L1       0.2597      0.060      4.362      0.000       0.143       0.376\n",
       "sales.L2       0.0706      0.062      1.148      0.251      -0.050       0.191\n",
       "sales.L3      -0.0221      0.062     -0.359      0.719      -0.143       0.099\n",
       "sales.L4      -0.0361      0.060     -0.599      0.549      -0.154       0.082\n",
       "sales.L5      -0.0959      0.060     -1.602      0.109      -0.213       0.021\n",
       "sales.L6      -0.1841      0.060     -3.072      0.002      -0.302      -0.067\n",
       "sales.L7      -0.2192      0.061     -3.600      0.000      -0.339      -0.100\n",
       "sales.L8      -0.0011      0.062     -0.018      0.986      -0.123       0.121\n",
       "sales.L9       0.0108      0.062      0.174      0.862      -0.111       0.133\n",
       "sales.L10      0.0195      0.060      0.324      0.746      -0.098       0.137\n",
       "                                    Roots                                     \n",
       "==============================================================================\n",
       "                   Real          Imaginary           Modulus         Frequency\n",
       "------------------------------------------------------------------------------\n",
       "AR.1             0.9445           -0.4956j            1.0667           -0.0769\n",
       "AR.2             0.9445           +0.4956j            1.0667            0.0769\n",
       "AR.3             0.2440           -1.2076j            1.2320           -0.2183\n",
       "AR.4             0.2440           +1.2076j            1.2320            0.2183\n",
       "AR.5            -1.3448           -0.0000j            1.3448           -0.5000\n",
       "AR.6            -0.9656           -1.0324j            1.4136           -0.3697\n",
       "AR.7            -0.9656           +1.0324j            1.4136            0.3697\n",
       "AR.8             2.3701           -0.0000j            2.3701           -0.0000\n",
       "AR.9            -1.0133           -1.9086j            2.1609           -0.3277\n",
       "AR.10           -1.0133           +1.9086j            2.1609            0.3277\n",
       "------------------------------------------------------------------------------\n",
       "\"\"\""
      ]
     },
     "execution_count": 392,
     "metadata": {},
     "output_type": "execute_result"
    }
   ],
   "source": [
    "autoreg_results = autoreg_model.fit()\n",
    "\n",
    "#display the model summary\n",
    "autoreg_results.summary()"
   ]
  },
  {
   "cell_type": "markdown",
   "id": "2d4c7b3f",
   "metadata": {},
   "source": [
    "## Predict on a unknown dataset (Testset)"
   ]
  },
  {
   "cell_type": "code",
   "execution_count": 393,
   "id": "3706cfff",
   "metadata": {},
   "outputs": [
    {
     "data": {
      "text/plain": [
       "2013-10-20    2.856336\n",
       "2013-10-21    2.886992\n",
       "2013-10-22    2.911374\n",
       "2013-10-23    2.778879\n",
       "2013-10-24    2.740346\n",
       "Freq: D, dtype: float64"
      ]
     },
     "execution_count": 393,
     "metadata": {},
     "output_type": "execute_result"
    }
   ],
   "source": [
    "#predict using x_test\n",
    "test_autoreg = autoreg_results.predict(start = X_test_final.date.min() , end = X_test_final.date.max())\n",
    "\n",
    "# Forecast the test set\n",
    "#forecast = autoreg_results.predict(start=test.index[0], end=test.index[-1])\n",
    "\n",
    "#pred = results.predict(x_test)\n",
    "test_autoreg.head()"
   ]
  },
  {
   "cell_type": "code",
   "execution_count": 394,
   "id": "bb4ca03c",
   "metadata": {},
   "outputs": [],
   "source": [
    "test_autoreg = test_autoreg"
   ]
  },
  {
   "cell_type": "code",
   "execution_count": 395,
   "id": "c4ee2027",
   "metadata": {},
   "outputs": [
    {
     "data": {
      "text/plain": [
       "False"
      ]
     },
     "execution_count": 395,
     "metadata": {},
     "output_type": "execute_result"
    }
   ],
   "source": [
    "(test_autoreg < 0).any()"
   ]
  },
  {
   "cell_type": "code",
   "execution_count": 396,
   "id": "55746ecb",
   "metadata": {},
   "outputs": [
    {
     "data": {
      "text/plain": [
       "{'MSE': 0.09936449220563334,\n",
       " 'MSLE': 0.0073192212822083234,\n",
       " 'RMSE': 0.315,\n",
       " 'RMSLE': 0.086}"
      ]
     },
     "execution_count": 396,
     "metadata": {},
     "output_type": "execute_result"
    }
   ],
   "source": [
    "test_calculator(Y_test , test_autoreg)"
   ]
  },
  {
   "cell_type": "code",
   "execution_count": 397,
   "id": "e78921b1",
   "metadata": {},
   "outputs": [
    {
     "data": {
      "text/html": [
       "<div>\n",
       "<style scoped>\n",
       "    .dataframe tbody tr th:only-of-type {\n",
       "        vertical-align: middle;\n",
       "    }\n",
       "\n",
       "    .dataframe tbody tr th {\n",
       "        vertical-align: top;\n",
       "    }\n",
       "\n",
       "    .dataframe thead th {\n",
       "        text-align: right;\n",
       "    }\n",
       "</style>\n",
       "<table border=\"1\" class=\"dataframe\">\n",
       "  <thead>\n",
       "    <tr style=\"text-align: right;\">\n",
       "      <th></th>\n",
       "      <th>Model</th>\n",
       "      <th>MSE</th>\n",
       "      <th>MSLE</th>\n",
       "      <th>RMSE</th>\n",
       "      <th>RMSLE</th>\n",
       "    </tr>\n",
       "  </thead>\n",
       "  <tbody>\n",
       "    <tr>\n",
       "      <th>0</th>\n",
       "      <td>AutoReg</td>\n",
       "      <td>0.099364</td>\n",
       "      <td>0.007319</td>\n",
       "      <td>0.315</td>\n",
       "      <td>0.086</td>\n",
       "    </tr>\n",
       "  </tbody>\n",
       "</table>\n",
       "</div>"
      ],
      "text/plain": [
       "     Model       MSE      MSLE   RMSE  RMSLE\n",
       "0  AutoReg  0.099364  0.007319  0.315  0.086"
      ]
     },
     "execution_count": 397,
     "metadata": {},
     "output_type": "execute_result"
    }
   ],
   "source": [
    "# Append the new row to the dataframe\n",
    "model_trained = model_trained.append(calculator(\"AutoReg\" , y_test , test_autoreg ), ignore_index=True)\n",
    "model_trained"
   ]
  },
  {
   "cell_type": "markdown",
   "id": "9e76d978",
   "metadata": {},
   "source": [
    "# 2. ARIMA Model"
   ]
  },
  {
   "cell_type": "code",
   "execution_count": 398,
   "id": "0de76522",
   "metadata": {},
   "outputs": [],
   "source": [
    "# Import statsmodels library\n",
    "from statsmodels.tsa.arima.model import ARIMA\n",
    "\n",
    "# Fit ARIMA model with chosen parameters\n",
    "arima_model = ARIMA(d.sales, order=(1, 1, 2))"
   ]
  },
  {
   "cell_type": "markdown",
   "id": "108e5f02",
   "metadata": {},
   "source": [
    "## Train the Model"
   ]
  },
  {
   "cell_type": "code",
   "execution_count": 399,
   "id": "957dc4aa",
   "metadata": {},
   "outputs": [
    {
     "name": "stdout",
     "output_type": "stream",
     "text": [
      "                               SARIMAX Results                                \n",
      "==============================================================================\n",
      "Dep. Variable:                  sales   No. Observations:                  292\n",
      "Model:                 ARIMA(1, 1, 2)   Log Likelihood                -108.588\n",
      "Date:                Tue, 18 Jul 2023   AIC                            225.177\n",
      "Time:                        05:53:09   BIC                            239.870\n",
      "Sample:                    01-01-2013   HQIC                           231.063\n",
      "                         - 10-19-2013                                         \n",
      "Covariance Type:                  opg                                         \n",
      "==============================================================================\n",
      "                 coef    std err          z      P>|z|      [0.025      0.975]\n",
      "------------------------------------------------------------------------------\n",
      "ar.L1         -0.7786     10.830     -0.072      0.943     -22.004      20.447\n",
      "ma.L1          0.3726     10.836      0.034      0.973     -20.866      21.611\n",
      "ma.L2         -0.3146      4.413     -0.071      0.943      -8.963       8.334\n",
      "sigma2         0.1234      0.005     24.522      0.000       0.114       0.133\n",
      "===================================================================================\n",
      "Ljung-Box (L1) (Q):                   0.18   Jarque-Bera (JB):               694.95\n",
      "Prob(Q):                              0.67   Prob(JB):                         0.00\n",
      "Heteroskedasticity (H):               2.93   Skew:                            -0.53\n",
      "Prob(H) (two-sided):                  0.00   Kurtosis:                        10.50\n",
      "===================================================================================\n",
      "\n",
      "Warnings:\n",
      "[1] Covariance matrix calculated using the outer product of gradients (complex-step).\n"
     ]
    }
   ],
   "source": [
    "fitted = arima_model.fit()\n",
    "\n",
    "# Print model summary\n",
    "print(fitted.summary())"
   ]
  },
  {
   "cell_type": "markdown",
   "id": "c73cd459",
   "metadata": {},
   "source": [
    "## Predict on a unknown dataset (Testset)"
   ]
  },
  {
   "cell_type": "code",
   "execution_count": 400,
   "id": "3d3ce99d",
   "metadata": {},
   "outputs": [],
   "source": [
    "# Predict the values of the test set\n",
    "test_arima = fitted.predict(start = X_test_final.date.min() , end = X_test_final.date.max())"
   ]
  },
  {
   "cell_type": "code",
   "execution_count": 401,
   "id": "e7d6ac83",
   "metadata": {},
   "outputs": [
    {
     "data": {
      "text/plain": [
       "{'MSE': 0.10383986714471803,\n",
       " 'MSLE': 0.007773052712406617,\n",
       " 'RMSE': 0.322,\n",
       " 'RMSLE': 0.088}"
      ]
     },
     "execution_count": 401,
     "metadata": {},
     "output_type": "execute_result"
    }
   ],
   "source": [
    "test_calculator(Y_test , test_arima)"
   ]
  },
  {
   "cell_type": "code",
   "execution_count": 402,
   "id": "6fe288ab",
   "metadata": {},
   "outputs": [
    {
     "data": {
      "text/html": [
       "<div>\n",
       "<style scoped>\n",
       "    .dataframe tbody tr th:only-of-type {\n",
       "        vertical-align: middle;\n",
       "    }\n",
       "\n",
       "    .dataframe tbody tr th {\n",
       "        vertical-align: top;\n",
       "    }\n",
       "\n",
       "    .dataframe thead th {\n",
       "        text-align: right;\n",
       "    }\n",
       "</style>\n",
       "<table border=\"1\" class=\"dataframe\">\n",
       "  <thead>\n",
       "    <tr style=\"text-align: right;\">\n",
       "      <th></th>\n",
       "      <th>Model</th>\n",
       "      <th>MSE</th>\n",
       "      <th>MSLE</th>\n",
       "      <th>RMSE</th>\n",
       "      <th>RMSLE</th>\n",
       "    </tr>\n",
       "  </thead>\n",
       "  <tbody>\n",
       "    <tr>\n",
       "      <th>0</th>\n",
       "      <td>AutoReg</td>\n",
       "      <td>0.099364</td>\n",
       "      <td>0.007319</td>\n",
       "      <td>0.315</td>\n",
       "      <td>0.086</td>\n",
       "    </tr>\n",
       "    <tr>\n",
       "      <th>1</th>\n",
       "      <td>ARIMA</td>\n",
       "      <td>0.103840</td>\n",
       "      <td>0.007773</td>\n",
       "      <td>0.322</td>\n",
       "      <td>0.088</td>\n",
       "    </tr>\n",
       "  </tbody>\n",
       "</table>\n",
       "</div>"
      ],
      "text/plain": [
       "     Model       MSE      MSLE   RMSE  RMSLE\n",
       "0  AutoReg  0.099364  0.007319  0.315  0.086\n",
       "1    ARIMA  0.103840  0.007773  0.322  0.088"
      ]
     },
     "execution_count": 402,
     "metadata": {},
     "output_type": "execute_result"
    }
   ],
   "source": [
    "# Append the new row to the dataframe\n",
    "model_trained = model_trained.append(calculator(\"ARIMA\" , y_test , test_arima ), ignore_index=True)\n",
    "model_trained"
   ]
  },
  {
   "cell_type": "markdown",
   "id": "d9562514",
   "metadata": {},
   "source": [
    "# SARIMAX"
   ]
  },
  {
   "cell_type": "code",
   "execution_count": 403,
   "id": "5262c340",
   "metadata": {},
   "outputs": [],
   "source": [
    "# Import the library\n",
    "import statsmodels.api as sm\n",
    "\n",
    "# Define the endogenous and exogenous variables\n",
    "#ExogenousFeature_train = data['temperature'] # The external variable\n",
    "\n",
    "# Define the model parameters\n",
    "order = (1, 0, 0) # The ARIMA order\n",
    "seasonal_order = (2, 1, 0, 7) # The seasonal order"
   ]
  },
  {
   "cell_type": "markdown",
   "id": "94431705",
   "metadata": {},
   "source": [
    "## Train the Model"
   ]
  },
  {
   "cell_type": "code",
   "execution_count": 404,
   "id": "73f53329",
   "metadata": {},
   "outputs": [],
   "source": [
    "# Create and fit the model\n",
    "SARIMA_model = sm.tsa.SARIMAX(endog=d.sales.astype('float64'), \n",
    "                              exog = None,\n",
    "                              #exog=ExogenousFeature_train.values.astype('float64'), \n",
    "                              order=order, \n",
    "                              seasonal_order=seasonal_order, \n",
    "                              simple_differencing=False)\n",
    "model_results = SARIMA_model.fit()"
   ]
  },
  {
   "cell_type": "markdown",
   "id": "bbf526eb",
   "metadata": {},
   "source": [
    "## Predict on a unknown dataset (Testset)"
   ]
  },
  {
   "cell_type": "code",
   "execution_count": 405,
   "id": "bdecf90f",
   "metadata": {},
   "outputs": [],
   "source": [
    "# Make predictions\n",
    "test_sarima_pred = model_results.predict(start=X_test_final.date.min(), # The first date of the test set\n",
    "                             end=X_test_final.date.max(), # The last date of the test set\n",
    "                             exog = None,\n",
    "                             #exog=x_test.values.astype('float64'), # The exogenous variable for the test set\n",
    "                             dynamic=False)"
   ]
  },
  {
   "cell_type": "code",
   "execution_count": 406,
   "id": "437eb911",
   "metadata": {},
   "outputs": [
    {
     "data": {
      "text/plain": [
       "2013-10-20    2.782123\n",
       "2013-10-21    2.740406\n",
       "2013-10-22    2.535151\n",
       "2013-10-23    2.708257\n",
       "2013-10-24    2.691413\n",
       "Freq: D, Name: predicted_mean, dtype: float64"
      ]
     },
     "execution_count": 406,
     "metadata": {},
     "output_type": "execute_result"
    }
   ],
   "source": [
    "test_sarima_pred.head()"
   ]
  },
  {
   "cell_type": "code",
   "execution_count": 407,
   "id": "80fc7934",
   "metadata": {},
   "outputs": [
    {
     "data": {
      "text/html": [
       "<div>\n",
       "<style scoped>\n",
       "    .dataframe tbody tr th:only-of-type {\n",
       "        vertical-align: middle;\n",
       "    }\n",
       "\n",
       "    .dataframe tbody tr th {\n",
       "        vertical-align: top;\n",
       "    }\n",
       "\n",
       "    .dataframe thead th {\n",
       "        text-align: right;\n",
       "    }\n",
       "</style>\n",
       "<table border=\"1\" class=\"dataframe\">\n",
       "  <thead>\n",
       "    <tr style=\"text-align: right;\">\n",
       "      <th></th>\n",
       "      <th>Model</th>\n",
       "      <th>MSE</th>\n",
       "      <th>MSLE</th>\n",
       "      <th>RMSE</th>\n",
       "      <th>RMSLE</th>\n",
       "    </tr>\n",
       "  </thead>\n",
       "  <tbody>\n",
       "    <tr>\n",
       "      <th>0</th>\n",
       "      <td>AutoReg</td>\n",
       "      <td>0.099364</td>\n",
       "      <td>0.007319</td>\n",
       "      <td>0.315</td>\n",
       "      <td>0.086</td>\n",
       "    </tr>\n",
       "    <tr>\n",
       "      <th>1</th>\n",
       "      <td>ARIMA</td>\n",
       "      <td>0.103840</td>\n",
       "      <td>0.007773</td>\n",
       "      <td>0.322</td>\n",
       "      <td>0.088</td>\n",
       "    </tr>\n",
       "    <tr>\n",
       "      <th>2</th>\n",
       "      <td>SARIMA</td>\n",
       "      <td>0.122777</td>\n",
       "      <td>0.008922</td>\n",
       "      <td>0.350</td>\n",
       "      <td>0.094</td>\n",
       "    </tr>\n",
       "  </tbody>\n",
       "</table>\n",
       "</div>"
      ],
      "text/plain": [
       "     Model       MSE      MSLE   RMSE  RMSLE\n",
       "0  AutoReg  0.099364  0.007319  0.315  0.086\n",
       "1    ARIMA  0.103840  0.007773  0.322  0.088\n",
       "2   SARIMA  0.122777  0.008922  0.350  0.094"
      ]
     },
     "execution_count": 407,
     "metadata": {},
     "output_type": "execute_result"
    }
   ],
   "source": [
    "# Append the new row to the dataframe\n",
    "model_trained = model_trained.append(calculator(\"SARIMA\" , Y_test , test_sarima_pred ), ignore_index=True)\n",
    "model_trained"
   ]
  },
  {
   "cell_type": "markdown",
   "id": "8edaa1c5",
   "metadata": {},
   "source": [
    "# Simple Exponential Smoothing model"
   ]
  },
  {
   "cell_type": "markdown",
   "id": "040ec250",
   "metadata": {},
   "source": [
    "Simple Exponential Smoothing (SES): A model that uses a weighted average of past observations to forecast the next value, giving more weight to the most recent observations. It is suitable for data with no trend or seasonality."
   ]
  },
  {
   "cell_type": "markdown",
   "id": "402f8a03",
   "metadata": {},
   "source": [
    "## Train the model"
   ]
  },
  {
   "cell_type": "code",
   "execution_count": 408,
   "id": "53fead02",
   "metadata": {},
   "outputs": [
    {
     "name": "stdout",
     "output_type": "stream",
     "text": [
      "                       SimpleExpSmoothing Model Results                       \n",
      "==============================================================================\n",
      "Dep. Variable:                  sales   No. Observations:                  292\n",
      "Model:             SimpleExpSmoothing   SSE                             35.914\n",
      "Optimized:                       True   AIC                           -607.919\n",
      "Trend:                           None   BIC                           -600.566\n",
      "Seasonal:                        None   AICC                          -607.780\n",
      "Seasonal Periods:                None   Date:                 Tue, 18 Jul 2023\n",
      "Box-Cox:                        False   Time:                         05:53:12\n",
      "Box-Cox Coeff.:                  None                                         \n",
      "==============================================================================\n",
      "                       coeff                 code              optimized      \n",
      "------------------------------------------------------------------------------\n",
      "smoothing_level            0.5921746                alpha                 True\n",
      "initial_level              2.8056189                  l.0                False\n",
      "------------------------------------------------------------------------------\n"
     ]
    }
   ],
   "source": [
    "# Import the library\n",
    "import statsmodels.api as sm\n",
    "\n",
    "# Create and fit the model\n",
    "SES_model = sm.tsa.SimpleExpSmoothing(d.sales.astype('float64')).fit()\n",
    "\n",
    "# Print the model summary\n",
    "print(SES_model.summary())"
   ]
  },
  {
   "cell_type": "markdown",
   "id": "96c1f54b",
   "metadata": {},
   "source": [
    "## Predict on a unknown dataset (Testset)"
   ]
  },
  {
   "cell_type": "code",
   "execution_count": 409,
   "id": "84d2bc52",
   "metadata": {},
   "outputs": [],
   "source": [
    "# Make predictions\n",
    "test_ses_pred = SES_model.predict(start = X_test_final.date.min(), end = X_test_final.date.max())"
   ]
  },
  {
   "cell_type": "code",
   "execution_count": 410,
   "id": "6e92347d",
   "metadata": {},
   "outputs": [
    {
     "data": {
      "text/plain": [
       "{'MSE': 0.1037869170455413,\n",
       " 'MSLE': 0.007768768821248995,\n",
       " 'RMSE': 0.322,\n",
       " 'RMSLE': 0.088}"
      ]
     },
     "execution_count": 410,
     "metadata": {},
     "output_type": "execute_result"
    }
   ],
   "source": [
    "test_calculator(y_test , test_ses_pred)"
   ]
  },
  {
   "cell_type": "code",
   "execution_count": 411,
   "id": "630a3624",
   "metadata": {},
   "outputs": [
    {
     "data": {
      "text/html": [
       "<div>\n",
       "<style scoped>\n",
       "    .dataframe tbody tr th:only-of-type {\n",
       "        vertical-align: middle;\n",
       "    }\n",
       "\n",
       "    .dataframe tbody tr th {\n",
       "        vertical-align: top;\n",
       "    }\n",
       "\n",
       "    .dataframe thead th {\n",
       "        text-align: right;\n",
       "    }\n",
       "</style>\n",
       "<table border=\"1\" class=\"dataframe\">\n",
       "  <thead>\n",
       "    <tr style=\"text-align: right;\">\n",
       "      <th></th>\n",
       "      <th>Model</th>\n",
       "      <th>MSE</th>\n",
       "      <th>MSLE</th>\n",
       "      <th>RMSE</th>\n",
       "      <th>RMSLE</th>\n",
       "    </tr>\n",
       "  </thead>\n",
       "  <tbody>\n",
       "    <tr>\n",
       "      <th>0</th>\n",
       "      <td>AutoReg</td>\n",
       "      <td>0.099364</td>\n",
       "      <td>0.007319</td>\n",
       "      <td>0.315</td>\n",
       "      <td>0.086</td>\n",
       "    </tr>\n",
       "    <tr>\n",
       "      <th>1</th>\n",
       "      <td>ARIMA</td>\n",
       "      <td>0.103840</td>\n",
       "      <td>0.007773</td>\n",
       "      <td>0.322</td>\n",
       "      <td>0.088</td>\n",
       "    </tr>\n",
       "    <tr>\n",
       "      <th>2</th>\n",
       "      <td>SARIMA</td>\n",
       "      <td>0.122777</td>\n",
       "      <td>0.008922</td>\n",
       "      <td>0.350</td>\n",
       "      <td>0.094</td>\n",
       "    </tr>\n",
       "    <tr>\n",
       "      <th>3</th>\n",
       "      <td>SES</td>\n",
       "      <td>0.103787</td>\n",
       "      <td>0.007769</td>\n",
       "      <td>0.322</td>\n",
       "      <td>0.088</td>\n",
       "    </tr>\n",
       "  </tbody>\n",
       "</table>\n",
       "</div>"
      ],
      "text/plain": [
       "     Model       MSE      MSLE   RMSE  RMSLE\n",
       "0  AutoReg  0.099364  0.007319  0.315  0.086\n",
       "1    ARIMA  0.103840  0.007773  0.322  0.088\n",
       "2   SARIMA  0.122777  0.008922  0.350  0.094\n",
       "3      SES  0.103787  0.007769  0.322  0.088"
      ]
     },
     "execution_count": 411,
     "metadata": {},
     "output_type": "execute_result"
    }
   ],
   "source": [
    "# Append the new row to the dataframe\n",
    "model_trained = model_trained.append(calculator(\"SES\" , Y_test , test_ses_pred ), ignore_index=True)\n",
    "model_trained"
   ]
  }
 ],
 "metadata": {
  "kernelspec": {
   "display_name": "Python 3 (ipykernel)",
   "language": "python",
   "name": "python3"
  },
  "language_info": {
   "codemirror_mode": {
    "name": "ipython",
    "version": 3
   },
   "file_extension": ".py",
   "mimetype": "text/x-python",
   "name": "python",
   "nbconvert_exporter": "python",
   "pygments_lexer": "ipython3",
   "version": "3.9.13"
  }
 },
 "nbformat": 4,
 "nbformat_minor": 5
}
