{
 "cells": [
  {
   "cell_type": "markdown",
   "id": "76f7383a",
   "metadata": {},
   "source": [
    "# Time_Series_Prediction : Corporation Favorita Grocery"
   ]
  },
  {
   "cell_type": "markdown",
   "id": "0b91d3c2",
   "metadata": {},
   "source": [
    "## Loading Libraries"
   ]
  },
  {
   "cell_type": "code",
   "execution_count": 95,
   "id": "7754284c",
   "metadata": {},
   "outputs": [],
   "source": [
    "# For loading data and related works\n",
    "import numpy as np\n",
    "import pandas as pd\n",
    "\n",
    "# For controlling warnings\n",
    "import warnings\n",
    "\n",
    "# For data visualizatioon\n",
    "import matplotlib.pyplot as plt\n",
    "import seaborn as sns\n",
    "import plotly.express as px\n",
    "\n",
    "# For connecting to the database\n",
    "import pyodbc\n",
    "\n",
    "# For stating hypothesis\n",
    "import scipy.stats as stats\n",
    "\n",
    "# For feature encoding\n",
    "from sklearn.compose import make_column_selector as selector\n",
    "from sklearn.preprocessing import StandardScaler, OrdinalEncoder\n",
    "from sklearn.compose import ColumnTransformer\n",
    "\n",
    "# For data balancing\n",
    "from imblearn.over_sampling import SMOTE\n",
    "\n",
    "# For data spliting\n",
    "from sklearn.model_selection import train_test_split\n",
    "\n",
    "# For operating system\n",
    "import os\n",
    "import pickle\n",
    "\n",
    "warnings.filterwarnings('ignore')"
   ]
  },
  {
   "cell_type": "markdown",
   "id": "be361ddb",
   "metadata": {},
   "source": [
    "# Loading data from database"
   ]
  },
  {
   "cell_type": "code",
   "execution_count": 96,
   "id": "494f2890",
   "metadata": {},
   "outputs": [
    {
     "name": "stdout",
     "output_type": "stream",
     "text": [
      "Defaulting to user installation because normal site-packages is not writeableNote: you may need to restart the kernel to use updated packages.\n",
      "\n",
      "Requirement already satisfied: python-dotenv in c:\\users\\hp\\appdata\\roaming\\python\\python39\\site-packages (1.0.0)\n"
     ]
    }
   ],
   "source": [
    "pip install python-dotenv"
   ]
  },
  {
   "cell_type": "code",
   "execution_count": 97,
   "id": "c9647713",
   "metadata": {},
   "outputs": [],
   "source": [
    "from dotenv import load_dotenv, dotenv_values"
   ]
  },
  {
   "cell_type": "code",
   "execution_count": 98,
   "id": "8298f119",
   "metadata": {},
   "outputs": [],
   "source": [
    "#%%writefile .gitignore"
   ]
  },
  {
   "cell_type": "code",
   "execution_count": 99,
   "id": "3acbe799",
   "metadata": {},
   "outputs": [],
   "source": [
    "env_var = dotenv_values(\".env\")"
   ]
  },
  {
   "cell_type": "code",
   "execution_count": 100,
   "id": "41cfd253",
   "metadata": {},
   "outputs": [
    {
     "data": {
      "text/plain": [
       "True"
      ]
     },
     "execution_count": 100,
     "metadata": {},
     "output_type": "execute_result"
    }
   ],
   "source": [
    "load_dotenv()"
   ]
  },
  {
   "cell_type": "code",
   "execution_count": 101,
   "id": "de724f65",
   "metadata": {},
   "outputs": [],
   "source": [
    "server = env_var.get(\"SERVER\")\n",
    "database = env_var.get(\"DATABASE\")\n",
    "username = env_var.get(\"USERNAME_\")\n",
    "password = env_var.get(\"PASSWORD\")"
   ]
  },
  {
   "cell_type": "code",
   "execution_count": 102,
   "id": "6ee4bd22",
   "metadata": {},
   "outputs": [],
   "source": [
    "connection_string = f\"DRIVER={{SQL Server}};SERVER={server};DATABASE={database};UID={username};PWD={password}\""
   ]
  },
  {
   "cell_type": "code",
   "execution_count": 103,
   "id": "9140ac19",
   "metadata": {},
   "outputs": [],
   "source": [
    "connection = pyodbc.connect(connection_string)"
   ]
  },
  {
   "cell_type": "markdown",
   "id": "f1ca4ec9",
   "metadata": {},
   "source": [
    "## Loading oil table"
   ]
  },
  {
   "cell_type": "code",
   "execution_count": 104,
   "id": "05b4fccc",
   "metadata": {},
   "outputs": [],
   "source": [
    "query = \"Select * from dbo.oil\"\n",
    "data_oil = pd.read_sql(query, connection, parse_dates=[\"date\"])"
   ]
  },
  {
   "cell_type": "code",
   "execution_count": 105,
   "id": "398ffff4",
   "metadata": {},
   "outputs": [
    {
     "data": {
      "text/html": [
       "<div>\n",
       "<style scoped>\n",
       "    .dataframe tbody tr th:only-of-type {\n",
       "        vertical-align: middle;\n",
       "    }\n",
       "\n",
       "    .dataframe tbody tr th {\n",
       "        vertical-align: top;\n",
       "    }\n",
       "\n",
       "    .dataframe thead th {\n",
       "        text-align: right;\n",
       "    }\n",
       "</style>\n",
       "<table border=\"1\" class=\"dataframe\">\n",
       "  <thead>\n",
       "    <tr style=\"text-align: right;\">\n",
       "      <th></th>\n",
       "      <th>date</th>\n",
       "      <th>dcoilwtico</th>\n",
       "    </tr>\n",
       "  </thead>\n",
       "  <tbody>\n",
       "    <tr>\n",
       "      <th>0</th>\n",
       "      <td>2013-01-01</td>\n",
       "      <td>NaN</td>\n",
       "    </tr>\n",
       "    <tr>\n",
       "      <th>1</th>\n",
       "      <td>2013-01-02</td>\n",
       "      <td>93.139999</td>\n",
       "    </tr>\n",
       "    <tr>\n",
       "      <th>2</th>\n",
       "      <td>2013-01-03</td>\n",
       "      <td>92.970001</td>\n",
       "    </tr>\n",
       "    <tr>\n",
       "      <th>3</th>\n",
       "      <td>2013-01-04</td>\n",
       "      <td>93.120003</td>\n",
       "    </tr>\n",
       "    <tr>\n",
       "      <th>4</th>\n",
       "      <td>2013-01-07</td>\n",
       "      <td>93.199997</td>\n",
       "    </tr>\n",
       "  </tbody>\n",
       "</table>\n",
       "</div>"
      ],
      "text/plain": [
       "        date  dcoilwtico\n",
       "0 2013-01-01         NaN\n",
       "1 2013-01-02   93.139999\n",
       "2 2013-01-03   92.970001\n",
       "3 2013-01-04   93.120003\n",
       "4 2013-01-07   93.199997"
      ]
     },
     "execution_count": 105,
     "metadata": {},
     "output_type": "execute_result"
    }
   ],
   "source": [
    "data_oil.head()"
   ]
  },
  {
   "cell_type": "code",
   "execution_count": 106,
   "id": "ac7b70d5",
   "metadata": {},
   "outputs": [],
   "source": [
    "data_oil.to_csv(\"data_oil\")"
   ]
  },
  {
   "cell_type": "markdown",
   "id": "2974c87c",
   "metadata": {},
   "source": [
    "## Loading holidy_event table"
   ]
  },
  {
   "cell_type": "code",
   "execution_count": 107,
   "id": "5619aa97",
   "metadata": {},
   "outputs": [],
   "source": [
    "query = \"Select * from dbo.holidays_events\"\n",
    "data_holiday_event = pd.read_sql(query, connection , parse_dates=[\"date\"])"
   ]
  },
  {
   "cell_type": "code",
   "execution_count": 108,
   "id": "b056d443",
   "metadata": {},
   "outputs": [
    {
     "data": {
      "text/html": [
       "<div>\n",
       "<style scoped>\n",
       "    .dataframe tbody tr th:only-of-type {\n",
       "        vertical-align: middle;\n",
       "    }\n",
       "\n",
       "    .dataframe tbody tr th {\n",
       "        vertical-align: top;\n",
       "    }\n",
       "\n",
       "    .dataframe thead th {\n",
       "        text-align: right;\n",
       "    }\n",
       "</style>\n",
       "<table border=\"1\" class=\"dataframe\">\n",
       "  <thead>\n",
       "    <tr style=\"text-align: right;\">\n",
       "      <th></th>\n",
       "      <th>date</th>\n",
       "      <th>type</th>\n",
       "      <th>locale</th>\n",
       "      <th>locale_name</th>\n",
       "      <th>description</th>\n",
       "      <th>transferred</th>\n",
       "    </tr>\n",
       "  </thead>\n",
       "  <tbody>\n",
       "    <tr>\n",
       "      <th>345</th>\n",
       "      <td>2017-12-22</td>\n",
       "      <td>Additional</td>\n",
       "      <td>National</td>\n",
       "      <td>Ecuador</td>\n",
       "      <td>Navidad-3</td>\n",
       "      <td>False</td>\n",
       "    </tr>\n",
       "    <tr>\n",
       "      <th>346</th>\n",
       "      <td>2017-12-23</td>\n",
       "      <td>Additional</td>\n",
       "      <td>National</td>\n",
       "      <td>Ecuador</td>\n",
       "      <td>Navidad-2</td>\n",
       "      <td>False</td>\n",
       "    </tr>\n",
       "    <tr>\n",
       "      <th>347</th>\n",
       "      <td>2017-12-24</td>\n",
       "      <td>Additional</td>\n",
       "      <td>National</td>\n",
       "      <td>Ecuador</td>\n",
       "      <td>Navidad-1</td>\n",
       "      <td>False</td>\n",
       "    </tr>\n",
       "    <tr>\n",
       "      <th>348</th>\n",
       "      <td>2017-12-25</td>\n",
       "      <td>Holiday</td>\n",
       "      <td>National</td>\n",
       "      <td>Ecuador</td>\n",
       "      <td>Navidad</td>\n",
       "      <td>False</td>\n",
       "    </tr>\n",
       "    <tr>\n",
       "      <th>349</th>\n",
       "      <td>2017-12-26</td>\n",
       "      <td>Additional</td>\n",
       "      <td>National</td>\n",
       "      <td>Ecuador</td>\n",
       "      <td>Navidad+1</td>\n",
       "      <td>False</td>\n",
       "    </tr>\n",
       "  </tbody>\n",
       "</table>\n",
       "</div>"
      ],
      "text/plain": [
       "          date        type    locale locale_name description  transferred\n",
       "345 2017-12-22  Additional  National     Ecuador   Navidad-3        False\n",
       "346 2017-12-23  Additional  National     Ecuador   Navidad-2        False\n",
       "347 2017-12-24  Additional  National     Ecuador   Navidad-1        False\n",
       "348 2017-12-25     Holiday  National     Ecuador     Navidad        False\n",
       "349 2017-12-26  Additional  National     Ecuador   Navidad+1        False"
      ]
     },
     "execution_count": 108,
     "metadata": {},
     "output_type": "execute_result"
    }
   ],
   "source": [
    "data_holiday_event.tail()"
   ]
  },
  {
   "cell_type": "code",
   "execution_count": 109,
   "id": "4c74e4a4",
   "metadata": {},
   "outputs": [
    {
     "data": {
      "text/plain": [
       "Index(['date', 'type', 'locale', 'locale_name', 'description', 'transferred'], dtype='object')"
      ]
     },
     "execution_count": 109,
     "metadata": {},
     "output_type": "execute_result"
    }
   ],
   "source": [
    "data_holiday_event.columns"
   ]
  },
  {
   "cell_type": "code",
   "execution_count": 110,
   "id": "c42a58c4",
   "metadata": {},
   "outputs": [],
   "source": [
    "data_holiday_event.rename(columns = {\"type\" :\"holiday_type\" } , inplace = True)"
   ]
  },
  {
   "cell_type": "code",
   "execution_count": 111,
   "id": "f00c41b0",
   "metadata": {},
   "outputs": [
    {
     "data": {
      "text/html": [
       "<div>\n",
       "<style scoped>\n",
       "    .dataframe tbody tr th:only-of-type {\n",
       "        vertical-align: middle;\n",
       "    }\n",
       "\n",
       "    .dataframe tbody tr th {\n",
       "        vertical-align: top;\n",
       "    }\n",
       "\n",
       "    .dataframe thead th {\n",
       "        text-align: right;\n",
       "    }\n",
       "</style>\n",
       "<table border=\"1\" class=\"dataframe\">\n",
       "  <thead>\n",
       "    <tr style=\"text-align: right;\">\n",
       "      <th></th>\n",
       "      <th>date</th>\n",
       "      <th>holiday_type</th>\n",
       "      <th>locale</th>\n",
       "      <th>locale_name</th>\n",
       "      <th>description</th>\n",
       "      <th>transferred</th>\n",
       "    </tr>\n",
       "  </thead>\n",
       "  <tbody>\n",
       "    <tr>\n",
       "      <th>0</th>\n",
       "      <td>2012-03-02</td>\n",
       "      <td>Holiday</td>\n",
       "      <td>Local</td>\n",
       "      <td>Manta</td>\n",
       "      <td>Fundacion de Manta</td>\n",
       "      <td>False</td>\n",
       "    </tr>\n",
       "    <tr>\n",
       "      <th>1</th>\n",
       "      <td>2012-04-01</td>\n",
       "      <td>Holiday</td>\n",
       "      <td>Regional</td>\n",
       "      <td>Cotopaxi</td>\n",
       "      <td>Provincializacion de Cotopaxi</td>\n",
       "      <td>False</td>\n",
       "    </tr>\n",
       "    <tr>\n",
       "      <th>2</th>\n",
       "      <td>2012-04-12</td>\n",
       "      <td>Holiday</td>\n",
       "      <td>Local</td>\n",
       "      <td>Cuenca</td>\n",
       "      <td>Fundacion de Cuenca</td>\n",
       "      <td>False</td>\n",
       "    </tr>\n",
       "    <tr>\n",
       "      <th>3</th>\n",
       "      <td>2012-04-14</td>\n",
       "      <td>Holiday</td>\n",
       "      <td>Local</td>\n",
       "      <td>Libertad</td>\n",
       "      <td>Cantonizacion de Libertad</td>\n",
       "      <td>False</td>\n",
       "    </tr>\n",
       "    <tr>\n",
       "      <th>4</th>\n",
       "      <td>2012-04-21</td>\n",
       "      <td>Holiday</td>\n",
       "      <td>Local</td>\n",
       "      <td>Riobamba</td>\n",
       "      <td>Cantonizacion de Riobamba</td>\n",
       "      <td>False</td>\n",
       "    </tr>\n",
       "  </tbody>\n",
       "</table>\n",
       "</div>"
      ],
      "text/plain": [
       "        date holiday_type    locale locale_name  \\\n",
       "0 2012-03-02      Holiday     Local       Manta   \n",
       "1 2012-04-01      Holiday  Regional    Cotopaxi   \n",
       "2 2012-04-12      Holiday     Local      Cuenca   \n",
       "3 2012-04-14      Holiday     Local    Libertad   \n",
       "4 2012-04-21      Holiday     Local    Riobamba   \n",
       "\n",
       "                     description  transferred  \n",
       "0             Fundacion de Manta        False  \n",
       "1  Provincializacion de Cotopaxi        False  \n",
       "2            Fundacion de Cuenca        False  \n",
       "3      Cantonizacion de Libertad        False  \n",
       "4      Cantonizacion de Riobamba        False  "
      ]
     },
     "execution_count": 111,
     "metadata": {},
     "output_type": "execute_result"
    }
   ],
   "source": [
    "data_holiday_event.head()"
   ]
  },
  {
   "cell_type": "code",
   "execution_count": 112,
   "id": "29c65ccc",
   "metadata": {},
   "outputs": [],
   "source": [
    "data_holiday_event.to_csv(\"data_holiday_event\")"
   ]
  },
  {
   "cell_type": "markdown",
   "id": "5038fba3",
   "metadata": {},
   "source": [
    "## Loading store table"
   ]
  },
  {
   "cell_type": "code",
   "execution_count": 113,
   "id": "bdaeb34f",
   "metadata": {},
   "outputs": [],
   "source": [
    "query = \"Select * from dbo.stores\"\n",
    "data_store = pd.read_sql(query, connection)"
   ]
  },
  {
   "cell_type": "code",
   "execution_count": 114,
   "id": "5bc8ab19",
   "metadata": {},
   "outputs": [
    {
     "data": {
      "text/html": [
       "<div>\n",
       "<style scoped>\n",
       "    .dataframe tbody tr th:only-of-type {\n",
       "        vertical-align: middle;\n",
       "    }\n",
       "\n",
       "    .dataframe tbody tr th {\n",
       "        vertical-align: top;\n",
       "    }\n",
       "\n",
       "    .dataframe thead th {\n",
       "        text-align: right;\n",
       "    }\n",
       "</style>\n",
       "<table border=\"1\" class=\"dataframe\">\n",
       "  <thead>\n",
       "    <tr style=\"text-align: right;\">\n",
       "      <th></th>\n",
       "      <th>store_nbr</th>\n",
       "      <th>city</th>\n",
       "      <th>state</th>\n",
       "      <th>type</th>\n",
       "      <th>cluster</th>\n",
       "    </tr>\n",
       "  </thead>\n",
       "  <tbody>\n",
       "    <tr>\n",
       "      <th>0</th>\n",
       "      <td>1</td>\n",
       "      <td>Quito</td>\n",
       "      <td>Pichincha</td>\n",
       "      <td>D</td>\n",
       "      <td>13</td>\n",
       "    </tr>\n",
       "    <tr>\n",
       "      <th>1</th>\n",
       "      <td>2</td>\n",
       "      <td>Quito</td>\n",
       "      <td>Pichincha</td>\n",
       "      <td>D</td>\n",
       "      <td>13</td>\n",
       "    </tr>\n",
       "    <tr>\n",
       "      <th>2</th>\n",
       "      <td>3</td>\n",
       "      <td>Quito</td>\n",
       "      <td>Pichincha</td>\n",
       "      <td>D</td>\n",
       "      <td>8</td>\n",
       "    </tr>\n",
       "    <tr>\n",
       "      <th>3</th>\n",
       "      <td>4</td>\n",
       "      <td>Quito</td>\n",
       "      <td>Pichincha</td>\n",
       "      <td>D</td>\n",
       "      <td>9</td>\n",
       "    </tr>\n",
       "    <tr>\n",
       "      <th>4</th>\n",
       "      <td>5</td>\n",
       "      <td>Santo Domingo</td>\n",
       "      <td>Santo Domingo de los Tsachilas</td>\n",
       "      <td>D</td>\n",
       "      <td>4</td>\n",
       "    </tr>\n",
       "  </tbody>\n",
       "</table>\n",
       "</div>"
      ],
      "text/plain": [
       "   store_nbr           city                           state type  cluster\n",
       "0          1          Quito                       Pichincha    D       13\n",
       "1          2          Quito                       Pichincha    D       13\n",
       "2          3          Quito                       Pichincha    D        8\n",
       "3          4          Quito                       Pichincha    D        9\n",
       "4          5  Santo Domingo  Santo Domingo de los Tsachilas    D        4"
      ]
     },
     "execution_count": 114,
     "metadata": {},
     "output_type": "execute_result"
    }
   ],
   "source": [
    "data_store.head()"
   ]
  },
  {
   "cell_type": "code",
   "execution_count": 115,
   "id": "4fe92a78",
   "metadata": {},
   "outputs": [],
   "source": [
    "data_store.to_csv(\"data_store\")"
   ]
  },
  {
   "cell_type": "markdown",
   "id": "15bdec88",
   "metadata": {},
   "source": [
    "## Loading train table"
   ]
  },
  {
   "cell_type": "code",
   "execution_count": 116,
   "id": "5abef451",
   "metadata": {},
   "outputs": [],
   "source": [
    "data_train = pd.read_csv(\"store-sales-forecasting/train.csv\" , parse_dates=[\"date\"])"
   ]
  },
  {
   "cell_type": "code",
   "execution_count": 117,
   "id": "49af3397",
   "metadata": {},
   "outputs": [
    {
     "data": {
      "text/html": [
       "<div>\n",
       "<style scoped>\n",
       "    .dataframe tbody tr th:only-of-type {\n",
       "        vertical-align: middle;\n",
       "    }\n",
       "\n",
       "    .dataframe tbody tr th {\n",
       "        vertical-align: top;\n",
       "    }\n",
       "\n",
       "    .dataframe thead th {\n",
       "        text-align: right;\n",
       "    }\n",
       "</style>\n",
       "<table border=\"1\" class=\"dataframe\">\n",
       "  <thead>\n",
       "    <tr style=\"text-align: right;\">\n",
       "      <th></th>\n",
       "      <th>id</th>\n",
       "      <th>date</th>\n",
       "      <th>store_nbr</th>\n",
       "      <th>family</th>\n",
       "      <th>sales</th>\n",
       "      <th>onpromotion</th>\n",
       "    </tr>\n",
       "  </thead>\n",
       "  <tbody>\n",
       "    <tr>\n",
       "      <th>0</th>\n",
       "      <td>0</td>\n",
       "      <td>2013-01-01</td>\n",
       "      <td>1</td>\n",
       "      <td>AUTOMOTIVE</td>\n",
       "      <td>0.0</td>\n",
       "      <td>0</td>\n",
       "    </tr>\n",
       "    <tr>\n",
       "      <th>1</th>\n",
       "      <td>1</td>\n",
       "      <td>2013-01-01</td>\n",
       "      <td>1</td>\n",
       "      <td>BABY CARE</td>\n",
       "      <td>0.0</td>\n",
       "      <td>0</td>\n",
       "    </tr>\n",
       "    <tr>\n",
       "      <th>2</th>\n",
       "      <td>2</td>\n",
       "      <td>2013-01-01</td>\n",
       "      <td>1</td>\n",
       "      <td>BEAUTY</td>\n",
       "      <td>0.0</td>\n",
       "      <td>0</td>\n",
       "    </tr>\n",
       "    <tr>\n",
       "      <th>3</th>\n",
       "      <td>3</td>\n",
       "      <td>2013-01-01</td>\n",
       "      <td>1</td>\n",
       "      <td>BEVERAGES</td>\n",
       "      <td>0.0</td>\n",
       "      <td>0</td>\n",
       "    </tr>\n",
       "    <tr>\n",
       "      <th>4</th>\n",
       "      <td>4</td>\n",
       "      <td>2013-01-01</td>\n",
       "      <td>1</td>\n",
       "      <td>BOOKS</td>\n",
       "      <td>0.0</td>\n",
       "      <td>0</td>\n",
       "    </tr>\n",
       "  </tbody>\n",
       "</table>\n",
       "</div>"
      ],
      "text/plain": [
       "   id       date  store_nbr      family  sales  onpromotion\n",
       "0   0 2013-01-01          1  AUTOMOTIVE    0.0            0\n",
       "1   1 2013-01-01          1   BABY CARE    0.0            0\n",
       "2   2 2013-01-01          1      BEAUTY    0.0            0\n",
       "3   3 2013-01-01          1   BEVERAGES    0.0            0\n",
       "4   4 2013-01-01          1       BOOKS    0.0            0"
      ]
     },
     "execution_count": 117,
     "metadata": {},
     "output_type": "execute_result"
    }
   ],
   "source": [
    "data_train.head()"
   ]
  },
  {
   "cell_type": "code",
   "execution_count": 118,
   "id": "fefe9895",
   "metadata": {},
   "outputs": [],
   "source": [
    "data_train.to_csv(\"data_train\")"
   ]
  },
  {
   "cell_type": "code",
   "execution_count": 119,
   "id": "d78b0f8e",
   "metadata": {},
   "outputs": [],
   "source": [
    "data_transaction = pd.read_csv(\"store-sales-forecasting/transactions.csv\" , parse_dates=[\"date\"])"
   ]
  },
  {
   "cell_type": "code",
   "execution_count": 120,
   "id": "086c61dc",
   "metadata": {},
   "outputs": [
    {
     "data": {
      "text/html": [
       "<div>\n",
       "<style scoped>\n",
       "    .dataframe tbody tr th:only-of-type {\n",
       "        vertical-align: middle;\n",
       "    }\n",
       "\n",
       "    .dataframe tbody tr th {\n",
       "        vertical-align: top;\n",
       "    }\n",
       "\n",
       "    .dataframe thead th {\n",
       "        text-align: right;\n",
       "    }\n",
       "</style>\n",
       "<table border=\"1\" class=\"dataframe\">\n",
       "  <thead>\n",
       "    <tr style=\"text-align: right;\">\n",
       "      <th></th>\n",
       "      <th>date</th>\n",
       "      <th>store_nbr</th>\n",
       "      <th>transactions</th>\n",
       "    </tr>\n",
       "  </thead>\n",
       "  <tbody>\n",
       "    <tr>\n",
       "      <th>0</th>\n",
       "      <td>2013-01-01</td>\n",
       "      <td>25</td>\n",
       "      <td>770</td>\n",
       "    </tr>\n",
       "    <tr>\n",
       "      <th>1</th>\n",
       "      <td>2013-01-02</td>\n",
       "      <td>1</td>\n",
       "      <td>2111</td>\n",
       "    </tr>\n",
       "    <tr>\n",
       "      <th>2</th>\n",
       "      <td>2013-01-02</td>\n",
       "      <td>2</td>\n",
       "      <td>2358</td>\n",
       "    </tr>\n",
       "    <tr>\n",
       "      <th>3</th>\n",
       "      <td>2013-01-02</td>\n",
       "      <td>3</td>\n",
       "      <td>3487</td>\n",
       "    </tr>\n",
       "    <tr>\n",
       "      <th>4</th>\n",
       "      <td>2013-01-02</td>\n",
       "      <td>4</td>\n",
       "      <td>1922</td>\n",
       "    </tr>\n",
       "  </tbody>\n",
       "</table>\n",
       "</div>"
      ],
      "text/plain": [
       "        date  store_nbr  transactions\n",
       "0 2013-01-01         25           770\n",
       "1 2013-01-02          1          2111\n",
       "2 2013-01-02          2          2358\n",
       "3 2013-01-02          3          3487\n",
       "4 2013-01-02          4          1922"
      ]
     },
     "execution_count": 120,
     "metadata": {},
     "output_type": "execute_result"
    }
   ],
   "source": [
    "data_transaction.head()"
   ]
  },
  {
   "cell_type": "code",
   "execution_count": 121,
   "id": "7e817fec",
   "metadata": {},
   "outputs": [],
   "source": [
    "data_transaction.to_csv(\"data_transaction\")"
   ]
  },
  {
   "cell_type": "markdown",
   "id": "17ab0d94",
   "metadata": {},
   "source": [
    "## Loading test data from one drive"
   ]
  },
  {
   "cell_type": "code",
   "execution_count": 122,
   "id": "bc9211ce",
   "metadata": {},
   "outputs": [],
   "source": [
    "data_test = pd.read_csv(\"test.csv\" , parse_dates=[\"date\"])"
   ]
  },
  {
   "cell_type": "code",
   "execution_count": 123,
   "id": "b488f09a",
   "metadata": {},
   "outputs": [
    {
     "data": {
      "text/html": [
       "<div>\n",
       "<style scoped>\n",
       "    .dataframe tbody tr th:only-of-type {\n",
       "        vertical-align: middle;\n",
       "    }\n",
       "\n",
       "    .dataframe tbody tr th {\n",
       "        vertical-align: top;\n",
       "    }\n",
       "\n",
       "    .dataframe thead th {\n",
       "        text-align: right;\n",
       "    }\n",
       "</style>\n",
       "<table border=\"1\" class=\"dataframe\">\n",
       "  <thead>\n",
       "    <tr style=\"text-align: right;\">\n",
       "      <th></th>\n",
       "      <th>id</th>\n",
       "      <th>date</th>\n",
       "      <th>store_nbr</th>\n",
       "      <th>family</th>\n",
       "      <th>onpromotion</th>\n",
       "    </tr>\n",
       "  </thead>\n",
       "  <tbody>\n",
       "    <tr>\n",
       "      <th>0</th>\n",
       "      <td>3000888</td>\n",
       "      <td>2017-08-16</td>\n",
       "      <td>1</td>\n",
       "      <td>AUTOMOTIVE</td>\n",
       "      <td>0</td>\n",
       "    </tr>\n",
       "    <tr>\n",
       "      <th>1</th>\n",
       "      <td>3000889</td>\n",
       "      <td>2017-08-16</td>\n",
       "      <td>1</td>\n",
       "      <td>BABY CARE</td>\n",
       "      <td>0</td>\n",
       "    </tr>\n",
       "    <tr>\n",
       "      <th>2</th>\n",
       "      <td>3000890</td>\n",
       "      <td>2017-08-16</td>\n",
       "      <td>1</td>\n",
       "      <td>BEAUTY</td>\n",
       "      <td>2</td>\n",
       "    </tr>\n",
       "    <tr>\n",
       "      <th>3</th>\n",
       "      <td>3000891</td>\n",
       "      <td>2017-08-16</td>\n",
       "      <td>1</td>\n",
       "      <td>BEVERAGES</td>\n",
       "      <td>20</td>\n",
       "    </tr>\n",
       "    <tr>\n",
       "      <th>4</th>\n",
       "      <td>3000892</td>\n",
       "      <td>2017-08-16</td>\n",
       "      <td>1</td>\n",
       "      <td>BOOKS</td>\n",
       "      <td>0</td>\n",
       "    </tr>\n",
       "  </tbody>\n",
       "</table>\n",
       "</div>"
      ],
      "text/plain": [
       "        id       date  store_nbr      family  onpromotion\n",
       "0  3000888 2017-08-16          1  AUTOMOTIVE            0\n",
       "1  3000889 2017-08-16          1   BABY CARE            0\n",
       "2  3000890 2017-08-16          1      BEAUTY            2\n",
       "3  3000891 2017-08-16          1   BEVERAGES           20\n",
       "4  3000892 2017-08-16          1       BOOKS            0"
      ]
     },
     "execution_count": 123,
     "metadata": {},
     "output_type": "execute_result"
    }
   ],
   "source": [
    "data_test.head()"
   ]
  },
  {
   "cell_type": "markdown",
   "id": "2af884c8",
   "metadata": {},
   "source": [
    "# Merging data"
   ]
  },
  {
   "cell_type": "code",
   "execution_count": 124,
   "id": "30fd3fea",
   "metadata": {},
   "outputs": [],
   "source": [
    "oil_list = list(data_oil.columns)\n",
    "holiday_event_list = list(data_holiday_event.columns)\n",
    "store_list = list(data_store.columns)\n",
    "train_list = list(data_train.columns)"
   ]
  },
  {
   "cell_type": "code",
   "execution_count": 125,
   "id": "8e390f00",
   "metadata": {},
   "outputs": [
    {
     "name": "stdout",
     "output_type": "stream",
     "text": [
      "['date', 'dcoilwtico']\n",
      "['date', 'holiday_type', 'locale', 'locale_name', 'description', 'transferred']\n",
      "['store_nbr', 'city', 'state', 'type', 'cluster']\n",
      "['id', 'date', 'store_nbr', 'family', 'sales', 'onpromotion']\n"
     ]
    }
   ],
   "source": [
    "print(oil_list)\n",
    "print(holiday_event_list)\n",
    "print(store_list)\n",
    "print(train_list)"
   ]
  },
  {
   "cell_type": "markdown",
   "id": "29a52a84",
   "metadata": {},
   "source": [
    "## We can see that there are relations between our datasets. so using their relational columns to merge them"
   ]
  },
  {
   "cell_type": "code",
   "execution_count": 126,
   "id": "4325b803",
   "metadata": {},
   "outputs": [
    {
     "data": {
      "text/html": [
       "<div>\n",
       "<style scoped>\n",
       "    .dataframe tbody tr th:only-of-type {\n",
       "        vertical-align: middle;\n",
       "    }\n",
       "\n",
       "    .dataframe tbody tr th {\n",
       "        vertical-align: top;\n",
       "    }\n",
       "\n",
       "    .dataframe thead th {\n",
       "        text-align: right;\n",
       "    }\n",
       "</style>\n",
       "<table border=\"1\" class=\"dataframe\">\n",
       "  <thead>\n",
       "    <tr style=\"text-align: right;\">\n",
       "      <th></th>\n",
       "      <th>date</th>\n",
       "      <th>holiday_type</th>\n",
       "      <th>locale</th>\n",
       "      <th>locale_name</th>\n",
       "      <th>description</th>\n",
       "      <th>transferred</th>\n",
       "      <th>dcoilwtico</th>\n",
       "    </tr>\n",
       "  </thead>\n",
       "  <tbody>\n",
       "    <tr>\n",
       "      <th>0</th>\n",
       "      <td>2013-01-01</td>\n",
       "      <td>Holiday</td>\n",
       "      <td>National</td>\n",
       "      <td>Ecuador</td>\n",
       "      <td>Primer dia del ano</td>\n",
       "      <td>False</td>\n",
       "      <td>NaN</td>\n",
       "    </tr>\n",
       "    <tr>\n",
       "      <th>1</th>\n",
       "      <td>2013-02-11</td>\n",
       "      <td>Holiday</td>\n",
       "      <td>National</td>\n",
       "      <td>Ecuador</td>\n",
       "      <td>Carnaval</td>\n",
       "      <td>False</td>\n",
       "      <td>97.010002</td>\n",
       "    </tr>\n",
       "    <tr>\n",
       "      <th>2</th>\n",
       "      <td>2013-02-12</td>\n",
       "      <td>Holiday</td>\n",
       "      <td>National</td>\n",
       "      <td>Ecuador</td>\n",
       "      <td>Carnaval</td>\n",
       "      <td>False</td>\n",
       "      <td>97.480003</td>\n",
       "    </tr>\n",
       "    <tr>\n",
       "      <th>3</th>\n",
       "      <td>2013-04-01</td>\n",
       "      <td>Holiday</td>\n",
       "      <td>Regional</td>\n",
       "      <td>Cotopaxi</td>\n",
       "      <td>Provincializacion de Cotopaxi</td>\n",
       "      <td>False</td>\n",
       "      <td>97.099998</td>\n",
       "    </tr>\n",
       "    <tr>\n",
       "      <th>4</th>\n",
       "      <td>2013-04-12</td>\n",
       "      <td>Holiday</td>\n",
       "      <td>Local</td>\n",
       "      <td>Cuenca</td>\n",
       "      <td>Fundacion de Cuenca</td>\n",
       "      <td>False</td>\n",
       "      <td>91.230003</td>\n",
       "    </tr>\n",
       "  </tbody>\n",
       "</table>\n",
       "</div>"
      ],
      "text/plain": [
       "        date holiday_type    locale locale_name  \\\n",
       "0 2013-01-01      Holiday  National     Ecuador   \n",
       "1 2013-02-11      Holiday  National     Ecuador   \n",
       "2 2013-02-12      Holiday  National     Ecuador   \n",
       "3 2013-04-01      Holiday  Regional    Cotopaxi   \n",
       "4 2013-04-12      Holiday     Local      Cuenca   \n",
       "\n",
       "                     description  transferred  dcoilwtico  \n",
       "0             Primer dia del ano        False         NaN  \n",
       "1                       Carnaval        False   97.010002  \n",
       "2                       Carnaval        False   97.480003  \n",
       "3  Provincializacion de Cotopaxi        False   97.099998  \n",
       "4            Fundacion de Cuenca        False   91.230003  "
      ]
     },
     "execution_count": 126,
     "metadata": {},
     "output_type": "execute_result"
    }
   ],
   "source": [
    "data_oil_and_holiday_event = pd.merge(data_holiday_event , data_oil , on = \"date\" )\n",
    "data_oil_and_holiday_event = data_oil_and_holiday_event[data_oil_and_holiday_event[\"date\"].notnull()]\n",
    "data_oil_and_holiday_event.head()"
   ]
  },
  {
   "cell_type": "code",
   "execution_count": 127,
   "id": "25264f3b",
   "metadata": {},
   "outputs": [
    {
     "name": "stdout",
     "output_type": "stream",
     "text": [
      "['store_nbr', 'city', 'state', 'type', 'cluster']\n",
      "['id', 'date', 'store_nbr', 'family', 'sales', 'onpromotion']\n"
     ]
    }
   ],
   "source": [
    "print(store_list)\n",
    "print(train_list)"
   ]
  },
  {
   "cell_type": "code",
   "execution_count": 128,
   "id": "56aebb23",
   "metadata": {},
   "outputs": [
    {
     "data": {
      "text/html": [
       "<div>\n",
       "<style scoped>\n",
       "    .dataframe tbody tr th:only-of-type {\n",
       "        vertical-align: middle;\n",
       "    }\n",
       "\n",
       "    .dataframe tbody tr th {\n",
       "        vertical-align: top;\n",
       "    }\n",
       "\n",
       "    .dataframe thead th {\n",
       "        text-align: right;\n",
       "    }\n",
       "</style>\n",
       "<table border=\"1\" class=\"dataframe\">\n",
       "  <thead>\n",
       "    <tr style=\"text-align: right;\">\n",
       "      <th></th>\n",
       "      <th>store_nbr</th>\n",
       "      <th>city</th>\n",
       "      <th>state</th>\n",
       "      <th>type</th>\n",
       "      <th>cluster</th>\n",
       "      <th>id</th>\n",
       "      <th>date</th>\n",
       "      <th>family</th>\n",
       "      <th>sales</th>\n",
       "      <th>onpromotion</th>\n",
       "    </tr>\n",
       "  </thead>\n",
       "  <tbody>\n",
       "    <tr>\n",
       "      <th>0</th>\n",
       "      <td>1</td>\n",
       "      <td>Quito</td>\n",
       "      <td>Pichincha</td>\n",
       "      <td>D</td>\n",
       "      <td>13</td>\n",
       "      <td>0</td>\n",
       "      <td>2013-01-01</td>\n",
       "      <td>AUTOMOTIVE</td>\n",
       "      <td>0.0</td>\n",
       "      <td>0</td>\n",
       "    </tr>\n",
       "    <tr>\n",
       "      <th>1</th>\n",
       "      <td>1</td>\n",
       "      <td>Quito</td>\n",
       "      <td>Pichincha</td>\n",
       "      <td>D</td>\n",
       "      <td>13</td>\n",
       "      <td>1</td>\n",
       "      <td>2013-01-01</td>\n",
       "      <td>BABY CARE</td>\n",
       "      <td>0.0</td>\n",
       "      <td>0</td>\n",
       "    </tr>\n",
       "    <tr>\n",
       "      <th>2</th>\n",
       "      <td>1</td>\n",
       "      <td>Quito</td>\n",
       "      <td>Pichincha</td>\n",
       "      <td>D</td>\n",
       "      <td>13</td>\n",
       "      <td>2</td>\n",
       "      <td>2013-01-01</td>\n",
       "      <td>BEAUTY</td>\n",
       "      <td>0.0</td>\n",
       "      <td>0</td>\n",
       "    </tr>\n",
       "    <tr>\n",
       "      <th>3</th>\n",
       "      <td>1</td>\n",
       "      <td>Quito</td>\n",
       "      <td>Pichincha</td>\n",
       "      <td>D</td>\n",
       "      <td>13</td>\n",
       "      <td>3</td>\n",
       "      <td>2013-01-01</td>\n",
       "      <td>BEVERAGES</td>\n",
       "      <td>0.0</td>\n",
       "      <td>0</td>\n",
       "    </tr>\n",
       "    <tr>\n",
       "      <th>4</th>\n",
       "      <td>1</td>\n",
       "      <td>Quito</td>\n",
       "      <td>Pichincha</td>\n",
       "      <td>D</td>\n",
       "      <td>13</td>\n",
       "      <td>4</td>\n",
       "      <td>2013-01-01</td>\n",
       "      <td>BOOKS</td>\n",
       "      <td>0.0</td>\n",
       "      <td>0</td>\n",
       "    </tr>\n",
       "  </tbody>\n",
       "</table>\n",
       "</div>"
      ],
      "text/plain": [
       "   store_nbr   city      state type  cluster  id       date      family  \\\n",
       "0          1  Quito  Pichincha    D       13   0 2013-01-01  AUTOMOTIVE   \n",
       "1          1  Quito  Pichincha    D       13   1 2013-01-01   BABY CARE   \n",
       "2          1  Quito  Pichincha    D       13   2 2013-01-01      BEAUTY   \n",
       "3          1  Quito  Pichincha    D       13   3 2013-01-01   BEVERAGES   \n",
       "4          1  Quito  Pichincha    D       13   4 2013-01-01       BOOKS   \n",
       "\n",
       "   sales  onpromotion  \n",
       "0    0.0            0  \n",
       "1    0.0            0  \n",
       "2    0.0            0  \n",
       "3    0.0            0  \n",
       "4    0.0            0  "
      ]
     },
     "execution_count": 128,
     "metadata": {},
     "output_type": "execute_result"
    }
   ],
   "source": [
    "data_store_and_train = pd.merge(data_store , data_train , on = \"store_nbr\" )\n",
    "data_store_and_train = data_store_and_train[data_store_and_train[\"store_nbr\"].notnull()]\n",
    "data_store_and_train.head()"
   ]
  },
  {
   "cell_type": "code",
   "execution_count": 129,
   "id": "8e02524a",
   "metadata": {},
   "outputs": [],
   "source": [
    "store_and_train_list = list(data_store_and_train.columns)\n",
    "oil_and_holiday_event_list = list(data_oil_and_holiday_event.columns)"
   ]
  },
  {
   "cell_type": "code",
   "execution_count": 130,
   "id": "8a30b3ae",
   "metadata": {},
   "outputs": [
    {
     "name": "stdout",
     "output_type": "stream",
     "text": [
      "['store_nbr', 'city', 'state', 'type', 'cluster', 'id', 'date', 'family', 'sales', 'onpromotion']\n",
      "['date', 'holiday_type', 'locale', 'locale_name', 'description', 'transferred', 'dcoilwtico']\n"
     ]
    }
   ],
   "source": [
    "print(store_and_train_list)\n",
    "print(oil_and_holiday_event_list)"
   ]
  },
  {
   "cell_type": "code",
   "execution_count": 131,
   "id": "91eb5f02",
   "metadata": {},
   "outputs": [
    {
     "data": {
      "text/plain": [
       "((3000888, 10), (202, 7))"
      ]
     },
     "execution_count": 131,
     "metadata": {},
     "output_type": "execute_result"
    }
   ],
   "source": [
    "data_store_and_train.shape , data_oil_and_holiday_event.shape"
   ]
  },
  {
   "cell_type": "code",
   "execution_count": 132,
   "id": "e5795f5a",
   "metadata": {},
   "outputs": [
    {
     "data": {
      "text/html": [
       "<div>\n",
       "<style scoped>\n",
       "    .dataframe tbody tr th:only-of-type {\n",
       "        vertical-align: middle;\n",
       "    }\n",
       "\n",
       "    .dataframe tbody tr th {\n",
       "        vertical-align: top;\n",
       "    }\n",
       "\n",
       "    .dataframe thead th {\n",
       "        text-align: right;\n",
       "    }\n",
       "</style>\n",
       "<table border=\"1\" class=\"dataframe\">\n",
       "  <thead>\n",
       "    <tr style=\"text-align: right;\">\n",
       "      <th></th>\n",
       "      <th>store_nbr</th>\n",
       "      <th>city</th>\n",
       "      <th>state</th>\n",
       "      <th>type</th>\n",
       "      <th>cluster</th>\n",
       "      <th>id</th>\n",
       "      <th>date</th>\n",
       "      <th>family</th>\n",
       "      <th>sales</th>\n",
       "      <th>onpromotion</th>\n",
       "      <th>holiday_type</th>\n",
       "      <th>locale</th>\n",
       "      <th>locale_name</th>\n",
       "      <th>description</th>\n",
       "      <th>transferred</th>\n",
       "      <th>dcoilwtico</th>\n",
       "    </tr>\n",
       "  </thead>\n",
       "  <tbody>\n",
       "    <tr>\n",
       "      <th>0</th>\n",
       "      <td>1</td>\n",
       "      <td>Quito</td>\n",
       "      <td>Pichincha</td>\n",
       "      <td>D</td>\n",
       "      <td>13</td>\n",
       "      <td>0</td>\n",
       "      <td>2013-01-01</td>\n",
       "      <td>AUTOMOTIVE</td>\n",
       "      <td>0.0</td>\n",
       "      <td>0</td>\n",
       "      <td>Holiday</td>\n",
       "      <td>National</td>\n",
       "      <td>Ecuador</td>\n",
       "      <td>Primer dia del ano</td>\n",
       "      <td>False</td>\n",
       "      <td>NaN</td>\n",
       "    </tr>\n",
       "    <tr>\n",
       "      <th>1</th>\n",
       "      <td>1</td>\n",
       "      <td>Quito</td>\n",
       "      <td>Pichincha</td>\n",
       "      <td>D</td>\n",
       "      <td>13</td>\n",
       "      <td>1</td>\n",
       "      <td>2013-01-01</td>\n",
       "      <td>BABY CARE</td>\n",
       "      <td>0.0</td>\n",
       "      <td>0</td>\n",
       "      <td>Holiday</td>\n",
       "      <td>National</td>\n",
       "      <td>Ecuador</td>\n",
       "      <td>Primer dia del ano</td>\n",
       "      <td>False</td>\n",
       "      <td>NaN</td>\n",
       "    </tr>\n",
       "    <tr>\n",
       "      <th>2</th>\n",
       "      <td>1</td>\n",
       "      <td>Quito</td>\n",
       "      <td>Pichincha</td>\n",
       "      <td>D</td>\n",
       "      <td>13</td>\n",
       "      <td>2</td>\n",
       "      <td>2013-01-01</td>\n",
       "      <td>BEAUTY</td>\n",
       "      <td>0.0</td>\n",
       "      <td>0</td>\n",
       "      <td>Holiday</td>\n",
       "      <td>National</td>\n",
       "      <td>Ecuador</td>\n",
       "      <td>Primer dia del ano</td>\n",
       "      <td>False</td>\n",
       "      <td>NaN</td>\n",
       "    </tr>\n",
       "    <tr>\n",
       "      <th>3</th>\n",
       "      <td>1</td>\n",
       "      <td>Quito</td>\n",
       "      <td>Pichincha</td>\n",
       "      <td>D</td>\n",
       "      <td>13</td>\n",
       "      <td>3</td>\n",
       "      <td>2013-01-01</td>\n",
       "      <td>BEVERAGES</td>\n",
       "      <td>0.0</td>\n",
       "      <td>0</td>\n",
       "      <td>Holiday</td>\n",
       "      <td>National</td>\n",
       "      <td>Ecuador</td>\n",
       "      <td>Primer dia del ano</td>\n",
       "      <td>False</td>\n",
       "      <td>NaN</td>\n",
       "    </tr>\n",
       "    <tr>\n",
       "      <th>4</th>\n",
       "      <td>1</td>\n",
       "      <td>Quito</td>\n",
       "      <td>Pichincha</td>\n",
       "      <td>D</td>\n",
       "      <td>13</td>\n",
       "      <td>4</td>\n",
       "      <td>2013-01-01</td>\n",
       "      <td>BOOKS</td>\n",
       "      <td>0.0</td>\n",
       "      <td>0</td>\n",
       "      <td>Holiday</td>\n",
       "      <td>National</td>\n",
       "      <td>Ecuador</td>\n",
       "      <td>Primer dia del ano</td>\n",
       "      <td>False</td>\n",
       "      <td>NaN</td>\n",
       "    </tr>\n",
       "  </tbody>\n",
       "</table>\n",
       "</div>"
      ],
      "text/plain": [
       "   store_nbr   city      state type  cluster  id       date      family  \\\n",
       "0          1  Quito  Pichincha    D       13   0 2013-01-01  AUTOMOTIVE   \n",
       "1          1  Quito  Pichincha    D       13   1 2013-01-01   BABY CARE   \n",
       "2          1  Quito  Pichincha    D       13   2 2013-01-01      BEAUTY   \n",
       "3          1  Quito  Pichincha    D       13   3 2013-01-01   BEVERAGES   \n",
       "4          1  Quito  Pichincha    D       13   4 2013-01-01       BOOKS   \n",
       "\n",
       "   sales  onpromotion holiday_type    locale locale_name         description  \\\n",
       "0    0.0            0      Holiday  National     Ecuador  Primer dia del ano   \n",
       "1    0.0            0      Holiday  National     Ecuador  Primer dia del ano   \n",
       "2    0.0            0      Holiday  National     Ecuador  Primer dia del ano   \n",
       "3    0.0            0      Holiday  National     Ecuador  Primer dia del ano   \n",
       "4    0.0            0      Holiday  National     Ecuador  Primer dia del ano   \n",
       "\n",
       "   transferred  dcoilwtico  \n",
       "0        False         NaN  \n",
       "1        False         NaN  \n",
       "2        False         NaN  \n",
       "3        False         NaN  \n",
       "4        False         NaN  "
      ]
     },
     "execution_count": 132,
     "metadata": {},
     "output_type": "execute_result"
    }
   ],
   "source": [
    "data_final = pd.merge(data_store_and_train , data_oil_and_holiday_event , on = \"date\" )\n",
    "data_final = data_final[data_final[\"date\"].notnull()]\n",
    "data_final.head()"
   ]
  },
  {
   "cell_type": "code",
   "execution_count": 133,
   "id": "15b85227",
   "metadata": {},
   "outputs": [],
   "source": [
    "data_final = data_final.set_index(\"date\")"
   ]
  },
  {
   "cell_type": "code",
   "execution_count": 134,
   "id": "dd21d1dd",
   "metadata": {},
   "outputs": [
    {
     "data": {
      "text/html": [
       "<div>\n",
       "<style scoped>\n",
       "    .dataframe tbody tr th:only-of-type {\n",
       "        vertical-align: middle;\n",
       "    }\n",
       "\n",
       "    .dataframe tbody tr th {\n",
       "        vertical-align: top;\n",
       "    }\n",
       "\n",
       "    .dataframe thead th {\n",
       "        text-align: right;\n",
       "    }\n",
       "</style>\n",
       "<table border=\"1\" class=\"dataframe\">\n",
       "  <thead>\n",
       "    <tr style=\"text-align: right;\">\n",
       "      <th></th>\n",
       "      <th>store_nbr</th>\n",
       "      <th>city</th>\n",
       "      <th>state</th>\n",
       "      <th>type</th>\n",
       "      <th>cluster</th>\n",
       "      <th>id</th>\n",
       "      <th>family</th>\n",
       "      <th>sales</th>\n",
       "      <th>onpromotion</th>\n",
       "      <th>holiday_type</th>\n",
       "      <th>locale</th>\n",
       "      <th>locale_name</th>\n",
       "      <th>description</th>\n",
       "      <th>transferred</th>\n",
       "      <th>dcoilwtico</th>\n",
       "    </tr>\n",
       "    <tr>\n",
       "      <th>date</th>\n",
       "      <th></th>\n",
       "      <th></th>\n",
       "      <th></th>\n",
       "      <th></th>\n",
       "      <th></th>\n",
       "      <th></th>\n",
       "      <th></th>\n",
       "      <th></th>\n",
       "      <th></th>\n",
       "      <th></th>\n",
       "      <th></th>\n",
       "      <th></th>\n",
       "      <th></th>\n",
       "      <th></th>\n",
       "      <th></th>\n",
       "    </tr>\n",
       "  </thead>\n",
       "  <tbody>\n",
       "    <tr>\n",
       "      <th>2017-08-15</th>\n",
       "      <td>54</td>\n",
       "      <td>El Carmen</td>\n",
       "      <td>Manabi</td>\n",
       "      <td>C</td>\n",
       "      <td>3</td>\n",
       "      <td>3000751</td>\n",
       "      <td>POULTRY</td>\n",
       "      <td>59.619</td>\n",
       "      <td>0</td>\n",
       "      <td>Holiday</td>\n",
       "      <td>Local</td>\n",
       "      <td>Riobamba</td>\n",
       "      <td>Fundacion de Riobamba</td>\n",
       "      <td>False</td>\n",
       "      <td>47.57</td>\n",
       "    </tr>\n",
       "    <tr>\n",
       "      <th>2017-08-15</th>\n",
       "      <td>54</td>\n",
       "      <td>El Carmen</td>\n",
       "      <td>Manabi</td>\n",
       "      <td>C</td>\n",
       "      <td>3</td>\n",
       "      <td>3000752</td>\n",
       "      <td>PREPARED FOODS</td>\n",
       "      <td>94.000</td>\n",
       "      <td>0</td>\n",
       "      <td>Holiday</td>\n",
       "      <td>Local</td>\n",
       "      <td>Riobamba</td>\n",
       "      <td>Fundacion de Riobamba</td>\n",
       "      <td>False</td>\n",
       "      <td>47.57</td>\n",
       "    </tr>\n",
       "    <tr>\n",
       "      <th>2017-08-15</th>\n",
       "      <td>54</td>\n",
       "      <td>El Carmen</td>\n",
       "      <td>Manabi</td>\n",
       "      <td>C</td>\n",
       "      <td>3</td>\n",
       "      <td>3000753</td>\n",
       "      <td>PRODUCE</td>\n",
       "      <td>915.371</td>\n",
       "      <td>76</td>\n",
       "      <td>Holiday</td>\n",
       "      <td>Local</td>\n",
       "      <td>Riobamba</td>\n",
       "      <td>Fundacion de Riobamba</td>\n",
       "      <td>False</td>\n",
       "      <td>47.57</td>\n",
       "    </tr>\n",
       "    <tr>\n",
       "      <th>2017-08-15</th>\n",
       "      <td>54</td>\n",
       "      <td>El Carmen</td>\n",
       "      <td>Manabi</td>\n",
       "      <td>C</td>\n",
       "      <td>3</td>\n",
       "      <td>3000754</td>\n",
       "      <td>SCHOOL AND OFFICE SUPPLIES</td>\n",
       "      <td>0.000</td>\n",
       "      <td>0</td>\n",
       "      <td>Holiday</td>\n",
       "      <td>Local</td>\n",
       "      <td>Riobamba</td>\n",
       "      <td>Fundacion de Riobamba</td>\n",
       "      <td>False</td>\n",
       "      <td>47.57</td>\n",
       "    </tr>\n",
       "    <tr>\n",
       "      <th>2017-08-15</th>\n",
       "      <td>54</td>\n",
       "      <td>El Carmen</td>\n",
       "      <td>Manabi</td>\n",
       "      <td>C</td>\n",
       "      <td>3</td>\n",
       "      <td>3000755</td>\n",
       "      <td>SEAFOOD</td>\n",
       "      <td>3.000</td>\n",
       "      <td>0</td>\n",
       "      <td>Holiday</td>\n",
       "      <td>Local</td>\n",
       "      <td>Riobamba</td>\n",
       "      <td>Fundacion de Riobamba</td>\n",
       "      <td>False</td>\n",
       "      <td>47.57</td>\n",
       "    </tr>\n",
       "  </tbody>\n",
       "</table>\n",
       "</div>"
      ],
      "text/plain": [
       "            store_nbr       city   state type  cluster       id  \\\n",
       "date                                                              \n",
       "2017-08-15         54  El Carmen  Manabi    C        3  3000751   \n",
       "2017-08-15         54  El Carmen  Manabi    C        3  3000752   \n",
       "2017-08-15         54  El Carmen  Manabi    C        3  3000753   \n",
       "2017-08-15         54  El Carmen  Manabi    C        3  3000754   \n",
       "2017-08-15         54  El Carmen  Manabi    C        3  3000755   \n",
       "\n",
       "                                family    sales  onpromotion holiday_type  \\\n",
       "date                                                                        \n",
       "2017-08-15                     POULTRY   59.619            0      Holiday   \n",
       "2017-08-15              PREPARED FOODS   94.000            0      Holiday   \n",
       "2017-08-15                     PRODUCE  915.371           76      Holiday   \n",
       "2017-08-15  SCHOOL AND OFFICE SUPPLIES    0.000            0      Holiday   \n",
       "2017-08-15                     SEAFOOD    3.000            0      Holiday   \n",
       "\n",
       "           locale locale_name            description  transferred  dcoilwtico  \n",
       "date                                                                           \n",
       "2017-08-15  Local    Riobamba  Fundacion de Riobamba        False       47.57  \n",
       "2017-08-15  Local    Riobamba  Fundacion de Riobamba        False       47.57  \n",
       "2017-08-15  Local    Riobamba  Fundacion de Riobamba        False       47.57  \n",
       "2017-08-15  Local    Riobamba  Fundacion de Riobamba        False       47.57  \n",
       "2017-08-15  Local    Riobamba  Fundacion de Riobamba        False       47.57  "
      ]
     },
     "execution_count": 134,
     "metadata": {},
     "output_type": "execute_result"
    }
   ],
   "source": [
    "data_final.tail()"
   ]
  },
  {
   "cell_type": "markdown",
   "id": "6b479faf",
   "metadata": {},
   "source": [
    "### Finally data's used for training are meged into one dataset"
   ]
  },
  {
   "cell_type": "markdown",
   "id": "7d40bb84",
   "metadata": {},
   "source": [
    "## Stating Hypothesis\n",
    "\n",
    "Null Hypothesiss : There is no significant relation between daily price and amount of sale\n",
    "\n",
    "Alternative Hypothesis : There is a significant relation between daily price and amount of sale"
   ]
  },
  {
   "cell_type": "code",
   "execution_count": 135,
   "id": "b3097d8c",
   "metadata": {},
   "outputs": [
    {
     "data": {
      "text/plain": [
       "(352836, 15)"
      ]
     },
     "execution_count": 135,
     "metadata": {},
     "output_type": "execute_result"
    }
   ],
   "source": [
    "data_final.shape"
   ]
  },
  {
   "cell_type": "code",
   "execution_count": 136,
   "id": "73c55c2a",
   "metadata": {},
   "outputs": [],
   "source": [
    "sample_data = data_final.sample(n=None, frac=0.5, replace=False, weights=None, random_state=2, axis=0)\n"
   ]
  },
  {
   "cell_type": "code",
   "execution_count": 137,
   "id": "2ee792c0",
   "metadata": {},
   "outputs": [],
   "source": [
    "sample1 = sample_data[\"store_nbr\"]\n",
    "sample2 = sample_data[\"sales\"]"
   ]
  },
  {
   "cell_type": "code",
   "execution_count": 138,
   "id": "656b1067",
   "metadata": {},
   "outputs": [],
   "source": [
    "sample1 = sample1.dropna()\n",
    "sample2 = sample2.dropna()"
   ]
  },
  {
   "cell_type": "code",
   "execution_count": 139,
   "id": "2c17461f",
   "metadata": {},
   "outputs": [
    {
     "data": {
      "text/plain": [
       "((176418,), (176418,))"
      ]
     },
     "execution_count": 139,
     "metadata": {},
     "output_type": "execute_result"
    }
   ],
   "source": [
    "sample1.shape , sample2.shape"
   ]
  },
  {
   "cell_type": "code",
   "execution_count": 140,
   "id": "4ef77c9c",
   "metadata": {},
   "outputs": [
    {
     "name": "stdout",
     "output_type": "stream",
     "text": [
      "t-statistic: -123.86023257210132\n",
      "p-value: 0.0\n"
     ]
    }
   ],
   "source": [
    "# Import libraries\n",
    "from scipy import stats\n",
    "import numpy as np\n",
    "\n",
    "# Perform a t-test\n",
    "t_stat, p_value = stats.ttest_ind(sample1, sample2)\n",
    "\n",
    "# Print the results\n",
    "print(\"t-statistic:\", t_stat)\n",
    "print(\"p-value:\", p_value)\n"
   ]
  },
  {
   "cell_type": "code",
   "execution_count": 141,
   "id": "a255ab01",
   "metadata": {},
   "outputs": [
    {
     "name": "stdout",
     "output_type": "stream",
     "text": [
      "reject null hypothesis \n"
     ]
    }
   ],
   "source": [
    "alpha = 0.05\n",
    "if p_value > alpha:\n",
    "    print(\"accept the null hypothesis\")\n",
    "else:\n",
    "    print(\"reject null hypothesis \")"
   ]
  },
  {
   "cell_type": "markdown",
   "id": "b7ad9d87",
   "metadata": {},
   "source": [
    "### Null hypothesis is rejected. This means there is a relation between daily price oil and sales amount"
   ]
  },
  {
   "cell_type": "markdown",
   "id": "3b79cc81",
   "metadata": {},
   "source": [
    "# Handling missing data"
   ]
  },
  {
   "cell_type": "code",
   "execution_count": 142,
   "id": "c29095a6",
   "metadata": {},
   "outputs": [
    {
     "name": "stdout",
     "output_type": "stream",
     "text": [
      "<class 'pandas.core.frame.DataFrame'>\n",
      "DatetimeIndex: 352836 entries, 2013-01-01 to 2017-08-15\n",
      "Data columns (total 15 columns):\n",
      " #   Column        Non-Null Count   Dtype  \n",
      "---  ------        --------------   -----  \n",
      " 0   store_nbr     352836 non-null  int64  \n",
      " 1   city          352836 non-null  object \n",
      " 2   state         352836 non-null  object \n",
      " 3   type          352836 non-null  object \n",
      " 4   cluster       352836 non-null  int64  \n",
      " 5   id            352836 non-null  int64  \n",
      " 6   family        352836 non-null  object \n",
      " 7   sales         352836 non-null  float64\n",
      " 8   onpromotion   352836 non-null  int64  \n",
      " 9   holiday_type  352836 non-null  object \n",
      " 10  locale        352836 non-null  object \n",
      " 11  locale_name   352836 non-null  object \n",
      " 12  description   352836 non-null  object \n",
      " 13  transferred   352836 non-null  bool   \n",
      " 14  dcoilwtico    322542 non-null  float64\n",
      "dtypes: bool(1), float64(2), int64(4), object(8)\n",
      "memory usage: 40.7+ MB\n"
     ]
    }
   ],
   "source": [
    "data_final.info()"
   ]
  },
  {
   "cell_type": "code",
   "execution_count": 143,
   "id": "837be934",
   "metadata": {},
   "outputs": [
    {
     "data": {
      "text/html": [
       "<div>\n",
       "<style scoped>\n",
       "    .dataframe tbody tr th:only-of-type {\n",
       "        vertical-align: middle;\n",
       "    }\n",
       "\n",
       "    .dataframe tbody tr th {\n",
       "        vertical-align: top;\n",
       "    }\n",
       "\n",
       "    .dataframe thead th {\n",
       "        text-align: right;\n",
       "    }\n",
       "</style>\n",
       "<table border=\"1\" class=\"dataframe\">\n",
       "  <thead>\n",
       "    <tr style=\"text-align: right;\">\n",
       "      <th></th>\n",
       "      <th>store_nbr</th>\n",
       "      <th>city</th>\n",
       "      <th>state</th>\n",
       "      <th>type</th>\n",
       "      <th>cluster</th>\n",
       "      <th>id</th>\n",
       "      <th>family</th>\n",
       "      <th>sales</th>\n",
       "      <th>onpromotion</th>\n",
       "      <th>holiday_type</th>\n",
       "      <th>locale</th>\n",
       "      <th>locale_name</th>\n",
       "      <th>description</th>\n",
       "      <th>transferred</th>\n",
       "      <th>dcoilwtico</th>\n",
       "    </tr>\n",
       "    <tr>\n",
       "      <th>date</th>\n",
       "      <th></th>\n",
       "      <th></th>\n",
       "      <th></th>\n",
       "      <th></th>\n",
       "      <th></th>\n",
       "      <th></th>\n",
       "      <th></th>\n",
       "      <th></th>\n",
       "      <th></th>\n",
       "      <th></th>\n",
       "      <th></th>\n",
       "      <th></th>\n",
       "      <th></th>\n",
       "      <th></th>\n",
       "      <th></th>\n",
       "    </tr>\n",
       "  </thead>\n",
       "  <tbody>\n",
       "    <tr>\n",
       "      <th>2013-01-01</th>\n",
       "      <td>1</td>\n",
       "      <td>Quito</td>\n",
       "      <td>Pichincha</td>\n",
       "      <td>D</td>\n",
       "      <td>13</td>\n",
       "      <td>0</td>\n",
       "      <td>AUTOMOTIVE</td>\n",
       "      <td>0.0</td>\n",
       "      <td>0</td>\n",
       "      <td>Holiday</td>\n",
       "      <td>National</td>\n",
       "      <td>Ecuador</td>\n",
       "      <td>Primer dia del ano</td>\n",
       "      <td>False</td>\n",
       "      <td>NaN</td>\n",
       "    </tr>\n",
       "    <tr>\n",
       "      <th>2013-01-01</th>\n",
       "      <td>1</td>\n",
       "      <td>Quito</td>\n",
       "      <td>Pichincha</td>\n",
       "      <td>D</td>\n",
       "      <td>13</td>\n",
       "      <td>1</td>\n",
       "      <td>BABY CARE</td>\n",
       "      <td>0.0</td>\n",
       "      <td>0</td>\n",
       "      <td>Holiday</td>\n",
       "      <td>National</td>\n",
       "      <td>Ecuador</td>\n",
       "      <td>Primer dia del ano</td>\n",
       "      <td>False</td>\n",
       "      <td>NaN</td>\n",
       "    </tr>\n",
       "    <tr>\n",
       "      <th>2013-01-01</th>\n",
       "      <td>1</td>\n",
       "      <td>Quito</td>\n",
       "      <td>Pichincha</td>\n",
       "      <td>D</td>\n",
       "      <td>13</td>\n",
       "      <td>2</td>\n",
       "      <td>BEAUTY</td>\n",
       "      <td>0.0</td>\n",
       "      <td>0</td>\n",
       "      <td>Holiday</td>\n",
       "      <td>National</td>\n",
       "      <td>Ecuador</td>\n",
       "      <td>Primer dia del ano</td>\n",
       "      <td>False</td>\n",
       "      <td>NaN</td>\n",
       "    </tr>\n",
       "    <tr>\n",
       "      <th>2013-01-01</th>\n",
       "      <td>1</td>\n",
       "      <td>Quito</td>\n",
       "      <td>Pichincha</td>\n",
       "      <td>D</td>\n",
       "      <td>13</td>\n",
       "      <td>3</td>\n",
       "      <td>BEVERAGES</td>\n",
       "      <td>0.0</td>\n",
       "      <td>0</td>\n",
       "      <td>Holiday</td>\n",
       "      <td>National</td>\n",
       "      <td>Ecuador</td>\n",
       "      <td>Primer dia del ano</td>\n",
       "      <td>False</td>\n",
       "      <td>NaN</td>\n",
       "    </tr>\n",
       "    <tr>\n",
       "      <th>2013-01-01</th>\n",
       "      <td>1</td>\n",
       "      <td>Quito</td>\n",
       "      <td>Pichincha</td>\n",
       "      <td>D</td>\n",
       "      <td>13</td>\n",
       "      <td>4</td>\n",
       "      <td>BOOKS</td>\n",
       "      <td>0.0</td>\n",
       "      <td>0</td>\n",
       "      <td>Holiday</td>\n",
       "      <td>National</td>\n",
       "      <td>Ecuador</td>\n",
       "      <td>Primer dia del ano</td>\n",
       "      <td>False</td>\n",
       "      <td>NaN</td>\n",
       "    </tr>\n",
       "  </tbody>\n",
       "</table>\n",
       "</div>"
      ],
      "text/plain": [
       "            store_nbr   city      state type  cluster  id      family  sales  \\\n",
       "date                                                                           \n",
       "2013-01-01          1  Quito  Pichincha    D       13   0  AUTOMOTIVE    0.0   \n",
       "2013-01-01          1  Quito  Pichincha    D       13   1   BABY CARE    0.0   \n",
       "2013-01-01          1  Quito  Pichincha    D       13   2      BEAUTY    0.0   \n",
       "2013-01-01          1  Quito  Pichincha    D       13   3   BEVERAGES    0.0   \n",
       "2013-01-01          1  Quito  Pichincha    D       13   4       BOOKS    0.0   \n",
       "\n",
       "            onpromotion holiday_type    locale locale_name  \\\n",
       "date                                                         \n",
       "2013-01-01            0      Holiday  National     Ecuador   \n",
       "2013-01-01            0      Holiday  National     Ecuador   \n",
       "2013-01-01            0      Holiday  National     Ecuador   \n",
       "2013-01-01            0      Holiday  National     Ecuador   \n",
       "2013-01-01            0      Holiday  National     Ecuador   \n",
       "\n",
       "                   description  transferred  dcoilwtico  \n",
       "date                                                     \n",
       "2013-01-01  Primer dia del ano        False         NaN  \n",
       "2013-01-01  Primer dia del ano        False         NaN  \n",
       "2013-01-01  Primer dia del ano        False         NaN  \n",
       "2013-01-01  Primer dia del ano        False         NaN  \n",
       "2013-01-01  Primer dia del ano        False         NaN  "
      ]
     },
     "execution_count": 143,
     "metadata": {},
     "output_type": "execute_result"
    }
   ],
   "source": [
    "# checking for NaN in dataframe dcoilwtico column\n",
    "data_final.query(\"dcoilwtico != dcoilwtico\").head()"
   ]
  },
  {
   "cell_type": "code",
   "execution_count": 144,
   "id": "9a4e5fc6",
   "metadata": {},
   "outputs": [
    {
     "data": {
      "text/plain": [
       "Index(['store_nbr', 'city', 'state', 'type', 'cluster', 'id', 'family',\n",
       "       'sales', 'onpromotion', 'holiday_type', 'locale', 'locale_name',\n",
       "       'description', 'transferred', 'dcoilwtico'],\n",
       "      dtype='object')"
      ]
     },
     "execution_count": 144,
     "metadata": {},
     "output_type": "execute_result"
    }
   ],
   "source": [
    "data_final.columns"
   ]
  },
  {
   "cell_type": "code",
   "execution_count": 145,
   "id": "137ccaaf",
   "metadata": {},
   "outputs": [],
   "source": [
    "data_final[\"year\"] = data_final.index.year\n",
    "data_final[\"month\"] = data_final.index.month\n",
    "data_final[\"weekday name\"] = data_final.index.day_name()"
   ]
  },
  {
   "cell_type": "code",
   "execution_count": 170,
   "id": "8383faa0",
   "metadata": {},
   "outputs": [
    {
     "name": "stdout",
     "output_type": "stream",
     "text": [
      "<class 'pandas.core.frame.DataFrame'>\n",
      "DatetimeIndex: 352836 entries, 2013-01-01 to 2017-08-15\n",
      "Data columns (total 18 columns):\n",
      " #   Column        Non-Null Count   Dtype  \n",
      "---  ------        --------------   -----  \n",
      " 0   store_nbr     352836 non-null  int64  \n",
      " 1   city          352836 non-null  object \n",
      " 2   state         352836 non-null  object \n",
      " 3   type          352836 non-null  object \n",
      " 4   cluster       352836 non-null  int64  \n",
      " 5   id            352836 non-null  int64  \n",
      " 6   family        352836 non-null  object \n",
      " 7   sales         352836 non-null  float64\n",
      " 8   onpromotion   352836 non-null  int64  \n",
      " 9   holiday_type  352836 non-null  object \n",
      " 10  locale        352836 non-null  object \n",
      " 11  locale_name   352836 non-null  object \n",
      " 12  description   352836 non-null  object \n",
      " 13  transferred   352836 non-null  bool   \n",
      " 14  dcoilwtico    352836 non-null  float64\n",
      " 15  year          352836 non-null  int64  \n",
      " 16  month         352836 non-null  int64  \n",
      " 17  weekday name  352836 non-null  object \n",
      "dtypes: bool(1), float64(2), int64(6), object(9)\n",
      "memory usage: 48.8+ MB\n"
     ]
    }
   ],
   "source": [
    "data_final.info()"
   ]
  },
  {
   "cell_type": "markdown",
   "id": "d6f37295",
   "metadata": {},
   "source": [
    "### Daily oil price  has null values"
   ]
  },
  {
   "cell_type": "code",
   "execution_count": 149,
   "id": "4a5849e2",
   "metadata": {},
   "outputs": [
    {
     "data": {
      "text/plain": [
       "<AxesSubplot:xlabel='date'>"
      ]
     },
     "execution_count": 149,
     "metadata": {},
     "output_type": "execute_result"
    },
    {
     "data": {
      "image/png": "[encoded data removed]",
      "text/plain": [
       "<Figure size 640x480 with 1 Axes>"
      ]
     },
     "metadata": {},
     "output_type": "display_data"
    }
   ],
   "source": [
    "data_final.dcoilwtico.plot()"
   ]
  },
  {
   "cell_type": "markdown",
   "id": "c31fbd27",
   "metadata": {},
   "source": [
    "## Imputation for missing records with a strategy of mean\n",
    "\n",
    "The reason for using mean as a strategy is depends on the outliers. The data feature has no outlier as figure below. so it is possible to us mean. But if there was outlier to the data it will be good practice to use median. Because the mean will be dominated by outlier. \n",
    "\n",
    "For our scenario mean is the strategy."
   ]
  },
  {
   "cell_type": "code",
   "execution_count": 171,
   "id": "d61d92ea",
   "metadata": {},
   "outputs": [
    {
     "data": {
      "image/png": "[encoded data removed]",
      "text/plain": [
       "<Figure size 600x400 with 1 Axes>"
      ]
     },
     "metadata": {},
     "output_type": "display_data"
    }
   ],
   "source": [
    "plt.figure(figsize=(6, 4))\n",
    "sns.boxplot(x='dcoilwtico', data=data_final)\n",
    "plt.title('Daily Oil Price')\n",
    "plt.xlabel('Price')\n",
    "plt.show()"
   ]
  },
  {
   "cell_type": "code",
   "execution_count": 178,
   "id": "2de6ad0e",
   "metadata": {},
   "outputs": [
    {
     "data": {
      "text/plain": [
       "SimpleImputer()"
      ]
     },
     "execution_count": 178,
     "metadata": {},
     "output_type": "execute_result"
    }
   ],
   "source": [
    "from sklearn.impute import SimpleImputer\n",
    "\n",
    "imputer = SimpleImputer(strategy = \"mean\")\n",
    "imputer.fit(data_final.dcoilwtico.array.reshape(-1,1))"
   ]
  },
  {
   "cell_type": "code",
   "execution_count": 179,
   "id": "60693b8b",
   "metadata": {},
   "outputs": [],
   "source": [
    "data_final.dcoilwtico = imputer.fit_transform(data_final.dcoilwtico.array.reshape(-1,1))"
   ]
  },
  {
   "cell_type": "code",
   "execution_count": 180,
   "id": "f0ec80fa",
   "metadata": {},
   "outputs": [
    {
     "name": "stdout",
     "output_type": "stream",
     "text": [
      "<class 'pandas.core.frame.DataFrame'>\n",
      "DatetimeIndex: 352836 entries, 2013-01-01 to 2017-08-15\n",
      "Data columns (total 18 columns):\n",
      " #   Column        Non-Null Count   Dtype  \n",
      "---  ------        --------------   -----  \n",
      " 0   store_nbr     352836 non-null  int64  \n",
      " 1   city          352836 non-null  object \n",
      " 2   state         352836 non-null  object \n",
      " 3   type          352836 non-null  object \n",
      " 4   cluster       352836 non-null  int64  \n",
      " 5   id            352836 non-null  int64  \n",
      " 6   family        352836 non-null  object \n",
      " 7   sales         352836 non-null  float64\n",
      " 8   onpromotion   352836 non-null  int64  \n",
      " 9   holiday_type  352836 non-null  object \n",
      " 10  locale        352836 non-null  object \n",
      " 11  locale_name   352836 non-null  object \n",
      " 12  description   352836 non-null  object \n",
      " 13  transferred   352836 non-null  bool   \n",
      " 14  dcoilwtico    352836 non-null  float64\n",
      " 15  year          352836 non-null  int64  \n",
      " 16  month         352836 non-null  int64  \n",
      " 17  weekday name  352836 non-null  object \n",
      "dtypes: bool(1), float64(2), int64(6), object(9)\n",
      "memory usage: 48.8+ MB\n"
     ]
    }
   ],
   "source": [
    "data_final.info()"
   ]
  },
  {
   "cell_type": "markdown",
   "id": "730bfc3f",
   "metadata": {},
   "source": [
    "### Now lets check the featue after imputation"
   ]
  },
  {
   "cell_type": "code",
   "execution_count": 181,
   "id": "e5d6b605",
   "metadata": {},
   "outputs": [
    {
     "data": {
      "text/plain": [
       "<AxesSubplot:xlabel='date'>"
      ]
     },
     "execution_count": 181,
     "metadata": {},
     "output_type": "execute_result"
    },
    {
     "data": {
      "image/png": "[encoded data removed]",
      "text/plain": [
       "<Figure size 640x480 with 1 Axes>"
      ]
     },
     "metadata": {},
     "output_type": "display_data"
    }
   ],
   "source": [
    "data_final.dcoilwtico.plot()"
   ]
  },
  {
   "cell_type": "markdown",
   "id": "bd40feb4",
   "metadata": {},
   "source": [
    "# Questions"
   ]
  },
  {
   "cell_type": "markdown",
   "id": "1b682e8a",
   "metadata": {},
   "source": [
    "## 1. Which cities have a high number of promotion"
   ]
  },
  {
   "cell_type": "code",
   "execution_count": 216,
   "id": "27496607",
   "metadata": {},
   "outputs": [],
   "source": [
    "promotion_city = data_final.groupby(\"city\").count()[\"onpromotion\"].sort_values(ascending=False).head(5)\n",
    "promotion_city = pd.DataFrame({'year':promotion_city.index, 'amount':promotion_city.values})"
   ]
  },
  {
   "cell_type": "code",
   "execution_count": 291,
   "id": "3c9fcf7d",
   "metadata": {},
   "outputs": [
    {
     "data": {
      "image/png": "[encoded data removed]",
      "text/plain": [
       "<Figure size 700x350 with 1 Axes>"
      ]
     },
     "metadata": {},
     "output_type": "display_data"
    }
   ],
   "source": [
    "#create horizontal barplot\n",
    "sns.barplot(x=promotion_city.amount , y=promotion_city.year, orient='h' )\n",
    "\n",
    "#add plot title\n",
    "sns.title = 'Total Sales by Employee'\n",
    "\n",
    "#add axis labels\n",
    "plt.xlabel('Total Sales')\n",
    "plt.ylabel('Employee Name')\n",
    "plt.show()"
   ]
  },
  {
   "cell_type": "markdown",
   "id": "28c8d13f",
   "metadata": {},
   "source": [
    "A city named as \"Quito\" has more than 10 thousand promotions over the past five years. \"Guayaquil\" also takes a promotion in the city around 5 thousand."
   ]
  },
  {
   "cell_type": "markdown",
   "id": "4dbbce60",
   "metadata": {},
   "source": [
    "## 2. Which year has a high number of promotion"
   ]
  },
  {
   "cell_type": "code",
   "execution_count": 194,
   "id": "af52650d",
   "metadata": {},
   "outputs": [],
   "source": [
    "promotion_year = data_final.groupby(\"year\").count()[\"onpromotion\"].sort_values(ascending=False).head(5)"
   ]
  },
  {
   "cell_type": "code",
   "execution_count": 297,
   "id": "724ac336",
   "metadata": {},
   "outputs": [
    {
     "data": {
      "image/png": "[encoded data removed]",
      "text/plain": [
       "<Figure size 700x350 with 1 Axes>"
      ]
     },
     "metadata": {},
     "output_type": "display_data"
    },
    {
     "data": {
      "text/plain": [
       "<Figure size 1000x700 with 0 Axes>"
      ]
     },
     "metadata": {},
     "output_type": "display_data"
    }
   ],
   "source": [
    "#define data\n",
    "data = promotion_year\n",
    "labels = ['2016', '2014', '2015', \"2013\" , \"2017\" ]\n",
    "\n",
    "#define Seaborn color palette to use\n",
    "colors = sns.color_palette('bright')[0:5]\n",
    "\n",
    "# declaring exploding pie\n",
    "explode = [0.1, 0, 0, 0, 0]\n",
    "\n",
    "#create pie chart\n",
    "plt.pie(data, labels = labels, explode = explode , colors = colors, autopct='%.0f%%' )\n",
    "plt.figure(figsize=(10, 7))\n",
    "\n",
    "plt.show()\n"
   ]
  },
  {
   "cell_type": "markdown",
   "id": "33c327a7",
   "metadata": {},
   "source": [
    "# 3. Which cities have a high amount of sale transactions"
   ]
  },
  {
   "cell_type": "code",
   "execution_count": 300,
   "id": "ed63aade",
   "metadata": {},
   "outputs": [
    {
     "data": {
      "text/plain": [
       "city\n",
       "Quito            117612\n",
       "Guayaquil         52272\n",
       "Santo Domingo     19602\n",
       "Cuenca            19602\n",
       "Manta             13068\n",
       "Name: sales, dtype: int64"
      ]
     },
     "execution_count": 300,
     "metadata": {},
     "output_type": "execute_result"
    }
   ],
   "source": [
    "sale_city = data_final.groupby(\"city\").count()[\"sales\"].sort_values(ascending=False).head(5)\n",
    "sale_city"
   ]
  },
  {
   "cell_type": "code",
   "execution_count": null,
   "id": "efceb35d",
   "metadata": {},
   "outputs": [],
   "source": [
    "#create horizontal barplot\n",
    "sns.barplot(x=promotion_city.amount , y=promotion_city.year, orient='h' )\n",
    "\n",
    "#add plot title\n",
    "sns.title = 'Total Sales by Employee'\n",
    "\n",
    "#add axis labels\n",
    "plt.xlabel('Total Sales')\n",
    "plt.ylabel('Employee Name')\n",
    "plt.show()"
   ]
  },
  {
   "cell_type": "markdown",
   "id": "ec1e8444",
   "metadata": {},
   "source": [
    "# 3. Show how is the daily price of oil momement over the year"
   ]
  },
  {
   "cell_type": "code",
   "execution_count": 273,
   "id": "87f7e45a",
   "metadata": {},
   "outputs": [
    {
     "data": {
      "text/plain": [
       "<AxesSubplot:title={'center':'Daily Price over the year'}, xlabel='year'>"
      ]
     },
     "execution_count": 273,
     "metadata": {},
     "output_type": "execute_result"
    },
    {
     "data": {
      "image/png": "[encoded data removed]",
      "text/plain": [
       "<Figure size 700x350 with 1 Axes>"
      ]
     },
     "metadata": {},
     "output_type": "display_data"
    }
   ],
   "source": [
    "data_final.groupby(\"year\").sum()[\"dcoilwtico\"].plot(grid=True , title = \"Daily Price over the year\" )\n"
   ]
  },
  {
   "cell_type": "markdown",
   "id": "c7f92371",
   "metadata": {},
   "source": [
    "The graph show a seasonality change on price of oil. The first year can affect the next one by giving an inverse result. For example when we look at 2013 the price is increasing, then the next year,2014, is decreasing. The same thing percieved in 2015 which increase the price because of the last year was decresing. It has up and down flow over the years."
   ]
  },
  {
   "cell_type": "markdown",
   "id": "27b1b9ab",
   "metadata": {},
   "source": [
    "# 4. Show the relation between daily oil price and amount of sales "
   ]
  },
  {
   "cell_type": "code",
   "execution_count": 324,
   "id": "d3f3f550",
   "metadata": {
    "collapsed": true
   },
   "outputs": [
    {
     "data": {
      "text/html": [
       "<div>\n",
       "<style scoped>\n",
       "    .dataframe tbody tr th:only-of-type {\n",
       "        vertical-align: middle;\n",
       "    }\n",
       "\n",
       "    .dataframe tbody tr th {\n",
       "        vertical-align: top;\n",
       "    }\n",
       "\n",
       "    .dataframe thead th {\n",
       "        text-align: right;\n",
       "    }\n",
       "</style>\n",
       "<table border=\"1\" class=\"dataframe\">\n",
       "  <thead>\n",
       "    <tr style=\"text-align: right;\">\n",
       "      <th></th>\n",
       "      <th>year</th>\n",
       "      <th>sale_amount</th>\n",
       "    </tr>\n",
       "  </thead>\n",
       "  <tbody>\n",
       "    <tr>\n",
       "      <th>0</th>\n",
       "      <td>2013</td>\n",
       "      <td>5.385328e+06</td>\n",
       "    </tr>\n",
       "    <tr>\n",
       "      <th>1</th>\n",
       "      <td>2014</td>\n",
       "      <td>7.443127e+06</td>\n",
       "    </tr>\n",
       "    <tr>\n",
       "      <th>2</th>\n",
       "      <td>2015</td>\n",
       "      <td>3.513512e+06</td>\n",
       "    </tr>\n",
       "    <tr>\n",
       "      <th>3</th>\n",
       "      <td>2016</td>\n",
       "      <td>4.722547e+06</td>\n",
       "    </tr>\n",
       "    <tr>\n",
       "      <th>4</th>\n",
       "      <td>2017</td>\n",
       "      <td>2.000220e+06</td>\n",
       "    </tr>\n",
       "  </tbody>\n",
       "</table>\n",
       "</div>"
      ],
      "text/plain": [
       "   year   sale_amount\n",
       "0  2013  5.385328e+06\n",
       "1  2014  7.443127e+06\n",
       "2  2015  3.513512e+06\n",
       "3  2016  4.722547e+06\n",
       "4  2017  2.000220e+06"
      ]
     },
     "execution_count": 324,
     "metadata": {},
     "output_type": "execute_result"
    }
   ],
   "source": [
    "price_year = data_final.groupby(\"year\").sum()[\"dcoilwtico\"]\n",
    "price_year = pd.DataFrame({'year':price_year.index, 'sale_amount':price_year.values})\n",
    "price_year"
   ]
  },
  {
   "cell_type": "code",
   "execution_count": 322,
   "id": "3e2df19b",
   "metadata": {
    "collapsed": true
   },
   "outputs": [
    {
     "data": {
      "text/html": [
       "<div>\n",
       "<style scoped>\n",
       "    .dataframe tbody tr th:only-of-type {\n",
       "        vertical-align: middle;\n",
       "    }\n",
       "\n",
       "    .dataframe tbody tr th {\n",
       "        vertical-align: top;\n",
       "    }\n",
       "\n",
       "    .dataframe thead th {\n",
       "        text-align: right;\n",
       "    }\n",
       "</style>\n",
       "<table border=\"1\" class=\"dataframe\">\n",
       "  <thead>\n",
       "    <tr style=\"text-align: right;\">\n",
       "      <th></th>\n",
       "      <th>year</th>\n",
       "      <th>oil_price</th>\n",
       "    </tr>\n",
       "  </thead>\n",
       "  <tbody>\n",
       "    <tr>\n",
       "      <th>0</th>\n",
       "      <td>2013</td>\n",
       "      <td>1.166394e+07</td>\n",
       "    </tr>\n",
       "    <tr>\n",
       "      <th>1</th>\n",
       "      <td>2014</td>\n",
       "      <td>2.809424e+07</td>\n",
       "    </tr>\n",
       "    <tr>\n",
       "      <th>2</th>\n",
       "      <td>2015</td>\n",
       "      <td>2.752824e+07</td>\n",
       "    </tr>\n",
       "    <tr>\n",
       "      <th>3</th>\n",
       "      <td>2016</td>\n",
       "      <td>4.568113e+07</td>\n",
       "    </tr>\n",
       "    <tr>\n",
       "      <th>4</th>\n",
       "      <td>2017</td>\n",
       "      <td>1.792345e+07</td>\n",
       "    </tr>\n",
       "  </tbody>\n",
       "</table>\n",
       "</div>"
      ],
      "text/plain": [
       "   year     oil_price\n",
       "0  2013  1.166394e+07\n",
       "1  2014  2.809424e+07\n",
       "2  2015  2.752824e+07\n",
       "3  2016  4.568113e+07\n",
       "4  2017  1.792345e+07"
      ]
     },
     "execution_count": 322,
     "metadata": {},
     "output_type": "execute_result"
    }
   ],
   "source": [
    "oil_year = data_final.groupby(\"year\").sum()[\"sales\"]\n",
    "oil_year = pd.DataFrame({'year':oil_year.index, 'oil_price':oil_year.values})\n",
    "oil_year"
   ]
  },
  {
   "cell_type": "code",
   "execution_count": 341,
   "id": "1cba00c2",
   "metadata": {},
   "outputs": [
    {
     "data": {
      "image/png": "[encoded data removed]",
      "text/plain": [
       "<Figure size 700x350 with 1 Axes>"
      ]
     },
     "metadata": {},
     "output_type": "display_data"
    }
   ],
   "source": [
    "sns.lineplot(x = \"year\", y = \"sale_amount\", data=price_year)\n",
    "sns.lineplot(x = \"year\", y = \"oil_price\", data=oil_year )\n",
    "plt.legend(labels = [\"sales , oil Price\" ] )\n",
    "\n",
    "plt.show()"
   ]
  },
  {
   "cell_type": "code",
   "execution_count": null,
   "id": "ba12f50a",
   "metadata": {},
   "outputs": [],
   "source": []
  },
  {
   "cell_type": "code",
   "execution_count": 250,
   "id": "56ddcea5",
   "metadata": {},
   "outputs": [
    {
     "data": {
      "text/plain": [
       "Index(['store_nbr', 'city', 'state', 'type', 'cluster', 'id', 'family',\n",
       "       'sales', 'onpromotion', 'holiday_type', 'locale', 'locale_name',\n",
       "       'description', 'transferred', 'dcoilwtico', 'year', 'month',\n",
       "       'weekday name'],\n",
       "      dtype='object')"
      ]
     },
     "execution_count": 250,
     "metadata": {},
     "output_type": "execute_result"
    }
   ],
   "source": [
    "data_final.columns"
   ]
  },
  {
   "cell_type": "markdown",
   "id": "1be00292",
   "metadata": {},
   "source": [
    "# Exploratory Data Analysis"
   ]
  },
  {
   "cell_type": "code",
   "execution_count": 191,
   "id": "e8f7a307",
   "metadata": {},
   "outputs": [
    {
     "data": {
      "text/html": [
       "<div>\n",
       "<style scoped>\n",
       "    .dataframe tbody tr th:only-of-type {\n",
       "        vertical-align: middle;\n",
       "    }\n",
       "\n",
       "    .dataframe tbody tr th {\n",
       "        vertical-align: top;\n",
       "    }\n",
       "\n",
       "    .dataframe thead th {\n",
       "        text-align: right;\n",
       "    }\n",
       "</style>\n",
       "<table border=\"1\" class=\"dataframe\">\n",
       "  <thead>\n",
       "    <tr style=\"text-align: right;\">\n",
       "      <th></th>\n",
       "      <th>store_nbr</th>\n",
       "      <th>city</th>\n",
       "      <th>state</th>\n",
       "      <th>type</th>\n",
       "      <th>cluster</th>\n",
       "      <th>id</th>\n",
       "      <th>family</th>\n",
       "      <th>sales</th>\n",
       "      <th>onpromotion</th>\n",
       "      <th>holiday_type</th>\n",
       "      <th>locale</th>\n",
       "      <th>locale_name</th>\n",
       "      <th>description</th>\n",
       "      <th>transferred</th>\n",
       "      <th>dcoilwtico</th>\n",
       "      <th>year</th>\n",
       "      <th>month</th>\n",
       "      <th>weekday name</th>\n",
       "    </tr>\n",
       "    <tr>\n",
       "      <th>date</th>\n",
       "      <th></th>\n",
       "      <th></th>\n",
       "      <th></th>\n",
       "      <th></th>\n",
       "      <th></th>\n",
       "      <th></th>\n",
       "      <th></th>\n",
       "      <th></th>\n",
       "      <th></th>\n",
       "      <th></th>\n",
       "      <th></th>\n",
       "      <th></th>\n",
       "      <th></th>\n",
       "      <th></th>\n",
       "      <th></th>\n",
       "      <th></th>\n",
       "      <th></th>\n",
       "      <th></th>\n",
       "    </tr>\n",
       "  </thead>\n",
       "  <tbody>\n",
       "    <tr>\n",
       "      <th>2017-08-15</th>\n",
       "      <td>54</td>\n",
       "      <td>El Carmen</td>\n",
       "      <td>Manabi</td>\n",
       "      <td>C</td>\n",
       "      <td>3</td>\n",
       "      <td>3000751</td>\n",
       "      <td>POULTRY</td>\n",
       "      <td>59.619</td>\n",
       "      <td>0</td>\n",
       "      <td>Holiday</td>\n",
       "      <td>Local</td>\n",
       "      <td>Riobamba</td>\n",
       "      <td>Fundacion de Riobamba</td>\n",
       "      <td>False</td>\n",
       "      <td>47.57</td>\n",
       "      <td>2017</td>\n",
       "      <td>8</td>\n",
       "      <td>Tuesday</td>\n",
       "    </tr>\n",
       "    <tr>\n",
       "      <th>2017-08-15</th>\n",
       "      <td>54</td>\n",
       "      <td>El Carmen</td>\n",
       "      <td>Manabi</td>\n",
       "      <td>C</td>\n",
       "      <td>3</td>\n",
       "      <td>3000752</td>\n",
       "      <td>PREPARED FOODS</td>\n",
       "      <td>94.000</td>\n",
       "      <td>0</td>\n",
       "      <td>Holiday</td>\n",
       "      <td>Local</td>\n",
       "      <td>Riobamba</td>\n",
       "      <td>Fundacion de Riobamba</td>\n",
       "      <td>False</td>\n",
       "      <td>47.57</td>\n",
       "      <td>2017</td>\n",
       "      <td>8</td>\n",
       "      <td>Tuesday</td>\n",
       "    </tr>\n",
       "    <tr>\n",
       "      <th>2017-08-15</th>\n",
       "      <td>54</td>\n",
       "      <td>El Carmen</td>\n",
       "      <td>Manabi</td>\n",
       "      <td>C</td>\n",
       "      <td>3</td>\n",
       "      <td>3000753</td>\n",
       "      <td>PRODUCE</td>\n",
       "      <td>915.371</td>\n",
       "      <td>76</td>\n",
       "      <td>Holiday</td>\n",
       "      <td>Local</td>\n",
       "      <td>Riobamba</td>\n",
       "      <td>Fundacion de Riobamba</td>\n",
       "      <td>False</td>\n",
       "      <td>47.57</td>\n",
       "      <td>2017</td>\n",
       "      <td>8</td>\n",
       "      <td>Tuesday</td>\n",
       "    </tr>\n",
       "    <tr>\n",
       "      <th>2017-08-15</th>\n",
       "      <td>54</td>\n",
       "      <td>El Carmen</td>\n",
       "      <td>Manabi</td>\n",
       "      <td>C</td>\n",
       "      <td>3</td>\n",
       "      <td>3000754</td>\n",
       "      <td>SCHOOL AND OFFICE SUPPLIES</td>\n",
       "      <td>0.000</td>\n",
       "      <td>0</td>\n",
       "      <td>Holiday</td>\n",
       "      <td>Local</td>\n",
       "      <td>Riobamba</td>\n",
       "      <td>Fundacion de Riobamba</td>\n",
       "      <td>False</td>\n",
       "      <td>47.57</td>\n",
       "      <td>2017</td>\n",
       "      <td>8</td>\n",
       "      <td>Tuesday</td>\n",
       "    </tr>\n",
       "    <tr>\n",
       "      <th>2017-08-15</th>\n",
       "      <td>54</td>\n",
       "      <td>El Carmen</td>\n",
       "      <td>Manabi</td>\n",
       "      <td>C</td>\n",
       "      <td>3</td>\n",
       "      <td>3000755</td>\n",
       "      <td>SEAFOOD</td>\n",
       "      <td>3.000</td>\n",
       "      <td>0</td>\n",
       "      <td>Holiday</td>\n",
       "      <td>Local</td>\n",
       "      <td>Riobamba</td>\n",
       "      <td>Fundacion de Riobamba</td>\n",
       "      <td>False</td>\n",
       "      <td>47.57</td>\n",
       "      <td>2017</td>\n",
       "      <td>8</td>\n",
       "      <td>Tuesday</td>\n",
       "    </tr>\n",
       "  </tbody>\n",
       "</table>\n",
       "</div>"
      ],
      "text/plain": [
       "            store_nbr       city   state type  cluster       id  \\\n",
       "date                                                              \n",
       "2017-08-15         54  El Carmen  Manabi    C        3  3000751   \n",
       "2017-08-15         54  El Carmen  Manabi    C        3  3000752   \n",
       "2017-08-15         54  El Carmen  Manabi    C        3  3000753   \n",
       "2017-08-15         54  El Carmen  Manabi    C        3  3000754   \n",
       "2017-08-15         54  El Carmen  Manabi    C        3  3000755   \n",
       "\n",
       "                                family    sales  onpromotion holiday_type  \\\n",
       "date                                                                        \n",
       "2017-08-15                     POULTRY   59.619            0      Holiday   \n",
       "2017-08-15              PREPARED FOODS   94.000            0      Holiday   \n",
       "2017-08-15                     PRODUCE  915.371           76      Holiday   \n",
       "2017-08-15  SCHOOL AND OFFICE SUPPLIES    0.000            0      Holiday   \n",
       "2017-08-15                     SEAFOOD    3.000            0      Holiday   \n",
       "\n",
       "           locale locale_name            description  transferred  dcoilwtico  \\\n",
       "date                                                                            \n",
       "2017-08-15  Local    Riobamba  Fundacion de Riobamba        False       47.57   \n",
       "2017-08-15  Local    Riobamba  Fundacion de Riobamba        False       47.57   \n",
       "2017-08-15  Local    Riobamba  Fundacion de Riobamba        False       47.57   \n",
       "2017-08-15  Local    Riobamba  Fundacion de Riobamba        False       47.57   \n",
       "2017-08-15  Local    Riobamba  Fundacion de Riobamba        False       47.57   \n",
       "\n",
       "            year  month weekday name  \n",
       "date                                  \n",
       "2017-08-15  2017      8      Tuesday  \n",
       "2017-08-15  2017      8      Tuesday  \n",
       "2017-08-15  2017      8      Tuesday  \n",
       "2017-08-15  2017      8      Tuesday  \n",
       "2017-08-15  2017      8      Tuesday  "
      ]
     },
     "execution_count": 191,
     "metadata": {},
     "output_type": "execute_result"
    }
   ],
   "source": [
    "data_final.tail()"
   ]
  },
  {
   "cell_type": "code",
   "execution_count": 407,
   "id": "79087e88",
   "metadata": {},
   "outputs": [
    {
     "data": {
      "text/plain": [
       "<AxesSubplot:title={'center':'Oil Prices'}, xlabel='date', ylabel='Oil Price'>"
      ]
     },
     "execution_count": 407,
     "metadata": {},
     "output_type": "execute_result"
    },
    {
     "data": {
      "image/png": "[encoded data removed]",
      "text/plain": [
       "<Figure size 640x480 with 1 Axes>"
      ]
     },
     "metadata": {},
     "output_type": "display_data"
    }
   ],
   "source": [
    "# visualizing data\n",
    "\n",
    "data_final.dcoilwtico.plot(ylabel = \"Oil Price\" , title = \"Oil Prices\")"
   ]
  },
  {
   "cell_type": "markdown",
   "id": "d1c0f47c",
   "metadata": {},
   "source": [
    "## The graph shows there is a irregular variation trend and stationary. From 2013 to end of 2014 the oil price is on a stationary mode. The downward change is percieved on 2015 which has 50 difference. For the rest years means from 2015 to 2017 the trend is decrease at a minimum state. "
   ]
  },
  {
   "cell_type": "code",
   "execution_count": 408,
   "id": "200e944f",
   "metadata": {},
   "outputs": [
    {
     "data": {
      "text/plain": [
       "Index(['store_nbr', 'city', 'state', 'type', 'cluster', 'id', 'family',\n",
       "       'sales', 'onpromotion', 'holiday_type', 'locale', 'locale_name',\n",
       "       'description', 'transferred', 'dcoilwtico', 'year', 'month',\n",
       "       'weekday name'],\n",
       "      dtype='object')"
      ]
     },
     "execution_count": 408,
     "metadata": {},
     "output_type": "execute_result"
    }
   ],
   "source": [
    "data_final.columns\n"
   ]
  },
  {
   "cell_type": "code",
   "execution_count": 409,
   "id": "65015e0a",
   "metadata": {},
   "outputs": [
    {
     "data": {
      "text/plain": [
       "<AxesSubplot:title={'center':'Amount of sales per store number'}, xlabel='store_nbr', ylabel='Amount of Sale'>"
      ]
     },
     "execution_count": 409,
     "metadata": {},
     "output_type": "execute_result"
    },
    {
     "data": {
      "image/png": "[encoded data removed]",
      "text/plain": [
       "<Figure size 640x480 with 1 Axes>"
      ]
     },
     "metadata": {},
     "output_type": "display_data"
    }
   ],
   "source": [
    "\n",
    "plt.show()\n",
    "data_final.groupby(\"store_nbr\")[\"sales\"].mean().plot(ylabel=\"Amount of Sale\" , title = \"Amount of sales per store number\")"
   ]
  },
  {
   "cell_type": "markdown",
   "id": "168cf26e",
   "metadata": {},
   "source": [
    "## A sale of stores are different from one to another. There is an increasing amount os saling in store 0 to 5. Also stores labled from 40 to 50 has a seasonal variation."
   ]
  },
  {
   "cell_type": "code",
   "execution_count": 410,
   "id": "85cf21b5",
   "metadata": {},
   "outputs": [
    {
     "data": {
      "text/plain": [
       "<AxesSubplot:title={'center':'Sales per Year'}, xlabel='year', ylabel='Amount of Sale'>"
      ]
     },
     "execution_count": 410,
     "metadata": {},
     "output_type": "execute_result"
    },
    {
     "data": {
      "image/png": "[encoded data removed]",
      "text/plain": [
       "<Figure size 640x480 with 1 Axes>"
      ]
     },
     "metadata": {},
     "output_type": "display_data"
    }
   ],
   "source": [
    "plt.ylabel = \"Sales Amount\"\n",
    "data_final.groupby(\"year\").count()[\"sales\"].plot(ylabel=\"Amount of Sale\"   , kind = \"bar\",  title = \"Sales per Year\" )"
   ]
  },
  {
   "cell_type": "markdown",
   "id": "ceb91641",
   "metadata": {},
   "source": [
    "## Year 2016 has the largest sale from our records. 2017 , in other side, make a round 30 thousand sales. The rest years are ranges from 50 to 80 thound of sales."
   ]
  },
  {
   "cell_type": "code",
   "execution_count": 448,
   "id": "be69fadd",
   "metadata": {},
   "outputs": [
    {
     "data": {
      "image/png": "[encoded data removed]",
      "text/plain": [
       "<Figure size 640x480 with 1 Axes>"
      ]
     },
     "metadata": {},
     "output_type": "display_data"
    }
   ],
   "source": [
    "\n",
    "data_final[data_final[\"year\"] == 2016].dcoilwtico.plot(ylabel =\"Oil Price\" , title = \"Oil Price in 2016\")\n",
    "plt.grid()\n"
   ]
  },
  {
   "cell_type": "markdown",
   "id": "becc54b4",
   "metadata": {},
   "source": [
    "## For the first five month there is an upward trend. From senventh month to the end of year the plot has irregular variation\n",
    "\n",
    "## This graph tell us unexpected result. It is not usual for market as the price of oil increase also the year become the top record on sale. "
   ]
  },
  {
   "cell_type": "code",
   "execution_count": 449,
   "id": "6458ef40",
   "metadata": {},
   "outputs": [
    {
     "data": {
      "image/png": "[encoded data removed]",
      "text/plain": [
       "<Figure size 640x480 with 1 Axes>"
      ]
     },
     "metadata": {},
     "output_type": "display_data"
    }
   ],
   "source": [
    "data_final[data_final[\"year\"] == 2017].dcoilwtico.plot(ylabel =\"Oil Price\" , title = \"Oil Price in 2017\")\n",
    "plt.grid()"
   ]
  },
  {
   "cell_type": "code",
   "execution_count": null,
   "id": "da62955f",
   "metadata": {},
   "outputs": [],
   "source": []
  },
  {
   "cell_type": "markdown",
   "id": "fe2e1537",
   "metadata": {},
   "source": [
    "## There is irregular variation standing from the graph, price of oil is downgrading as the month increases. and from both 2016 and 2017 data, the is an inverse relation between month increasng and price of oil decresing."
   ]
  },
  {
   "cell_type": "code",
   "execution_count": 413,
   "id": "db8ed54b",
   "metadata": {},
   "outputs": [
    {
     "data": {
      "text/plain": [
       "Index(['store_nbr', 'city', 'state', 'type', 'cluster', 'id', 'family',\n",
       "       'sales', 'onpromotion', 'holiday_type', 'locale', 'locale_name',\n",
       "       'description', 'transferred', 'dcoilwtico', 'year', 'month',\n",
       "       'weekday name'],\n",
       "      dtype='object')"
      ]
     },
     "execution_count": 413,
     "metadata": {},
     "output_type": "execute_result"
    }
   ],
   "source": [
    "data_final.columns"
   ]
  },
  {
   "cell_type": "code",
   "execution_count": 414,
   "id": "d369f465",
   "metadata": {},
   "outputs": [
    {
     "name": "stdout",
     "output_type": "stream",
     "text": [
      "<class 'pandas.core.frame.DataFrame'>\n",
      "DatetimeIndex: 322542 entries, 2013-02-11 to 2017-08-15\n",
      "Data columns (total 18 columns):\n",
      " #   Column        Non-Null Count   Dtype  \n",
      "---  ------        --------------   -----  \n",
      " 0   store_nbr     322542 non-null  int64  \n",
      " 1   city          322542 non-null  object \n",
      " 2   state         322542 non-null  object \n",
      " 3   type          322542 non-null  object \n",
      " 4   cluster       322542 non-null  int64  \n",
      " 5   id            322542 non-null  int64  \n",
      " 6   family        322542 non-null  object \n",
      " 7   sales         322542 non-null  float64\n",
      " 8   onpromotion   322542 non-null  int64  \n",
      " 9   holiday_type  322542 non-null  object \n",
      " 10  locale        322542 non-null  object \n",
      " 11  locale_name   322542 non-null  object \n",
      " 12  description   322542 non-null  object \n",
      " 13  transferred   322542 non-null  bool   \n",
      " 14  dcoilwtico    322542 non-null  float64\n",
      " 15  year          322542 non-null  int64  \n",
      " 16  month         322542 non-null  int64  \n",
      " 17  weekday name  322542 non-null  object \n",
      "dtypes: bool(1), float64(2), int64(6), object(9)\n",
      "memory usage: 52.7+ MB\n"
     ]
    }
   ],
   "source": [
    "data_final.info()"
   ]
  },
  {
   "cell_type": "code",
   "execution_count": 456,
   "id": "9fea504b",
   "metadata": {},
   "outputs": [
    {
     "data": {
      "image/png": "[encoded data removed]",
      "text/plain": [
       "<Figure size 1100x900 with 3 Axes>"
      ]
     },
     "metadata": {},
     "output_type": "display_data"
    }
   ],
   "source": [
    "cols_plot = [\"sales\" , \"onpromotion\" , \"dcoilwtico\"]\n",
    "axes = data_final[cols_plot].plot(marker = \"x\" , alpha = 0.5 , figsize = (11 , 9) ,subplots = True , grid=True)\n"
   ]
  },
  {
   "cell_type": "markdown",
   "id": "4c032e12",
   "metadata": {},
   "source": [
    "## A plot can inform us promotion is not high as the oil price is too much. Briefly can conclude that for high number of promotion there must be cheap amount oil."
   ]
  },
  {
   "cell_type": "code",
   "execution_count": 416,
   "id": "7ea5230c",
   "metadata": {},
   "outputs": [
    {
     "data": {
      "text/plain": [
       "DatetimeIndex(['2016-01-01', '2016-01-02', '2016-01-03', '2016-01-04',\n",
       "               '2016-01-05', '2016-01-06', '2016-01-07', '2016-01-08',\n",
       "               '2016-01-09', '2016-01-10', '2016-01-11', '2016-01-12',\n",
       "               '2016-01-13', '2016-01-14', '2016-01-15', '2016-01-16',\n",
       "               '2016-01-17', '2016-01-18', '2016-01-19', '2016-01-20',\n",
       "               '2016-01-21', '2016-01-22', '2016-01-23', '2016-01-24',\n",
       "               '2016-01-25', '2016-01-26', '2016-01-27', '2016-01-28',\n",
       "               '2016-01-29', '2016-01-30'],\n",
       "              dtype='datetime64[ns]', freq='D')"
      ]
     },
     "execution_count": 416,
     "metadata": {},
     "output_type": "execute_result"
    }
   ],
   "source": [
    "pd.date_range(\"2016-01-01\" , \"2016-01-30\" , freq=\"d\")"
   ]
  },
  {
   "cell_type": "code",
   "execution_count": 417,
   "id": "363de0a5",
   "metadata": {},
   "outputs": [
    {
     "data": {
      "text/html": [
       "<div>\n",
       "<style scoped>\n",
       "    .dataframe tbody tr th:only-of-type {\n",
       "        vertical-align: middle;\n",
       "    }\n",
       "\n",
       "    .dataframe tbody tr th {\n",
       "        vertical-align: top;\n",
       "    }\n",
       "\n",
       "    .dataframe thead th {\n",
       "        text-align: right;\n",
       "    }\n",
       "</style>\n",
       "<table border=\"1\" class=\"dataframe\">\n",
       "  <thead>\n",
       "    <tr style=\"text-align: right;\">\n",
       "      <th></th>\n",
       "      <th>sales</th>\n",
       "      <th>onpromotion</th>\n",
       "      <th>dcoilwtico</th>\n",
       "    </tr>\n",
       "    <tr>\n",
       "      <th>date</th>\n",
       "      <th></th>\n",
       "      <th></th>\n",
       "      <th></th>\n",
       "    </tr>\n",
       "  </thead>\n",
       "  <tbody>\n",
       "    <tr>\n",
       "      <th>2013-02-17</th>\n",
       "      <td>164.822778</td>\n",
       "      <td>0.0</td>\n",
       "      <td>97.245003</td>\n",
       "    </tr>\n",
       "    <tr>\n",
       "      <th>2013-02-24</th>\n",
       "      <td>NaN</td>\n",
       "      <td>NaN</td>\n",
       "      <td>NaN</td>\n",
       "    </tr>\n",
       "    <tr>\n",
       "      <th>2013-03-03</th>\n",
       "      <td>NaN</td>\n",
       "      <td>NaN</td>\n",
       "      <td>NaN</td>\n",
       "    </tr>\n",
       "    <tr>\n",
       "      <th>2013-03-10</th>\n",
       "      <td>NaN</td>\n",
       "      <td>NaN</td>\n",
       "      <td>NaN</td>\n",
       "    </tr>\n",
       "    <tr>\n",
       "      <th>2013-03-17</th>\n",
       "      <td>NaN</td>\n",
       "      <td>NaN</td>\n",
       "      <td>NaN</td>\n",
       "    </tr>\n",
       "  </tbody>\n",
       "</table>\n",
       "</div>"
      ],
      "text/plain": [
       "                 sales  onpromotion  dcoilwtico\n",
       "date                                           \n",
       "2013-02-17  164.822778          0.0   97.245003\n",
       "2013-02-24         NaN          NaN         NaN\n",
       "2013-03-03         NaN          NaN         NaN\n",
       "2013-03-10         NaN          NaN         NaN\n",
       "2013-03-17         NaN          NaN         NaN"
      ]
     },
     "execution_count": 417,
     "metadata": {},
     "output_type": "execute_result"
    }
   ],
   "source": [
    "data_cols = [\"sales\" , \"onpromotion\" , \"dcoilwtico\"]\n",
    "data_weekly_mean = data_final[data_cols].resample(\"W\").mean()\n",
    "data_weekly_mean.head()"
   ]
  },
  {
   "cell_type": "code",
   "execution_count": 446,
   "id": "4f5b853f",
   "metadata": {},
   "outputs": [
    {
     "data": {
      "text/plain": [
       "<AxesSubplot:title={'center':'Number of stores in cities'}, xlabel='city', ylabel='numer of stores'>"
      ]
     },
     "execution_count": 446,
     "metadata": {},
     "output_type": "execute_result"
    },
    {
     "data": {
      "image/png": "[encoded data removed]",
      "text/plain": [
       "<Figure size 640x480 with 1 Axes>"
      ]
     },
     "metadata": {},
     "output_type": "display_data"
    }
   ],
   "source": [
    "data_final.groupby(\"city\").mean()[\"store_nbr\"].plot(kind = \"bar\" , title = \"Number of stores in cities\" , ylabel = \"numer of stores\")"
   ]
  },
  {
   "cell_type": "code",
   "execution_count": 457,
   "id": "6a16dce8",
   "metadata": {},
   "outputs": [
    {
     "data": {
      "text/plain": [
       "Index(['store_nbr', 'city', 'state', 'type', 'cluster', 'id', 'family',\n",
       "       'sales', 'onpromotion', 'holiday_type', 'locale', 'locale_name',\n",
       "       'description', 'transferred', 'dcoilwtico', 'year', 'month',\n",
       "       'weekday name', 'store_per_city'],\n",
       "      dtype='object')"
      ]
     },
     "execution_count": 457,
     "metadata": {},
     "output_type": "execute_result"
    }
   ],
   "source": [
    "data_final.columns"
   ]
  },
  {
   "cell_type": "markdown",
   "id": "683905ad",
   "metadata": {},
   "source": [
    "## How many promotion are done on each year"
   ]
  },
  {
   "cell_type": "code",
   "execution_count": 495,
   "id": "5009e965",
   "metadata": {},
   "outputs": [
    {
     "data": {
      "text/plain": [
       "<AxesSubplot:ylabel='year'>"
      ]
     },
     "execution_count": 495,
     "metadata": {},
     "output_type": "execute_result"
    },
    {
     "data": {
      "image/png": "[encoded data removed]",
      "text/plain": [
       "<Figure size 640x480 with 1 Axes>"
      ]
     },
     "metadata": {},
     "output_type": "display_data"
    }
   ],
   "source": [
    "data_final.groupby(\"year\").count()[\"onpromotion\"].plot(kind = \"barh\", grid = True)"
   ]
  },
  {
   "cell_type": "markdown",
   "id": "b1517f22",
   "metadata": {},
   "source": [
    "2016 and 2014 are the top promotion years."
   ]
  },
  {
   "cell_type": "markdown",
   "id": "e7688ab0",
   "metadata": {},
   "source": [
    "# How many promotion is done in 2016"
   ]
  },
  {
   "cell_type": "code",
   "execution_count": 499,
   "id": "f4c46af6",
   "metadata": {},
   "outputs": [
    {
     "data": {
      "text/html": [
       "<div>\n",
       "<style scoped>\n",
       "    .dataframe tbody tr th:only-of-type {\n",
       "        vertical-align: middle;\n",
       "    }\n",
       "\n",
       "    .dataframe tbody tr th {\n",
       "        vertical-align: top;\n",
       "    }\n",
       "\n",
       "    .dataframe thead th {\n",
       "        text-align: right;\n",
       "    }\n",
       "</style>\n",
       "<table border=\"1\" class=\"dataframe\">\n",
       "  <thead>\n",
       "    <tr style=\"text-align: right;\">\n",
       "      <th></th>\n",
       "      <th>store_nbr</th>\n",
       "      <th>city</th>\n",
       "      <th>state</th>\n",
       "      <th>type</th>\n",
       "      <th>cluster</th>\n",
       "      <th>id</th>\n",
       "      <th>family</th>\n",
       "      <th>sales</th>\n",
       "      <th>onpromotion</th>\n",
       "      <th>holiday_type</th>\n",
       "      <th>locale</th>\n",
       "      <th>locale_name</th>\n",
       "      <th>description</th>\n",
       "      <th>transferred</th>\n",
       "      <th>dcoilwtico</th>\n",
       "      <th>year</th>\n",
       "      <th>month</th>\n",
       "      <th>weekday name</th>\n",
       "      <th>store_per_city</th>\n",
       "    </tr>\n",
       "    <tr>\n",
       "      <th>date</th>\n",
       "      <th></th>\n",
       "      <th></th>\n",
       "      <th></th>\n",
       "      <th></th>\n",
       "      <th></th>\n",
       "      <th></th>\n",
       "      <th></th>\n",
       "      <th></th>\n",
       "      <th></th>\n",
       "      <th></th>\n",
       "      <th></th>\n",
       "      <th></th>\n",
       "      <th></th>\n",
       "      <th></th>\n",
       "      <th></th>\n",
       "      <th></th>\n",
       "      <th></th>\n",
       "      <th></th>\n",
       "      <th></th>\n",
       "    </tr>\n",
       "  </thead>\n",
       "  <tbody>\n",
       "    <tr>\n",
       "      <th>2016-02-08</th>\n",
       "      <td>1</td>\n",
       "      <td>Quito</td>\n",
       "      <td>Pichincha</td>\n",
       "      <td>D</td>\n",
       "      <td>13</td>\n",
       "      <td>2013660</td>\n",
       "      <td>AUTOMOTIVE</td>\n",
       "      <td>0.000</td>\n",
       "      <td>0</td>\n",
       "      <td>Holiday</td>\n",
       "      <td>National</td>\n",
       "      <td>Ecuador</td>\n",
       "      <td>Carnaval</td>\n",
       "      <td>False</td>\n",
       "      <td>29.709999</td>\n",
       "      <td>2016</td>\n",
       "      <td>2</td>\n",
       "      <td>Monday</td>\n",
       "      <td>NaN</td>\n",
       "    </tr>\n",
       "    <tr>\n",
       "      <th>2016-02-08</th>\n",
       "      <td>1</td>\n",
       "      <td>Quito</td>\n",
       "      <td>Pichincha</td>\n",
       "      <td>D</td>\n",
       "      <td>13</td>\n",
       "      <td>2013661</td>\n",
       "      <td>BABY CARE</td>\n",
       "      <td>0.000</td>\n",
       "      <td>0</td>\n",
       "      <td>Holiday</td>\n",
       "      <td>National</td>\n",
       "      <td>Ecuador</td>\n",
       "      <td>Carnaval</td>\n",
       "      <td>False</td>\n",
       "      <td>29.709999</td>\n",
       "      <td>2016</td>\n",
       "      <td>2</td>\n",
       "      <td>Monday</td>\n",
       "      <td>NaN</td>\n",
       "    </tr>\n",
       "    <tr>\n",
       "      <th>2016-02-08</th>\n",
       "      <td>1</td>\n",
       "      <td>Quito</td>\n",
       "      <td>Pichincha</td>\n",
       "      <td>D</td>\n",
       "      <td>13</td>\n",
       "      <td>2013662</td>\n",
       "      <td>BEAUTY</td>\n",
       "      <td>4.000</td>\n",
       "      <td>0</td>\n",
       "      <td>Holiday</td>\n",
       "      <td>National</td>\n",
       "      <td>Ecuador</td>\n",
       "      <td>Carnaval</td>\n",
       "      <td>False</td>\n",
       "      <td>29.709999</td>\n",
       "      <td>2016</td>\n",
       "      <td>2</td>\n",
       "      <td>Monday</td>\n",
       "      <td>NaN</td>\n",
       "    </tr>\n",
       "    <tr>\n",
       "      <th>2016-02-08</th>\n",
       "      <td>1</td>\n",
       "      <td>Quito</td>\n",
       "      <td>Pichincha</td>\n",
       "      <td>D</td>\n",
       "      <td>13</td>\n",
       "      <td>2013663</td>\n",
       "      <td>BEVERAGES</td>\n",
       "      <td>531.000</td>\n",
       "      <td>17</td>\n",
       "      <td>Holiday</td>\n",
       "      <td>National</td>\n",
       "      <td>Ecuador</td>\n",
       "      <td>Carnaval</td>\n",
       "      <td>False</td>\n",
       "      <td>29.709999</td>\n",
       "      <td>2016</td>\n",
       "      <td>2</td>\n",
       "      <td>Monday</td>\n",
       "      <td>NaN</td>\n",
       "    </tr>\n",
       "    <tr>\n",
       "      <th>2016-02-08</th>\n",
       "      <td>1</td>\n",
       "      <td>Quito</td>\n",
       "      <td>Pichincha</td>\n",
       "      <td>D</td>\n",
       "      <td>13</td>\n",
       "      <td>2013664</td>\n",
       "      <td>BOOKS</td>\n",
       "      <td>0.000</td>\n",
       "      <td>0</td>\n",
       "      <td>Holiday</td>\n",
       "      <td>National</td>\n",
       "      <td>Ecuador</td>\n",
       "      <td>Carnaval</td>\n",
       "      <td>False</td>\n",
       "      <td>29.709999</td>\n",
       "      <td>2016</td>\n",
       "      <td>2</td>\n",
       "      <td>Monday</td>\n",
       "      <td>NaN</td>\n",
       "    </tr>\n",
       "    <tr>\n",
       "      <th>...</th>\n",
       "      <td>...</td>\n",
       "      <td>...</td>\n",
       "      <td>...</td>\n",
       "      <td>...</td>\n",
       "      <td>...</td>\n",
       "      <td>...</td>\n",
       "      <td>...</td>\n",
       "      <td>...</td>\n",
       "      <td>...</td>\n",
       "      <td>...</td>\n",
       "      <td>...</td>\n",
       "      <td>...</td>\n",
       "      <td>...</td>\n",
       "      <td>...</td>\n",
       "      <td>...</td>\n",
       "      <td>...</td>\n",
       "      <td>...</td>\n",
       "      <td>...</td>\n",
       "      <td>...</td>\n",
       "    </tr>\n",
       "    <tr>\n",
       "      <th>2016-12-23</th>\n",
       "      <td>54</td>\n",
       "      <td>El Carmen</td>\n",
       "      <td>Manabi</td>\n",
       "      <td>C</td>\n",
       "      <td>3</td>\n",
       "      <td>2583763</td>\n",
       "      <td>POULTRY</td>\n",
       "      <td>229.418</td>\n",
       "      <td>7</td>\n",
       "      <td>Additional</td>\n",
       "      <td>National</td>\n",
       "      <td>Ecuador</td>\n",
       "      <td>Navidad-2</td>\n",
       "      <td>False</td>\n",
       "      <td>52.009998</td>\n",
       "      <td>2016</td>\n",
       "      <td>12</td>\n",
       "      <td>Friday</td>\n",
       "      <td>NaN</td>\n",
       "    </tr>\n",
       "    <tr>\n",
       "      <th>2016-12-23</th>\n",
       "      <td>54</td>\n",
       "      <td>El Carmen</td>\n",
       "      <td>Manabi</td>\n",
       "      <td>C</td>\n",
       "      <td>3</td>\n",
       "      <td>2583764</td>\n",
       "      <td>PREPARED FOODS</td>\n",
       "      <td>64.000</td>\n",
       "      <td>0</td>\n",
       "      <td>Additional</td>\n",
       "      <td>National</td>\n",
       "      <td>Ecuador</td>\n",
       "      <td>Navidad-2</td>\n",
       "      <td>False</td>\n",
       "      <td>52.009998</td>\n",
       "      <td>2016</td>\n",
       "      <td>12</td>\n",
       "      <td>Friday</td>\n",
       "      <td>NaN</td>\n",
       "    </tr>\n",
       "    <tr>\n",
       "      <th>2016-12-23</th>\n",
       "      <td>54</td>\n",
       "      <td>El Carmen</td>\n",
       "      <td>Manabi</td>\n",
       "      <td>C</td>\n",
       "      <td>3</td>\n",
       "      <td>2583765</td>\n",
       "      <td>PRODUCE</td>\n",
       "      <td>904.609</td>\n",
       "      <td>2</td>\n",
       "      <td>Additional</td>\n",
       "      <td>National</td>\n",
       "      <td>Ecuador</td>\n",
       "      <td>Navidad-2</td>\n",
       "      <td>False</td>\n",
       "      <td>52.009998</td>\n",
       "      <td>2016</td>\n",
       "      <td>12</td>\n",
       "      <td>Friday</td>\n",
       "      <td>NaN</td>\n",
       "    </tr>\n",
       "    <tr>\n",
       "      <th>2016-12-23</th>\n",
       "      <td>54</td>\n",
       "      <td>El Carmen</td>\n",
       "      <td>Manabi</td>\n",
       "      <td>C</td>\n",
       "      <td>3</td>\n",
       "      <td>2583766</td>\n",
       "      <td>SCHOOL AND OFFICE SUPPLIES</td>\n",
       "      <td>0.000</td>\n",
       "      <td>0</td>\n",
       "      <td>Additional</td>\n",
       "      <td>National</td>\n",
       "      <td>Ecuador</td>\n",
       "      <td>Navidad-2</td>\n",
       "      <td>False</td>\n",
       "      <td>52.009998</td>\n",
       "      <td>2016</td>\n",
       "      <td>12</td>\n",
       "      <td>Friday</td>\n",
       "      <td>NaN</td>\n",
       "    </tr>\n",
       "    <tr>\n",
       "      <th>2016-12-23</th>\n",
       "      <td>54</td>\n",
       "      <td>El Carmen</td>\n",
       "      <td>Manabi</td>\n",
       "      <td>C</td>\n",
       "      <td>3</td>\n",
       "      <td>2583767</td>\n",
       "      <td>SEAFOOD</td>\n",
       "      <td>1.000</td>\n",
       "      <td>0</td>\n",
       "      <td>Additional</td>\n",
       "      <td>National</td>\n",
       "      <td>Ecuador</td>\n",
       "      <td>Navidad-2</td>\n",
       "      <td>False</td>\n",
       "      <td>52.009998</td>\n",
       "      <td>2016</td>\n",
       "      <td>12</td>\n",
       "      <td>Friday</td>\n",
       "      <td>NaN</td>\n",
       "    </tr>\n",
       "  </tbody>\n",
       "</table>\n",
       "<p>98010 rows × 19 columns</p>\n",
       "</div>"
      ],
      "text/plain": [
       "            store_nbr       city      state type  cluster       id  \\\n",
       "date                                                                 \n",
       "2016-02-08          1      Quito  Pichincha    D       13  2013660   \n",
       "2016-02-08          1      Quito  Pichincha    D       13  2013661   \n",
       "2016-02-08          1      Quito  Pichincha    D       13  2013662   \n",
       "2016-02-08          1      Quito  Pichincha    D       13  2013663   \n",
       "2016-02-08          1      Quito  Pichincha    D       13  2013664   \n",
       "...               ...        ...        ...  ...      ...      ...   \n",
       "2016-12-23         54  El Carmen     Manabi    C        3  2583763   \n",
       "2016-12-23         54  El Carmen     Manabi    C        3  2583764   \n",
       "2016-12-23         54  El Carmen     Manabi    C        3  2583765   \n",
       "2016-12-23         54  El Carmen     Manabi    C        3  2583766   \n",
       "2016-12-23         54  El Carmen     Manabi    C        3  2583767   \n",
       "\n",
       "                                family    sales  onpromotion holiday_type  \\\n",
       "date                                                                        \n",
       "2016-02-08                  AUTOMOTIVE    0.000            0      Holiday   \n",
       "2016-02-08                   BABY CARE    0.000            0      Holiday   \n",
       "2016-02-08                      BEAUTY    4.000            0      Holiday   \n",
       "2016-02-08                   BEVERAGES  531.000           17      Holiday   \n",
       "2016-02-08                       BOOKS    0.000            0      Holiday   \n",
       "...                                ...      ...          ...          ...   \n",
       "2016-12-23                     POULTRY  229.418            7   Additional   \n",
       "2016-12-23              PREPARED FOODS   64.000            0   Additional   \n",
       "2016-12-23                     PRODUCE  904.609            2   Additional   \n",
       "2016-12-23  SCHOOL AND OFFICE SUPPLIES    0.000            0   Additional   \n",
       "2016-12-23                     SEAFOOD    1.000            0   Additional   \n",
       "\n",
       "              locale locale_name description  transferred  dcoilwtico  year  \\\n",
       "date                                                                          \n",
       "2016-02-08  National     Ecuador    Carnaval        False   29.709999  2016   \n",
       "2016-02-08  National     Ecuador    Carnaval        False   29.709999  2016   \n",
       "2016-02-08  National     Ecuador    Carnaval        False   29.709999  2016   \n",
       "2016-02-08  National     Ecuador    Carnaval        False   29.709999  2016   \n",
       "2016-02-08  National     Ecuador    Carnaval        False   29.709999  2016   \n",
       "...              ...         ...         ...          ...         ...   ...   \n",
       "2016-12-23  National     Ecuador   Navidad-2        False   52.009998  2016   \n",
       "2016-12-23  National     Ecuador   Navidad-2        False   52.009998  2016   \n",
       "2016-12-23  National     Ecuador   Navidad-2        False   52.009998  2016   \n",
       "2016-12-23  National     Ecuador   Navidad-2        False   52.009998  2016   \n",
       "2016-12-23  National     Ecuador   Navidad-2        False   52.009998  2016   \n",
       "\n",
       "            month weekday name  store_per_city  \n",
       "date                                            \n",
       "2016-02-08      2       Monday             NaN  \n",
       "2016-02-08      2       Monday             NaN  \n",
       "2016-02-08      2       Monday             NaN  \n",
       "2016-02-08      2       Monday             NaN  \n",
       "2016-02-08      2       Monday             NaN  \n",
       "...           ...          ...             ...  \n",
       "2016-12-23     12       Friday             NaN  \n",
       "2016-12-23     12       Friday             NaN  \n",
       "2016-12-23     12       Friday             NaN  \n",
       "2016-12-23     12       Friday             NaN  \n",
       "2016-12-23     12       Friday             NaN  \n",
       "\n",
       "[98010 rows x 19 columns]"
      ]
     },
     "execution_count": 499,
     "metadata": {},
     "output_type": "execute_result"
    }
   ],
   "source": [
    "data_final.loc[\"2016\"]"
   ]
  },
  {
   "cell_type": "markdown",
   "id": "ef2c86d8",
   "metadata": {},
   "source": [
    "## What are the most usable family products"
   ]
  },
  {
   "cell_type": "code",
   "execution_count": 483,
   "id": "1e8861fc",
   "metadata": {},
   "outputs": [
    {
     "data": {
      "text/plain": [
       "<AxesSubplot:xlabel='family'>"
      ]
     },
     "execution_count": 483,
     "metadata": {},
     "output_type": "execute_result"
    },
    {
     "data": {
      "image/png": "[encoded data removed]",
      "text/plain": [
       "<Figure size 640x480 with 1 Axes>"
      ]
     },
     "metadata": {},
     "output_type": "display_data"
    }
   ],
   "source": [
    "data_final.groupby(\"family\").mean()[\"sales\"].sort_values(ascending = False)[:10].plot(kind = \"bar\" , grid = True)"
   ]
  },
  {
   "cell_type": "markdown",
   "id": "0876123a",
   "metadata": {},
   "source": [
    "## Grocery I and Beverages are the most usable products"
   ]
  },
  {
   "cell_type": "markdown",
   "id": "f817b376",
   "metadata": {},
   "source": [
    "# Feature Engineering"
   ]
  },
  {
   "cell_type": "code",
   "execution_count": 420,
   "id": "795ce866",
   "metadata": {},
   "outputs": [
    {
     "data": {
      "text/plain": [
       "Index(['store_nbr', 'city', 'state', 'type', 'cluster', 'id', 'family',\n",
       "       'sales', 'onpromotion', 'holiday_type', 'locale', 'locale_name',\n",
       "       'description', 'transferred', 'dcoilwtico', 'year', 'month',\n",
       "       'weekday name'],\n",
       "      dtype='object')"
      ]
     },
     "execution_count": 420,
     "metadata": {},
     "output_type": "execute_result"
    }
   ],
   "source": [
    "data_final.columns"
   ]
  },
  {
   "cell_type": "code",
   "execution_count": 427,
   "id": "8a1e8d53",
   "metadata": {},
   "outputs": [
    {
     "data": {
      "text/plain": [
       "322542"
      ]
     },
     "execution_count": 427,
     "metadata": {},
     "output_type": "execute_result"
    }
   ],
   "source": [
    "data_final.city.value_counts().sum()"
   ]
  },
  {
   "cell_type": "code",
   "execution_count": 429,
   "id": "a7f36236",
   "metadata": {},
   "outputs": [],
   "source": [
    "\n",
    "data_final[\"store_per_city\"] = data_final.store_nbr.value_counts() / data_final.city.value_counts()"
   ]
  },
  {
   "cell_type": "code",
   "execution_count": null,
   "id": "1da20f34",
   "metadata": {},
   "outputs": [],
   "source": []
  },
  {
   "cell_type": "code",
   "execution_count": null,
   "id": "c2403125",
   "metadata": {},
   "outputs": [],
   "source": []
  },
  {
   "cell_type": "code",
   "execution_count": null,
   "id": "635a79a9",
   "metadata": {},
   "outputs": [],
   "source": []
  },
  {
   "cell_type": "code",
   "execution_count": null,
   "id": "252f8eb1",
   "metadata": {},
   "outputs": [],
   "source": []
  },
  {
   "cell_type": "code",
   "execution_count": null,
   "id": "67d08f9b",
   "metadata": {},
   "outputs": [],
   "source": []
  },
  {
   "cell_type": "code",
   "execution_count": null,
   "id": "1dd4ab56",
   "metadata": {},
   "outputs": [],
   "source": []
  },
  {
   "cell_type": "code",
   "execution_count": null,
   "id": "215bb54d",
   "metadata": {},
   "outputs": [],
   "source": []
  },
  {
   "cell_type": "code",
   "execution_count": null,
   "id": "9aca8cf9",
   "metadata": {},
   "outputs": [],
   "source": []
  },
  {
   "cell_type": "code",
   "execution_count": null,
   "id": "ccb5bb11",
   "metadata": {},
   "outputs": [],
   "source": []
  }
 ],
 "metadata": {
  "kernelspec": {
   "display_name": "Python 3 (ipykernel)",
   "language": "python",
   "name": "python3"
  },
  "language_info": {
   "codemirror_mode": {
    "name": "ipython",
    "version": 3
   },
   "file_extension": ".py",
   "mimetype": "text/x-python",
   "name": "python",
   "nbconvert_exporter": "python",
   "pygments_lexer": "ipython3",
   "version": "3.9.13"
  }
 },
 "nbformat": 4,
 "nbformat_minor": 5
}
